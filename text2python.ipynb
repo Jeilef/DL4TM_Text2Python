{
  "nbformat": 4,
  "nbformat_minor": 0,
  "metadata": {
    "colab": {
      "name": "text2python.ipynb",
      "provenance": []
    },
    "kernelspec": {
      "display_name": "Python 3",
      "language": "python",
      "name": "python3"
    },
    "language_info": {
      "codemirror_mode": {
        "name": "ipython",
        "version": 3
      },
      "file_extension": ".py",
      "mimetype": "text/x-python",
      "name": "python",
      "nbconvert_exporter": "python",
      "pygments_lexer": "ipython3",
      "version": "3.8.3"
    }
  },
  "cells": [
    {
      "cell_type": "code",
      "metadata": {
        "colab": {
          "base_uri": "https://localhost:8080/"
        },
        "id": "0PWqFit9fVxs",
        "outputId": "3b06660c-c707-45fa-e72e-cc9efe1dc7cf"
      },
      "source": [
        "!pip install --quiet tensorflow-text\n",
        "# Clone the entire repo.\n",
        "%cd /content/\n",
        "!rm -r -f dl4tm\n",
        "!git clone git://github.com/Jeilef/DL4TM_Text2Python.git dl4tm\n",
        "%cd dl4tm\n",
        "!ls"
      ],
      "execution_count": 11,
      "outputs": [
        {
          "output_type": "stream",
          "text": [
            "/content\n",
            "Cloning into 'dl4tm'...\n",
            "remote: Enumerating objects: 64, done.\u001b[K\n",
            "remote: Counting objects: 100% (64/64), done.\u001b[K\n",
            "remote: Compressing objects: 100% (48/48), done.\u001b[K\n",
            "remote: Total 64 (delta 27), reused 40 (delta 13), pack-reused 0\u001b[K\n",
            "Receiving objects: 100% (64/64), 383.39 KiB | 5.64 MiB/s, done.\n",
            "Resolving deltas: 100% (27/27), done.\n",
            "/content/dl4tm\n",
            "conala-corpus-v1.1  README.md\t      text2python.ipynb  transformer_util.py\n",
            "google.ipynb\t    requirements.txt  transformer.ipynb\n"
          ],
          "name": "stdout"
        }
      ]
    },
    {
      "cell_type": "code",
      "metadata": {
        "id": "xGOg39-ahQmx"
      },
      "source": [
        "import numpy as np\n",
        "import json\n",
        "import logging\n",
        "from tokenize import tokenize\n",
        "from io import BytesIO\n",
        "import tensorflow_hub as hub\n",
        "import tensorflow as tf\n",
        "import tensorflow.keras as keras\n",
        "import tensorflow_text # See https://github.com/tensorflow/hub/issues/463"
      ],
      "execution_count": 12,
      "outputs": []
    },
    {
      "cell_type": "code",
      "metadata": {
        "id": "DqF4TDec1Wyy"
      },
      "source": [
        "logging.getLogger('tensorflow').setLevel(logging.ERROR)  # suppress warnings"
      ],
      "execution_count": 13,
      "outputs": []
    },
    {
      "cell_type": "code",
      "metadata": {
        "colab": {
          "base_uri": "https://localhost:8080/"
        },
        "id": "uiGAS3YofVxx",
        "pycharm": {
          "name": "#%%\n"
        },
        "outputId": "081bfb1e-187d-4ea1-f63b-03a84e86f017"
      },
      "source": [
        "train_file = open(\"conala-corpus-v1.1/conala-corpus/conala-train.json\", \"r\")\n",
        "train_json = json.load(train_file)\n",
        "\n",
        "print(len(train_json))\n",
        "print(train_json[0])"
      ],
      "execution_count": 14,
      "outputs": [
        {
          "output_type": "stream",
          "text": [
            "2379\n",
            "{'intent': 'How to convert a list of multiple integers into a single integer?', 'rewritten_intent': \"Concatenate elements of a list 'x' of multiple integers to a single integer\", 'snippet': 'sum(d * 10 ** i for i, d in enumerate(x[::-1]))', 'question_id': 41067960}\n"
          ],
          "name": "stdout"
        }
      ]
    },
    {
      "cell_type": "code",
      "metadata": {
        "colab": {
          "base_uri": "https://localhost:8080/"
        },
        "id": "3JqfNJUPfVxx",
        "pycharm": {
          "name": "#%%\n"
        },
        "outputId": "660a1c3f-787e-467a-e74a-ed07bc74cecb"
      },
      "source": [
        "base_sentences = [item[\"rewritten_intent\"] for item in train_json]\n",
        "codes = [item[\"snippet\"] for item in train_json]\n",
        "\n",
        "print(base_sentences[0])\n",
        "print(codes[0])"
      ],
      "execution_count": 15,
      "outputs": [
        {
          "output_type": "stream",
          "text": [
            "Concatenate elements of a list 'x' of multiple integers to a single integer\n",
            "sum(d * 10 ** i for i, d in enumerate(x[::-1]))\n"
          ],
          "name": "stdout"
        }
      ]
    },
    {
      "cell_type": "code",
      "metadata": {
        "id": "KibwTxmy1Wy2",
        "outputId": "4129eaac-e9fd-42f4-caf5-9a918a12edf5",
        "colab": {
          "base_uri": "https://localhost:8080/"
        }
      },
      "source": [
        "# Use custom tokenize function for code snippets\n",
        "def tokenize_python(s):\n",
        "    tokenized = tokenize(BytesIO(s.numpy()).readline)\n",
        "    tokens = [token[1] for token in tokenized]\n",
        "    tensor = tf.convert_to_tensor(tokens, dtype=tf.string)\n",
        "    \n",
        "    return tensor\n",
        "\n",
        "example = tf.constant(codes[0])\n",
        "tokenize_python(example)"
      ],
      "execution_count": 16,
      "outputs": [
        {
          "output_type": "execute_result",
          "data": {
            "text/plain": [
              "<tf.Tensor: shape=(26,), dtype=string, numpy=\n",
              "array([b'utf-8', b'sum', b'(', b'd', b'*', b'10', b'**', b'i', b'for',\n",
              "       b'i', b',', b'd', b'in', b'enumerate', b'(', b'x', b'[', b':',\n",
              "       b':', b'-', b'1', b']', b')', b')', b'', b''], dtype=object)>"
            ]
          },
          "metadata": {
            "tags": []
          },
          "execution_count": 16
        }
      ]
    },
    {
      "cell_type": "code",
      "metadata": {
        "id": "eHg_F8mO1Wy2"
      },
      "source": [
        "data = tf.data.Dataset.from_tensor_slices(codes)\n",
        "data = data.map(lambda x : tf.py_function(func=tokenize_python, inp=[x], Tout=tf.string))\n",
        "\n",
        "code_chars = set()\n",
        "for tokens in data:\n",
        "  for c in tokens:\n",
        "    code_chars.add(c.numpy())\n",
        "\n",
        "code_chars = sorted(list(code_chars))\n",
        "code_idx_to_char = {}\n",
        "code_char_to_idx = {}\n",
        "for idx, cc in enumerate(code_chars):\n",
        "  code_idx_to_char[idx] = cc\n",
        "  code_char_to_idx[cc] = idx\n",
        "\n",
        "max_code_len = max([len(line) for line in codes])\n",
        "tokenized_codes = np.zeros(shape=(len(codes), max_code_len, len(code_chars)))\n",
        "targets = np.zeros(shape=(len(codes), max_code_len, len(code_chars)), dtype=\"float32\")\n",
        "\n",
        "for i in range(len(codes)):\n",
        "  for k, ch in enumerate(codes[i]):\n",
        "    tokenized_codes[i, k, code_char_to_idx[ch]] = 1\n",
        "    if k > 0:\n",
        "      targets[i, k, code_char_to_idx[ch]] = 1"
      ],
      "execution_count": null,
      "outputs": []
    },
    {
      "cell_type": "code",
      "metadata": {
        "id": "-3L7pM-RfVxy",
        "pycharm": {
          "name": "#%%\n"
        }
      },
      "source": [
        "# Pretrained BERT encoder\n",
        "text_input = tf.keras.layers.Input(shape=(), dtype=tf.string)\n",
        "preprocessor = hub.KerasLayer(\"https://tfhub.dev/tensorflow/bert_en_uncased_preprocess/3\")\n",
        "encoder_inputs = preprocessor(text_input)\n",
        "encoder = hub.KerasLayer(\"https://tfhub.dev/tensorflow/small_bert/bert_en_uncased_L-2_H-128_A-2/1\", trainable=True)\n",
        "outputs = encoder(encoder_inputs)\n",
        "pooled_output = outputs[\"pooled_output\"]      # [batch_size, 128].\n",
        "sequence_output = outputs[\"sequence_output\"]  # [batch_size, seq_length, 128]."
      ],
      "execution_count": null,
      "outputs": []
    },
    {
      "cell_type": "code",
      "metadata": {
        "id": "JSdbgumH1Wy5"
      },
      "source": [
        "# Transformer Decoder  taken from https://www.tensorflow.org/tutorials/text/transformer\n",
        "from transformer_util import Decoder\n",
        "output_tokens = 8000\n",
        "sample_decoder = Decoder(num_layers=2, d_model=128, num_heads=2,\n",
        "                         dff=128, target_vocab_size=output_tokens,\n",
        "                         maximum_position_encoding=5000)\n",
        "\n",
        "decoder_input = tf.keras.layers.Input(shape=(None, ), dtype=tf.string)\n",
        "\n",
        "vectorize_layer = keras.layers.experimental.preprocessing.StringLookup(max_tokens=output_tokens)\n",
        "vectorize_layer.adapt(data)\n",
        "\n",
        "vectorized_input = vectorize_layer(decoder_input)\n",
        "\n",
        "decoder_output, attn = sample_decoder(vectorized_input,\n",
        "                              enc_output=sequence_output,\n",
        "                              training=False,\n",
        "                              look_ahead_mask=None,\n",
        "                              padding_mask=None)\n",
        "final_layer = tf.keras.layers.Dense(output_tokens)\n",
        "output = final_layer(decoder_output)\n",
        "\n",
        "\n",
        "embedding_model = tf.keras.Model((text_input, decoder_input), output)"
      ],
      "execution_count": null,
      "outputs": []
    },
    {
      "cell_type": "code",
      "metadata": {
        "id": "8l8a0KPm1Wy5"
      },
      "source": [
        "sentence = tf.constant([train_json[0][\"rewritten_intent\"]])\n",
        "snippet = tf.constant(train_json[0][\"snippet\"])\n",
        "snippet = tf.py_function(func=tokenize_python, inp=[snippet], Tout=tf.string)\n",
        "snippet = tf.expand_dims(snippet, axis=0)\n",
        "print(sentence.shape, snippet.shape)\n",
        "result = embedding_model((sentence, snippet))\n",
        "result"
      ],
      "execution_count": null,
      "outputs": []
    },
    {
      "cell_type": "code",
      "metadata": {
        "id": "-J55QVWD1Wy6"
      },
      "source": [
        "# TODO: Preprocess code samples\n",
        "# TODO: Set up masking\n",
        "# TODO: Run training"
      ],
      "execution_count": null,
      "outputs": []
    },
    {
      "cell_type": "code",
      "metadata": {
        "id": "Lh7xlN_11Wy8"
      },
      "source": [
        "embedding_model.compile(optimizer=\"adam\", loss=\"categorical_crossentropy\")\r\n",
        "embedding_model.fit(x=[base_sentences, tokenized_codes], y=[targets], batch_size=16)"
      ],
      "execution_count": null,
      "outputs": []
    }
  ]
}