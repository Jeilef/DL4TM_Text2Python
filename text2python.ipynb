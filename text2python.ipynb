{
 "cells": [
  {
   "cell_type": "code",
   "execution_count": null,
   "metadata": {
    "colab": {
     "base_uri": "https://localhost:8080/"
    },
    "id": "0PWqFit9fVxs",
    "outputId": "13028707-3a9e-4a53-aa1e-2955816d5dfd"
   },
   "outputs": [],
   "source": [
    "!pip install --quiet tensorflow-text\n",
    "# Clone the entire repo.\n",
    "%cd /content/\n",
    "!rm -r -f dl4tm\n",
    "!git clone git://github.com/Jeilef/DL4TM_Text2Python.git dl4tm\n",
    "%cd dl4tm\n",
    "!ls"
   ]
  },
  {
   "cell_type": "code",
   "execution_count": 7,
   "metadata": {
    "id": "xGOg39-ahQmx"
   },
   "outputs": [],
   "source": [
    "import numpy as np\n",
    "import json\n",
    "import logging\n",
    "import tensorflow_hub as hub\n",
    "import tensorflow as tf\n",
    "import tensorflow_text # See https://github.com/tensorflow/hub/issues/463"
   ]
  },
  {
   "cell_type": "code",
   "execution_count": 8,
   "metadata": {},
   "outputs": [],
   "source": [
    "logging.getLogger('tensorflow').setLevel(logging.ERROR)  # suppress warnings"
   ]
  },
  {
   "cell_type": "code",
   "execution_count": 2,
   "metadata": {
    "colab": {
     "base_uri": "https://localhost:8080/"
    },
    "id": "uiGAS3YofVxx",
    "outputId": "eebde498-a5a9-4152-ab44-0e959cc7dcf2",
    "pycharm": {
     "name": "#%%\n"
    }
   },
   "outputs": [
    {
     "name": "stdout",
     "output_type": "stream",
     "text": [
      "2379\n",
      "{'intent': 'How to convert a list of multiple integers into a single integer?', 'rewritten_intent': \"Concatenate elements of a list 'x' of multiple integers to a single integer\", 'snippet': 'sum(d * 10 ** i for i, d in enumerate(x[::-1]))', 'question_id': 41067960}\n"
     ]
    }
   ],
   "source": [
    "train_file = open(\"conala-corpus-v1.1/conala-corpus/conala-train.json\", \"r\")\n",
    "train_json = json.load(train_file)\n",
    "\n",
    "print(len(train_json))\n",
    "print(train_json[0])"
   ]
  },
  {
   "cell_type": "code",
   "execution_count": 3,
   "metadata": {
    "colab": {
     "base_uri": "https://localhost:8080/"
    },
    "id": "3JqfNJUPfVxx",
    "outputId": "cf5c2f0c-23c2-47f7-825c-9d67b0d025ae",
    "pycharm": {
     "name": "#%%\n"
    }
   },
   "outputs": [
    {
     "name": "stdout",
     "output_type": "stream",
     "text": [
      "How to convert a list of multiple integers into a single integer?\n",
      "sum(d * 10 ** i for i, d in enumerate(x[::-1]))\n"
     ]
    }
   ],
   "source": [
    "base_sentences = [item[\"intent\"] for item in train_json]\n",
    "codes = [item[\"snippet\"] for item in train_json]\n",
    "\n",
    "print(base_sentences[0])\n",
    "print(codes[0])"
   ]
  },
  {
   "cell_type": "code",
   "execution_count": 17,
   "metadata": {
    "id": "-3L7pM-RfVxy",
    "pycharm": {
     "name": "#%%\n"
    }
   },
   "outputs": [
    {
     "name": "stdout",
     "output_type": "stream",
     "text": [
      "tf.Tensor(\n",
      "[[[-1.3101449   0.02224976 -2.4941747  ... -0.9011016  -1.2354522\n",
      "   -0.47412774]\n",
      "  [-2.1429274  -0.37572432 -0.42352897 ... -2.256411   -2.7875555\n",
      "    0.11143181]\n",
      "  [-1.5082821  -0.432453   -0.30818245 ... -1.7291834  -0.9929765\n",
      "   -0.16822301]\n",
      "  ...\n",
      "  [-1.224653   -0.35186255 -0.24392751 ... -1.4310317  -1.0778803\n",
      "    0.92555493]\n",
      "  [-1.1960835   0.00612556 -0.3530901  ... -1.0848111  -1.195029\n",
      "    0.92324764]\n",
      "  [-0.977689    0.05358659 -0.50089896 ... -0.9360498  -1.302382\n",
      "    0.7090657 ]]\n",
      "\n",
      " [[-1.1281638   0.4898095  -2.6764565  ... -0.12474971  0.25346345\n",
      "   -0.33696735]\n",
      "  [-1.3290354   0.4153836  -0.8495089  ... -0.2951286  -0.15117727\n",
      "    0.07448988]\n",
      "  [-1.2831266  -0.00796435  0.22752291 ... -1.0752413  -0.26373333\n",
      "    0.05724901]\n",
      "  ...\n",
      "  [-1.2007624  -0.47225767  0.05070373 ... -1.0925945   0.71441954\n",
      "    0.86031246]\n",
      "  [-0.993935    0.12878755 -0.16948964 ... -1.0883722   0.25889325\n",
      "    1.1489222 ]\n",
      "  [-1.0162177   0.6680834  -0.2553135  ... -0.91790366 -0.13104461\n",
      "    1.1781212 ]]\n",
      "\n",
      " [[-1.05704     0.28574723 -3.1759202  ... -0.74104774 -0.72421366\n",
      "   -0.55281365]\n",
      "  [-1.6309104   0.2243694  -0.2746691  ... -2.1629066  -0.6845646\n",
      "    0.72208184]\n",
      "  [-1.1493608  -0.08201152 -0.23742568 ... -1.2880778  -1.6183969\n",
      "    0.07920196]\n",
      "  ...\n",
      "  [-1.5180874  -0.31344008 -0.2461046  ... -1.9990174  -0.2416732\n",
      "    0.8107566 ]\n",
      "  [-1.2931951  -0.17012846  0.08848771 ... -1.7002918  -0.32444254\n",
      "    0.78788567]\n",
      "  [-1.0969075  -0.00343225 -0.07265103 ... -1.2929641  -0.95526135\n",
      "    0.80909467]]], shape=(3, 128, 128), dtype=float32)\n"
     ]
    }
   ],
   "source": [
    "text_input = tf.keras.layers.Input(shape=(), dtype=tf.string)\n",
    "preprocessor = hub.KerasLayer(\"https://tfhub.dev/tensorflow/bert_en_uncased_preprocess/3\")\n",
    "encoder_inputs = preprocessor(text_input)\n",
    "encoder = hub.KerasLayer(\"https://tfhub.dev/tensorflow/small_bert/bert_en_uncased_L-2_H-128_A-2/1\", trainable=True)\n",
    "outputs = encoder(encoder_inputs)\n",
    "pooled_output = outputs[\"pooled_output\"]      # [batch_size, 128].\n",
    "sequence_output = outputs[\"sequence_output\"]  # [batch_size, seq_length, 128].\n",
    "\n",
    "embedding_model = tf.keras.Model(text_input, sequence_output)\n",
    "sentences = tf.constant([\"Hello World!\", \"How are you?\", \"(your text here)\"])\n",
    "embedding = embedding_model(sentences)\n",
    "# tf.keras.utils.plot_model(embedding_model)\n",
    "print(embedding)"
   ]
  },
  {
   "cell_type": "code",
   "execution_count": 18,
   "metadata": {},
   "outputs": [
    {
     "data": {
      "text/plain": [
       "(TensorShape([3, 26, 128]), TensorShape([3, 2, 26, 128]))"
      ]
     },
     "execution_count": 18,
     "metadata": {},
     "output_type": "execute_result"
    }
   ],
   "source": [
    "sample_decoder = Decoder(num_layers=2, d_model=128, num_heads=2,\n",
    "                         dff=128, target_vocab_size=8000,\n",
    "                         maximum_position_encoding=5000)\n",
    "temp_input = tf.random.uniform((3, 26), dtype=tf.int64, minval=0, maxval=200)\n",
    "\n",
    "output, attn = sample_decoder(temp_input,\n",
    "                              enc_output=embedding,\n",
    "                              training=False,\n",
    "                              look_ahead_mask=None,\n",
    "                              padding_mask=None)\n",
    "\n",
    "output.shape, attn['decoder_layer2_block2'].shape"
   ]
  }
 ],
 "metadata": {
  "colab": {
   "name": "text2python.ipynb",
   "provenance": []
  },
  "kernelspec": {
   "display_name": "Python 3",
   "language": "python",
   "name": "python3"
  },
  "language_info": {
   "codemirror_mode": {
    "name": "ipython",
    "version": 3
   },
   "file_extension": ".py",
   "mimetype": "text/x-python",
   "name": "python",
   "nbconvert_exporter": "python",
   "pygments_lexer": "ipython3",
   "version": "3.8.3"
  }
 },
 "nbformat": 4,
 "nbformat_minor": 1
}
