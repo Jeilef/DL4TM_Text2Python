{
  "nbformat": 4,
  "nbformat_minor": 0,
  "metadata": {
    "colab": {
      "name": "text2python.ipynb",
      "provenance": []
    },
    "kernelspec": {
      "display_name": "Python 3",
      "language": "python",
      "name": "python3"
    },
    "language_info": {
      "codemirror_mode": {
        "name": "ipython",
        "version": 3
      },
      "file_extension": ".py",
      "mimetype": "text/x-python",
      "name": "python",
      "nbconvert_exporter": "python",
      "pygments_lexer": "ipython3",
      "version": "3.8.3"
    }
  },
  "cells": [
    {
      "cell_type": "code",
      "metadata": {
        "colab": {
          "base_uri": "https://localhost:8080/"
        },
        "id": "0PWqFit9fVxs",
        "outputId": "bf064e2e-e275-4c5a-a8b7-41b0527037d7"
      },
      "source": [
        "!pip install --quiet tensorflow-text\n",
        "# Clone the entire repo.\n",
        "%cd /content/\n",
        "!rm -r -f dl4tm\n",
        "!git clone git://github.com/Jeilef/DL4TM_Text2Python.git dl4tm\n",
        "%cd dl4tm\n",
        "!ls"
      ],
      "execution_count": 2,
      "outputs": [
        {
          "output_type": "stream",
          "text": [
            "/content\n",
            "Cloning into 'dl4tm'...\n",
            "remote: Enumerating objects: 67, done.\u001b[K\n",
            "remote: Counting objects: 100% (67/67), done.\u001b[K\n",
            "remote: Compressing objects: 100% (51/51), done.\u001b[K\n",
            "remote: Total 67 (delta 29), reused 39 (delta 13), pack-reused 0\u001b[K\n",
            "Receiving objects: 100% (67/67), 385.77 KiB | 1.89 MiB/s, done.\n",
            "Resolving deltas: 100% (29/29), done.\n",
            "/content/dl4tm\n",
            "conala-corpus-v1.1  README.md\t      text2python.ipynb  transformer_util.py\n",
            "google.ipynb\t    requirements.txt  transformer.ipynb\n"
          ],
          "name": "stdout"
        }
      ]
    },
    {
      "cell_type": "code",
      "metadata": {
        "id": "xGOg39-ahQmx"
      },
      "source": [
        "import numpy as np\n",
        "import json\n",
        "import logging\n",
        "from tokenize import tokenize\n",
        "from io import BytesIO\n",
        "import tensorflow_hub as hub\n",
        "import tensorflow as tf\n",
        "import tensorflow.keras as keras\n",
        "import tensorflow_text # See https://github.com/tensorflow/hub/issues/463"
      ],
      "execution_count": 3,
      "outputs": []
    },
    {
      "cell_type": "code",
      "metadata": {
        "id": "72O-_UMNhvZF"
      },
      "source": [
        "logging.getLogger('tensorflow').setLevel(logging.ERROR)  # suppress warnings"
      ],
      "execution_count": 4,
      "outputs": []
    },
    {
      "cell_type": "code",
      "metadata": {
        "colab": {
          "base_uri": "https://localhost:8080/"
        },
        "id": "uiGAS3YofVxx",
        "pycharm": {
          "name": "#%%\n"
        },
        "outputId": "91163295-955f-456e-ad0c-8159998bf43a"
      },
      "source": [
        "train_file = open(\"conala-corpus-v1.1/conala-corpus/conala-train.json\", \"r\")\n",
        "train_json = json.load(train_file)\n",
        "\n",
        "print(len(train_json))\n",
        "print(train_json[0])"
      ],
      "execution_count": 5,
      "outputs": [
        {
          "output_type": "stream",
          "text": [
            "2379\n",
            "{'intent': 'How to convert a list of multiple integers into a single integer?', 'rewritten_intent': \"Concatenate elements of a list 'x' of multiple integers to a single integer\", 'snippet': 'sum(d * 10 ** i for i, d in enumerate(x[::-1]))', 'question_id': 41067960}\n"
          ],
          "name": "stdout"
        }
      ]
    },
    {
      "cell_type": "code",
      "metadata": {
        "colab": {
          "base_uri": "https://localhost:8080/"
        },
        "id": "3JqfNJUPfVxx",
        "pycharm": {
          "name": "#%%\n"
        },
        "outputId": "98f9b194-fb5d-45fa-a7d1-701f79912921"
      },
      "source": [
        "base_sentences = np.array([item[\"rewritten_intent\"] for item in train_json])\n",
        "codes = np.array([item[\"snippet\"] for item in train_json])\n",
        "\n",
        "print(base_sentences[0])\n",
        "print(codes[0])"
      ],
      "execution_count": 76,
      "outputs": [
        {
          "output_type": "stream",
          "text": [
            "Concatenate elements of a list 'x' of multiple integers to a single integer\n",
            "sum(d * 10 ** i for i, d in enumerate(x[::-1]))\n"
          ],
          "name": "stdout"
        }
      ]
    },
    {
      "cell_type": "code",
      "metadata": {
        "id": "YwH4n9_dhvZG"
      },
      "source": [
        "# Use custom tokenize function for code snippets\n",
        "def tokenize_python(s):\n",
        "    tokenized = tokenize(BytesIO(s.numpy()).readline)\n",
        "    tokens = [token[1] for token in tokenized]\n",
        "    tensor = tf.convert_to_tensor(tokens, dtype=tf.string)\n",
        "    \n",
        "    return tensor\n",
        "\n",
        "example = tf.constant(codes[0])\n",
        "tokenize_python(example)"
      ],
      "execution_count": null,
      "outputs": []
    },
    {
      "cell_type": "code",
      "metadata": {
        "id": "c1mNMHnHhvZH"
      },
      "source": [
        "data = tf.data.Dataset.from_tensor_slices(codes)\n",
        "data = data.map(lambda x : tf.py_function(func=tokenize_python, inp=[x], Tout=tf.string))"
      ],
      "execution_count": 8,
      "outputs": []
    },
    {
      "cell_type": "code",
      "metadata": {
        "colab": {
          "base_uri": "https://localhost:8080/"
        },
        "id": "M4o3T5EwvI_Q",
        "outputId": "a981c4f5-06e1-4f1c-82c1-91ca9e62e8c5"
      },
      "source": [
        "def create_look_ahead_mask(size):\r\n",
        "  mask = 1 - tf.linalg.band_part(tf.ones((size, size)), -1, 0)\r\n",
        "  return mask\r\n",
        "\r\n",
        "def create_padding_mask(seq):\r\n",
        "  seq = tf.cast(tf.math.equal(seq, 0), tf.float32)\r\n",
        "  return seq[:, tf.newaxis, tf.newaxis, :]\r\n",
        "\r\n",
        "\r\n",
        "class DecoderMasking(tf.keras.layers.Layer):\r\n",
        "  def call(self, targets):\r\n",
        "    padded_targets = create_padding_mask(targets)\r\n",
        "    look_ahead_mask = create_look_ahead_mask(tf.shape(targets)[1])\r\n",
        "    return tf.maximum(padded_targets, look_ahead_mask)\r\n",
        "\r\n",
        "class DecoderPaddingMasked(tf.keras.layers.Layer):\r\n",
        "  def call(self, inputs):\r\n",
        "    expanded_inputs = inputs[:, tf.newaxis, tf.newaxis, :]\r\n",
        "    return tf.cast(expanded_inputs, tf.float32)\r\n",
        "\r\n",
        "example = tf.constant(codes[0])\r\n",
        "tokenized_example = tokenize_python(example)\r\n",
        "\r\n",
        "vectorize_layer = keras.layers.experimental.preprocessing.StringLookup(max_tokens=8000)\r\n",
        "vectorize_layer.adapt(data)\r\n",
        "\r\n",
        "vectorized_example = vectorize_layer(tokenized_example)\r\n",
        "\r\n",
        "masking = DecoderMasking()\r\n",
        "lam = masking(tf.convert_to_tensor(([vectorized_example])))\r\n",
        "print(lam.shape)"
      ],
      "execution_count": 95,
      "outputs": [
        {
          "output_type": "stream",
          "text": [
            "(1, 1, 26, 26)\n"
          ],
          "name": "stdout"
        }
      ]
    },
    {
      "cell_type": "code",
      "metadata": {
        "id": "-3L7pM-RfVxy",
        "pycharm": {
          "name": "#%%\n"
        }
      },
      "source": [
        "# Pretrained BERT encoder\n",
        "encoder_inputs = tf.keras.layers.Input(shape=(None,), dtype=tf.string)\n",
        "preprocessor = hub.KerasLayer(\"https://tfhub.dev/tensorflow/bert_en_uncased_preprocess/3\")\n",
        "encoder_inputs = preprocessor(text_input)\n",
        "encoder = hub.KerasLayer(\"https://tfhub.dev/tensorflow/small_bert/bert_en_uncased_L-2_H-128_A-2/1\", trainable=True)\n",
        "outputs = encoder(encoder_inputs)\n",
        "pooled_output = outputs[\"pooled_output\"]      # [batch_size, 128].\n",
        "sequence_output = outputs[\"sequence_output\"]  # [batch_size, seq_length, 128]."
      ],
      "execution_count": 82,
      "outputs": []
    },
    {
      "cell_type": "code",
      "metadata": {
        "id": "kl5cOIChhvZH",
        "outputId": "7a23f396-f977-40bd-ae35-94a33ebaa57e",
        "colab": {
          "base_uri": "https://localhost:8080/"
        }
      },
      "source": [
        "# Transformer Decoder  taken from https://www.tensorflow.org/tutorials/text/transformer\n",
        "from transformer_util import Decoder\n",
        "output_tokens = 8000\n",
        "sample_decoder = Decoder(num_layers=2, d_model=128, num_heads=2,\n",
        "                         dff=128, target_vocab_size=output_tokens,\n",
        "                         maximum_position_encoding=5000)\n",
        "\n",
        "decoder_input = tf.keras.layers.Input(shape=(None,), dtype=tf.int32)\n",
        "\n",
        "# Apply masking layer here\n",
        "look_ahead_mask = DecoderMasking()(decoder_input)\n",
        "dec_padding_mask = DecoderPaddingMasked()(encoder_inputs['input_mask'])\n",
        "\n",
        "decoder_output, attn = sample_decoder(decoder_input,\n",
        "                              enc_output=sequence_output,\n",
        "                              training=False,\n",
        "                              look_ahead_mask=look_ahead_mask,\n",
        "                              padding_mask=dec_padding_mask)\n",
        "final_layer = tf.keras.layers.Dense(output_tokens)\n",
        "output = final_layer(decoder_output)\n",
        "\n",
        "\n",
        "embedding_model = tf.keras.Model((text_input, decoder_input), output)\n",
        "embedding_model.summary()"
      ],
      "execution_count": 97,
      "outputs": [
        {
          "output_type": "stream",
          "text": [
            "Model: \"model_7\"\n",
            "__________________________________________________________________________________________________\n",
            "Layer (type)                    Output Shape         Param #     Connected to                     \n",
            "==================================================================================================\n",
            "input_6 (InputLayer)            [(None,)]            0                                            \n",
            "__________________________________________________________________________________________________\n",
            "input_16 (InputLayer)           [(None, None)]       0                                            \n",
            "__________________________________________________________________________________________________\n",
            "keras_layer_7 (KerasLayer)      {'input_word_ids': ( 0           input_6[0][0]                    \n",
            "__________________________________________________________________________________________________\n",
            "keras_layer_8 (KerasLayer)      {'encoder_outputs':  4385921     keras_layer_7[0][0]              \n",
            "                                                                 keras_layer_7[0][1]              \n",
            "                                                                 keras_layer_7[0][2]              \n",
            "__________________________________________________________________________________________________\n",
            "decoder_masking_12 (DecoderMask (None, 1, None, None 0           input_16[0][0]                   \n",
            "__________________________________________________________________________________________________\n",
            "decoder_padding_masked_2 (Decod (None, 1, 1, 128)    0           keras_layer_7[0][0]              \n",
            "__________________________________________________________________________________________________\n",
            "decoder_10 (Decoder)            ((None, None, 128),  1355776     input_16[0][0]                   \n",
            "                                                                 keras_layer_8[0][4]              \n",
            "                                                                 decoder_masking_12[0][0]         \n",
            "                                                                 decoder_padding_masked_2[0][0]   \n",
            "__________________________________________________________________________________________________\n",
            "dense_227 (Dense)               (None, None, 8000)   1032000     decoder_10[0][0]                 \n",
            "==================================================================================================\n",
            "Total params: 6,773,697\n",
            "Trainable params: 6,773,696\n",
            "Non-trainable params: 1\n",
            "__________________________________________________________________________________________________\n"
          ],
          "name": "stdout"
        }
      ]
    },
    {
      "cell_type": "code",
      "metadata": {
        "id": "3q8HrJY9hvZH",
        "outputId": "3540816f-d6e7-49d3-a049-3fd131aa2395",
        "colab": {
          "base_uri": "https://localhost:8080/"
        }
      },
      "source": [
        "sentence = tf.constant([train_json[0][\"rewritten_intent\"]])\n",
        "snippet = tf.constant(train_json[0][\"snippet\"])\n",
        "snippet = tf.py_function(func=tokenize_python, inp=[snippet], Tout=tf.string)\n",
        "snippet = tf.expand_dims(snippet, axis=0)\n",
        "print(sentence.shape, snippet.shape)\n",
        "result = embedding_model((sentence, snippet))\n",
        "result"
      ],
      "execution_count": 14,
      "outputs": [
        {
          "output_type": "stream",
          "text": [
            "(1,) (1, 26)\n"
          ],
          "name": "stdout"
        },
        {
          "output_type": "execute_result",
          "data": {
            "text/plain": [
              "<tf.Tensor: shape=(1, 26, 8000), dtype=float32, numpy=\n",
              "array([[[-0.02071353,  0.22273576,  0.23580809, ..., -0.05850026,\n",
              "         -0.03325614,  0.130977  ],\n",
              "        [-0.05592096,  0.24954008,  0.17787357, ..., -0.07673593,\n",
              "         -0.04091293,  0.13660514],\n",
              "        [ 0.00259175,  0.2463955 ,  0.1591225 , ..., -0.04003742,\n",
              "         -0.03151663,  0.1337425 ],\n",
              "        ...,\n",
              "        [ 0.06853933,  0.29817224,  0.18724772, ..., -0.04172705,\n",
              "          0.02607824,  0.04938851],\n",
              "        [ 0.04189403,  0.24589247,  0.10972903, ..., -0.04485242,\n",
              "          0.0418922 ,  0.03732567],\n",
              "        [ 0.04658419,  0.24851313,  0.11427581, ..., -0.02627425,\n",
              "          0.05173177,  0.03634437]]], dtype=float32)>"
            ]
          },
          "metadata": {
            "tags": []
          },
          "execution_count": 14
        }
      ]
    },
    {
      "cell_type": "code",
      "metadata": {
        "id": "S-UoUD8ShvZI"
      },
      "source": [
        "# TODO: Preprocess code samples\n",
        "# TODO: Set up masking\n",
        "# TODO: Run training"
      ],
      "execution_count": null,
      "outputs": []
    },
    {
      "cell_type": "code",
      "metadata": {
        "id": "S_zGqYSDhvZI"
      },
      "source": [
        "# Taken from https://www.tensorflow.org/tutorials/text/transformer\r\n",
        "loss_object = tf.keras.losses.SparseCategoricalCrossentropy(\r\n",
        "    from_logits=True, reduction='none')\r\n",
        "\r\n",
        "def loss_function(real, pred):\r\n",
        "  mask = tf.math.logical_not(tf.math.equal(real, 0))\r\n",
        "  loss_ = loss_object(real, pred)\r\n",
        "\r\n",
        "  mask = tf.cast(mask, dtype=loss_.dtype)\r\n",
        "  loss_ *= mask\r\n",
        "\r\n",
        "  return tf.reduce_sum(loss_)/tf.reduce_sum(mask)\r\n",
        "\r\n",
        "optimizer = tf.keras.optimizers.Adam(learning_rate=0.001, beta_1=0.9, \r\n",
        "                                     beta_2=0.98, epsilon=1e-9)\r\n",
        "embedding_model.compile(optimizer, loss_function)"
      ],
      "execution_count": 98,
      "outputs": []
    },
    {
      "cell_type": "code",
      "metadata": {
        "id": "fJdIDZIhqwOH"
      },
      "source": [
        "tokenized_codes = [tf.py_function(func=tokenize_python, inp=[snippet], Tout=tf.string) for snippet in codes]\r\n",
        "vectorize_layer = keras.layers.experimental.preprocessing.StringLookup(max_tokens=output_tokens)\r\n",
        "vectorize_layer.adapt(data)\r\n",
        "vectorized_inputs = [vectorize_layer(code) for code in tokenized_codes]\r\n",
        "tokenized_codes = tf.keras.preprocessing.sequence.pad_sequences(vectorized_inputs, value=0)\r\n"
      ],
      "execution_count": 99,
      "outputs": []
    },
    {
      "cell_type": "code",
      "metadata": {
        "id": "PkSHANAUHQxG"
      },
      "source": [
        "base_sentences = np.array(['' if v is None else v for v in base_sentences])"
      ],
      "execution_count": 100,
      "outputs": []
    },
    {
      "cell_type": "code",
      "metadata": {
        "id": "aW0UicVUrgbv",
        "outputId": "3da4249e-cb81-4127-8f9d-d3046231060b",
        "colab": {
          "base_uri": "https://localhost:8080/",
          "height": 578
        }
      },
      "source": [
        "history = embedding_model.fit([base_sentences, tokenized_codes], tokenized_codes, batch_size=64, epochs=10)"
      ],
      "execution_count": 101,
      "outputs": [
        {
          "output_type": "stream",
          "text": [
            "Epoch 1/20\n",
            "149/149 [==============================] - 79s 496ms/step - loss: 5.2863\n",
            "Epoch 2/20\n",
            "149/149 [==============================] - 73s 492ms/step - loss: 1.1196\n",
            "Epoch 3/20\n",
            "149/149 [==============================] - 74s 494ms/step - loss: 0.5832\n",
            "Epoch 4/20\n",
            "149/149 [==============================] - 73s 491ms/step - loss: 0.3300\n",
            "Epoch 5/20\n",
            "149/149 [==============================] - 73s 492ms/step - loss: 0.1693\n",
            "Epoch 6/20\n",
            "149/149 [==============================] - 73s 489ms/step - loss: 0.0714\n",
            "Epoch 7/20\n",
            "149/149 [==============================] - 73s 489ms/step - loss: 0.0227\n",
            "Epoch 8/20\n",
            "  1/149 [..............................] - ETA: 1:14 - loss: 0.0045"
          ],
          "name": "stdout"
        },
        {
          "output_type": "error",
          "ename": "KeyboardInterrupt",
          "evalue": "ignored",
          "traceback": [
            "\u001b[0;31m---------------------------------------------------------------------------\u001b[0m",
            "\u001b[0;31mKeyboardInterrupt\u001b[0m                         Traceback (most recent call last)",
            "\u001b[0;32m<ipython-input-101-daddf1739d10>\u001b[0m in \u001b[0;36m<module>\u001b[0;34m()\u001b[0m\n\u001b[0;32m----> 1\u001b[0;31m \u001b[0membedding_model\u001b[0m\u001b[0;34m.\u001b[0m\u001b[0mfit\u001b[0m\u001b[0;34m(\u001b[0m\u001b[0;34m[\u001b[0m\u001b[0mbase_sentences\u001b[0m\u001b[0;34m,\u001b[0m \u001b[0mtokenized_codes\u001b[0m\u001b[0;34m]\u001b[0m\u001b[0;34m,\u001b[0m \u001b[0mtokenized_codes\u001b[0m\u001b[0;34m,\u001b[0m \u001b[0mbatch_size\u001b[0m\u001b[0;34m=\u001b[0m\u001b[0;36m16\u001b[0m\u001b[0;34m,\u001b[0m \u001b[0mepochs\u001b[0m\u001b[0;34m=\u001b[0m\u001b[0;36m20\u001b[0m\u001b[0;34m)\u001b[0m\u001b[0;34m\u001b[0m\u001b[0;34m\u001b[0m\u001b[0m\n\u001b[0m",
            "\u001b[0;32m/usr/local/lib/python3.6/dist-packages/tensorflow/python/keras/engine/training.py\u001b[0m in \u001b[0;36mfit\u001b[0;34m(self, x, y, batch_size, epochs, verbose, callbacks, validation_split, validation_data, shuffle, class_weight, sample_weight, initial_epoch, steps_per_epoch, validation_steps, validation_batch_size, validation_freq, max_queue_size, workers, use_multiprocessing)\u001b[0m\n\u001b[1;32m   1098\u001b[0m                 _r=1):\n\u001b[1;32m   1099\u001b[0m               \u001b[0mcallbacks\u001b[0m\u001b[0;34m.\u001b[0m\u001b[0mon_train_batch_begin\u001b[0m\u001b[0;34m(\u001b[0m\u001b[0mstep\u001b[0m\u001b[0;34m)\u001b[0m\u001b[0;34m\u001b[0m\u001b[0;34m\u001b[0m\u001b[0m\n\u001b[0;32m-> 1100\u001b[0;31m               \u001b[0mtmp_logs\u001b[0m \u001b[0;34m=\u001b[0m \u001b[0mself\u001b[0m\u001b[0;34m.\u001b[0m\u001b[0mtrain_function\u001b[0m\u001b[0;34m(\u001b[0m\u001b[0miterator\u001b[0m\u001b[0;34m)\u001b[0m\u001b[0;34m\u001b[0m\u001b[0;34m\u001b[0m\u001b[0m\n\u001b[0m\u001b[1;32m   1101\u001b[0m               \u001b[0;32mif\u001b[0m \u001b[0mdata_handler\u001b[0m\u001b[0;34m.\u001b[0m\u001b[0mshould_sync\u001b[0m\u001b[0;34m:\u001b[0m\u001b[0;34m\u001b[0m\u001b[0;34m\u001b[0m\u001b[0m\n\u001b[1;32m   1102\u001b[0m                 \u001b[0mcontext\u001b[0m\u001b[0;34m.\u001b[0m\u001b[0masync_wait\u001b[0m\u001b[0;34m(\u001b[0m\u001b[0;34m)\u001b[0m\u001b[0;34m\u001b[0m\u001b[0;34m\u001b[0m\u001b[0m\n",
            "\u001b[0;32m/usr/local/lib/python3.6/dist-packages/tensorflow/python/eager/def_function.py\u001b[0m in \u001b[0;36m__call__\u001b[0;34m(self, *args, **kwds)\u001b[0m\n\u001b[1;32m    826\u001b[0m     \u001b[0mtracing_count\u001b[0m \u001b[0;34m=\u001b[0m \u001b[0mself\u001b[0m\u001b[0;34m.\u001b[0m\u001b[0mexperimental_get_tracing_count\u001b[0m\u001b[0;34m(\u001b[0m\u001b[0;34m)\u001b[0m\u001b[0;34m\u001b[0m\u001b[0;34m\u001b[0m\u001b[0m\n\u001b[1;32m    827\u001b[0m     \u001b[0;32mwith\u001b[0m \u001b[0mtrace\u001b[0m\u001b[0;34m.\u001b[0m\u001b[0mTrace\u001b[0m\u001b[0;34m(\u001b[0m\u001b[0mself\u001b[0m\u001b[0;34m.\u001b[0m\u001b[0m_name\u001b[0m\u001b[0;34m)\u001b[0m \u001b[0;32mas\u001b[0m \u001b[0mtm\u001b[0m\u001b[0;34m:\u001b[0m\u001b[0;34m\u001b[0m\u001b[0;34m\u001b[0m\u001b[0m\n\u001b[0;32m--> 828\u001b[0;31m       \u001b[0mresult\u001b[0m \u001b[0;34m=\u001b[0m \u001b[0mself\u001b[0m\u001b[0;34m.\u001b[0m\u001b[0m_call\u001b[0m\u001b[0;34m(\u001b[0m\u001b[0;34m*\u001b[0m\u001b[0margs\u001b[0m\u001b[0;34m,\u001b[0m \u001b[0;34m**\u001b[0m\u001b[0mkwds\u001b[0m\u001b[0;34m)\u001b[0m\u001b[0;34m\u001b[0m\u001b[0;34m\u001b[0m\u001b[0m\n\u001b[0m\u001b[1;32m    829\u001b[0m       \u001b[0mcompiler\u001b[0m \u001b[0;34m=\u001b[0m \u001b[0;34m\"xla\"\u001b[0m \u001b[0;32mif\u001b[0m \u001b[0mself\u001b[0m\u001b[0;34m.\u001b[0m\u001b[0m_experimental_compile\u001b[0m \u001b[0;32melse\u001b[0m \u001b[0;34m\"nonXla\"\u001b[0m\u001b[0;34m\u001b[0m\u001b[0;34m\u001b[0m\u001b[0m\n\u001b[1;32m    830\u001b[0m       \u001b[0mnew_tracing_count\u001b[0m \u001b[0;34m=\u001b[0m \u001b[0mself\u001b[0m\u001b[0;34m.\u001b[0m\u001b[0mexperimental_get_tracing_count\u001b[0m\u001b[0;34m(\u001b[0m\u001b[0;34m)\u001b[0m\u001b[0;34m\u001b[0m\u001b[0;34m\u001b[0m\u001b[0m\n",
            "\u001b[0;32m/usr/local/lib/python3.6/dist-packages/tensorflow/python/eager/def_function.py\u001b[0m in \u001b[0;36m_call\u001b[0;34m(self, *args, **kwds)\u001b[0m\n\u001b[1;32m    853\u001b[0m       \u001b[0;31m# In this case we have created variables on the first call, so we run the\u001b[0m\u001b[0;34m\u001b[0m\u001b[0;34m\u001b[0m\u001b[0;34m\u001b[0m\u001b[0m\n\u001b[1;32m    854\u001b[0m       \u001b[0;31m# defunned version which is guaranteed to never create variables.\u001b[0m\u001b[0;34m\u001b[0m\u001b[0;34m\u001b[0m\u001b[0;34m\u001b[0m\u001b[0m\n\u001b[0;32m--> 855\u001b[0;31m       \u001b[0;32mreturn\u001b[0m \u001b[0mself\u001b[0m\u001b[0;34m.\u001b[0m\u001b[0m_stateless_fn\u001b[0m\u001b[0;34m(\u001b[0m\u001b[0;34m*\u001b[0m\u001b[0margs\u001b[0m\u001b[0;34m,\u001b[0m \u001b[0;34m**\u001b[0m\u001b[0mkwds\u001b[0m\u001b[0;34m)\u001b[0m  \u001b[0;31m# pylint: disable=not-callable\u001b[0m\u001b[0;34m\u001b[0m\u001b[0;34m\u001b[0m\u001b[0m\n\u001b[0m\u001b[1;32m    856\u001b[0m     \u001b[0;32melif\u001b[0m \u001b[0mself\u001b[0m\u001b[0;34m.\u001b[0m\u001b[0m_stateful_fn\u001b[0m \u001b[0;32mis\u001b[0m \u001b[0;32mnot\u001b[0m \u001b[0;32mNone\u001b[0m\u001b[0;34m:\u001b[0m\u001b[0;34m\u001b[0m\u001b[0;34m\u001b[0m\u001b[0m\n\u001b[1;32m    857\u001b[0m       \u001b[0;31m# Release the lock early so that multiple threads can perform the call\u001b[0m\u001b[0;34m\u001b[0m\u001b[0;34m\u001b[0m\u001b[0;34m\u001b[0m\u001b[0m\n",
            "\u001b[0;32m/usr/local/lib/python3.6/dist-packages/tensorflow/python/eager/function.py\u001b[0m in \u001b[0;36m__call__\u001b[0;34m(self, *args, **kwargs)\u001b[0m\n\u001b[1;32m   2941\u001b[0m        filtered_flat_args) = self._maybe_define_function(args, kwargs)\n\u001b[1;32m   2942\u001b[0m     return graph_function._call_flat(\n\u001b[0;32m-> 2943\u001b[0;31m         filtered_flat_args, captured_inputs=graph_function.captured_inputs)  # pylint: disable=protected-access\n\u001b[0m\u001b[1;32m   2944\u001b[0m \u001b[0;34m\u001b[0m\u001b[0m\n\u001b[1;32m   2945\u001b[0m   \u001b[0;34m@\u001b[0m\u001b[0mproperty\u001b[0m\u001b[0;34m\u001b[0m\u001b[0;34m\u001b[0m\u001b[0m\n",
            "\u001b[0;32m/usr/local/lib/python3.6/dist-packages/tensorflow/python/eager/function.py\u001b[0m in \u001b[0;36m_call_flat\u001b[0;34m(self, args, captured_inputs, cancellation_manager)\u001b[0m\n\u001b[1;32m   1917\u001b[0m       \u001b[0;31m# No tape is watching; skip to running the function.\u001b[0m\u001b[0;34m\u001b[0m\u001b[0;34m\u001b[0m\u001b[0;34m\u001b[0m\u001b[0m\n\u001b[1;32m   1918\u001b[0m       return self._build_call_outputs(self._inference_function.call(\n\u001b[0;32m-> 1919\u001b[0;31m           ctx, args, cancellation_manager=cancellation_manager))\n\u001b[0m\u001b[1;32m   1920\u001b[0m     forward_backward = self._select_forward_and_backward_functions(\n\u001b[1;32m   1921\u001b[0m         \u001b[0margs\u001b[0m\u001b[0;34m,\u001b[0m\u001b[0;34m\u001b[0m\u001b[0;34m\u001b[0m\u001b[0m\n",
            "\u001b[0;32m/usr/local/lib/python3.6/dist-packages/tensorflow/python/eager/function.py\u001b[0m in \u001b[0;36mcall\u001b[0;34m(self, ctx, args, cancellation_manager)\u001b[0m\n\u001b[1;32m    558\u001b[0m               \u001b[0minputs\u001b[0m\u001b[0;34m=\u001b[0m\u001b[0margs\u001b[0m\u001b[0;34m,\u001b[0m\u001b[0;34m\u001b[0m\u001b[0;34m\u001b[0m\u001b[0m\n\u001b[1;32m    559\u001b[0m               \u001b[0mattrs\u001b[0m\u001b[0;34m=\u001b[0m\u001b[0mattrs\u001b[0m\u001b[0;34m,\u001b[0m\u001b[0;34m\u001b[0m\u001b[0;34m\u001b[0m\u001b[0m\n\u001b[0;32m--> 560\u001b[0;31m               ctx=ctx)\n\u001b[0m\u001b[1;32m    561\u001b[0m         \u001b[0;32melse\u001b[0m\u001b[0;34m:\u001b[0m\u001b[0;34m\u001b[0m\u001b[0;34m\u001b[0m\u001b[0m\n\u001b[1;32m    562\u001b[0m           outputs = execute.execute_with_cancellation(\n",
            "\u001b[0;32m/usr/local/lib/python3.6/dist-packages/tensorflow/python/eager/execute.py\u001b[0m in \u001b[0;36mquick_execute\u001b[0;34m(op_name, num_outputs, inputs, attrs, ctx, name)\u001b[0m\n\u001b[1;32m     58\u001b[0m     \u001b[0mctx\u001b[0m\u001b[0;34m.\u001b[0m\u001b[0mensure_initialized\u001b[0m\u001b[0;34m(\u001b[0m\u001b[0;34m)\u001b[0m\u001b[0;34m\u001b[0m\u001b[0;34m\u001b[0m\u001b[0m\n\u001b[1;32m     59\u001b[0m     tensors = pywrap_tfe.TFE_Py_Execute(ctx._handle, device_name, op_name,\n\u001b[0;32m---> 60\u001b[0;31m                                         inputs, attrs, num_outputs)\n\u001b[0m\u001b[1;32m     61\u001b[0m   \u001b[0;32mexcept\u001b[0m \u001b[0mcore\u001b[0m\u001b[0;34m.\u001b[0m\u001b[0m_NotOkStatusException\u001b[0m \u001b[0;32mas\u001b[0m \u001b[0me\u001b[0m\u001b[0;34m:\u001b[0m\u001b[0;34m\u001b[0m\u001b[0;34m\u001b[0m\u001b[0m\n\u001b[1;32m     62\u001b[0m     \u001b[0;32mif\u001b[0m \u001b[0mname\u001b[0m \u001b[0;32mis\u001b[0m \u001b[0;32mnot\u001b[0m \u001b[0;32mNone\u001b[0m\u001b[0;34m:\u001b[0m\u001b[0;34m\u001b[0m\u001b[0;34m\u001b[0m\u001b[0m\n",
            "\u001b[0;31mKeyboardInterrupt\u001b[0m: "
          ]
        }
      ]
    }
  ]
}