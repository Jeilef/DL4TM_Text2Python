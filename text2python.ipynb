{
 "cells": [
  {
   "cell_type": "code",
   "execution_count": null,
   "metadata": {
    "colab": {
     "base_uri": "https://localhost:8080/"
    },
    "id": "0PWqFit9fVxs",
    "outputId": "13028707-3a9e-4a53-aa1e-2955816d5dfd"
   },
   "outputs": [],
   "source": [
    "!pip install --quiet tensorflow-text\n",
    "# Clone the entire repo.\n",
    "%cd /content/\n",
    "!rm -r -f dl4tm\n",
    "!git clone git://github.com/Jeilef/DL4TM_Text2Python.git dl4tm\n",
    "%cd dl4tm\n",
    "!ls"
   ]
  },
  {
   "cell_type": "code",
   "execution_count": 11,
   "metadata": {
    "id": "xGOg39-ahQmx"
   },
   "outputs": [],
   "source": [
    "import numpy as np\n",
    "import json\n",
    "import logging\n",
    "import tensorflow_hub as hub\n",
    "import tensorflow as tf\n",
    "import tensorflow.keras as keras\n",
    "import tensorflow_text # See https://github.com/tensorflow/hub/issues/463"
   ]
  },
  {
   "cell_type": "code",
   "execution_count": 12,
   "metadata": {},
   "outputs": [],
   "source": [
    "logging.getLogger('tensorflow').setLevel(logging.ERROR)  # suppress warnings"
   ]
  },
  {
   "cell_type": "code",
   "execution_count": 13,
   "metadata": {
    "colab": {
     "base_uri": "https://localhost:8080/"
    },
    "id": "uiGAS3YofVxx",
    "outputId": "eebde498-a5a9-4152-ab44-0e959cc7dcf2",
    "pycharm": {
     "name": "#%%\n"
    }
   },
   "outputs": [
    {
     "name": "stdout",
     "output_type": "stream",
     "text": [
      "2379\n",
      "{'intent': 'How to convert a list of multiple integers into a single integer?', 'rewritten_intent': \"Concatenate elements of a list 'x' of multiple integers to a single integer\", 'snippet': 'sum(d * 10 ** i for i, d in enumerate(x[::-1]))', 'question_id': 41067960}\n"
     ]
    }
   ],
   "source": [
    "train_file = open(\"conala-corpus-v1.1/conala-corpus/conala-train.json\", \"r\")\n",
    "train_json = json.load(train_file)\n",
    "\n",
    "print(len(train_json))\n",
    "print(train_json[0])"
   ]
  },
  {
   "cell_type": "code",
   "execution_count": 14,
   "metadata": {
    "colab": {
     "base_uri": "https://localhost:8080/"
    },
    "id": "3JqfNJUPfVxx",
    "outputId": "cf5c2f0c-23c2-47f7-825c-9d67b0d025ae",
    "pycharm": {
     "name": "#%%\n"
    }
   },
   "outputs": [
    {
     "name": "stdout",
     "output_type": "stream",
     "text": [
      "How to convert a list of multiple integers into a single integer?\n",
      "sum(d * 10 ** i for i, d in enumerate(x[::-1]))\n"
     ]
    }
   ],
   "source": [
    "base_sentences = [item[\"rewritten_intent\"] for item in train_json]\n",
    "codes = [item[\"snippet\"] for item in train_json]\n",
    "\n",
    "print(base_sentences[0])\n",
    "print(codes[0])"
   ]
  },
  {
   "cell_type": "code",
   "execution_count": 29,
   "metadata": {
    "id": "-3L7pM-RfVxy",
    "pycharm": {
     "name": "#%%\n"
    }
   },
   "outputs": [],
   "source": [
    "# Pretrained BERT encoder\n",
    "text_input = tf.keras.layers.Input(shape=(), dtype=tf.string)\n",
    "preprocessor = hub.KerasLayer(\"https://tfhub.dev/tensorflow/bert_en_uncased_preprocess/3\")\n",
    "encoder_inputs = preprocessor(text_input)\n",
    "encoder = hub.KerasLayer(\"https://tfhub.dev/tensorflow/small_bert/bert_en_uncased_L-2_H-128_A-2/1\", trainable=True)\n",
    "outputs = encoder(encoder_inputs)\n",
    "pooled_output = outputs[\"pooled_output\"]      # [batch_size, 128].\n",
    "sequence_output = outputs[\"sequence_output\"]  # [batch_size, seq_length, 128]."
   ]
  },
  {
   "cell_type": "code",
   "execution_count": 30,
   "metadata": {},
   "outputs": [],
   "source": [
    "# Transformer Decoder  taken from https://www.tensorflow.org/tutorials/text/transformer\n",
    "from transformer_util import Decoder\n",
    "output_tokens = 8000\n",
    "sample_decoder = Decoder(num_layers=2, d_model=128, num_heads=2,\n",
    "                         dff=128, target_vocab_size=output_tokens,\n",
    "                         maximum_position_encoding=5000)\n",
    "\n",
    "decoder_input = tf.keras.layers.Input(shape=(), dtype=tf.string)\n",
    "# Use standard keras vectorization for now, maybe replace later\n",
    "vectorize_layer = keras.layers.experimental.preprocessing.TextVectorization(max_tokens=output_tokens,\n",
    "                                    output_mode='int')\n",
    "vectorize_layer.adapt(codes)\n",
    "vectorized_input = vectorize_layer(decoder_input)\n",
    "\n",
    "\n",
    "decoder_output, attn = sample_decoder(vectorized_input,\n",
    "                              enc_output=sequence_output,\n",
    "                              training=False,\n",
    "                              look_ahead_mask=None,\n",
    "                              padding_mask=None)\n",
    "final_layer = tf.keras.layers.Dense(output_tokens)\n",
    "output = final_layer(decoder_output)\n",
    "\n",
    "\n",
    "embedding_model = tf.keras.Model((text_input, decoder_input), output)"
   ]
  },
  {
   "cell_type": "code",
   "execution_count": 31,
   "metadata": {},
   "outputs": [
    {
     "data": {
      "text/plain": [
       "<tf.Tensor: shape=(1, 8, 8000), dtype=float32, numpy=\n",
       "array([[[-0.3346448 ,  0.03001721, -0.0153175 , ...,  0.35389984,\n",
       "          0.06700054, -0.13454579],\n",
       "        [-0.3582388 , -0.00494193, -0.07079062, ...,  0.28480467,\n",
       "          0.14465441, -0.12122036],\n",
       "        [-0.3047657 ,  0.02607899, -0.13843787, ...,  0.31949094,\n",
       "          0.13443479, -0.04309404],\n",
       "        ...,\n",
       "        [-0.32030255, -0.02814047, -0.06071242, ...,  0.2847812 ,\n",
       "          0.18945083, -0.1295053 ],\n",
       "        [-0.27664897, -0.01990721, -0.02394043, ...,  0.28804892,\n",
       "          0.15847974, -0.09352209],\n",
       "        [-0.27658758, -0.03500801, -0.02378963, ...,  0.2544594 ,\n",
       "          0.17877574, -0.09700234]]], dtype=float32)>"
      ]
     },
     "execution_count": 31,
     "metadata": {},
     "output_type": "execute_result"
    }
   ],
   "source": [
    "sentences = tf.constant([train_json[0][\"rewritten_intent\"]])\n",
    "snippets = tf.constant([train_json[0][\"snippet\"]])\n",
    "result = embedding_model((sentences, snippets))\n",
    "result"
   ]
  },
  {
   "cell_type": "code",
   "execution_count": 9,
   "metadata": {},
   "outputs": [],
   "source": [
    "# TODO: Preprocess code samples\n",
    "# TODO: Set up masking\n",
    "# TODO: Run training"
   ]
  },
  {
   "cell_type": "code",
   "execution_count": null,
   "metadata": {},
   "outputs": [],
   "source": []
  }
 ],
 "metadata": {
  "colab": {
   "name": "text2python.ipynb",
   "provenance": []
  },
  "kernelspec": {
   "display_name": "Python 3",
   "language": "python",
   "name": "python3"
  },
  "language_info": {
   "codemirror_mode": {
    "name": "ipython",
    "version": 3
   },
   "file_extension": ".py",
   "mimetype": "text/x-python",
   "name": "python",
   "nbconvert_exporter": "python",
   "pygments_lexer": "ipython3",
   "version": "3.8.3"
  }
 },
 "nbformat": 4,
 "nbformat_minor": 1
}
