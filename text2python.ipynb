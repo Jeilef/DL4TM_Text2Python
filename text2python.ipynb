{
  "nbformat": 4,
  "nbformat_minor": 0,
  "metadata": {
    "colab": {
      "name": "text2python.ipynb",
      "provenance": []
    },
    "kernelspec": {
      "display_name": "Python 3",
      "language": "python",
      "name": "python3"
    },
    "language_info": {
      "codemirror_mode": {
        "name": "ipython",
        "version": 3
      },
      "file_extension": ".py",
      "mimetype": "text/x-python",
      "name": "python",
      "nbconvert_exporter": "python",
      "pygments_lexer": "ipython3",
      "version": "3.8.3"
    }
  },
  "cells": [
    {
      "cell_type": "code",
      "metadata": {
        "colab": {
          "base_uri": "https://localhost:8080/"
        },
        "id": "0PWqFit9fVxs",
        "outputId": "f3499910-b7f0-4873-c987-ce3a52ff2c00"
      },
      "source": [
        "!pip install --quiet tensorflow-text\n",
        "# Clone the entire repo.\n",
        "%cd /content/\n",
        "!rm -r -f dl4tm\n",
        "!git clone git://github.com/Jeilef/DL4TM_Text2Python.git dl4tm\n",
        "%cd dl4tm\n",
        "!ls"
      ],
      "execution_count": 75,
      "outputs": [
        {
          "output_type": "stream",
          "text": [
            "/content\n",
            "Cloning into 'dl4tm'...\n",
            "remote: Enumerating objects: 82, done.\u001b[K\n",
            "remote: Counting objects: 100% (82/82), done.\u001b[K\n",
            "remote: Compressing objects: 100% (66/66), done.\u001b[K\n",
            "remote: Total 82 (delta 39), reused 39 (delta 13), pack-reused 0\u001b[K\n",
            "Receiving objects: 100% (82/82), 396.84 KiB | 7.09 MiB/s, done.\n",
            "Resolving deltas: 100% (39/39), done.\n",
            "/content/dl4tm\n",
            "conala-corpus-v1.1  README.md\t      text2python.ipynb  transformer_util.py\n",
            "google.ipynb\t    requirements.txt  transformer.ipynb\n"
          ],
          "name": "stdout"
        }
      ]
    },
    {
      "cell_type": "code",
      "metadata": {
        "id": "xGOg39-ahQmx"
      },
      "source": [
        "import numpy as np\n",
        "import json\n",
        "import logging\n",
        "from tokenize import tokenize\n",
        "from io import BytesIO\n",
        "import tensorflow_hub as hub\n",
        "import tensorflow as tf\n",
        "import tensorflow.keras as keras\n",
        "import tensorflow_text # See https://github.com/tensorflow/hub/issues/463"
      ],
      "execution_count": 76,
      "outputs": []
    },
    {
      "cell_type": "code",
      "metadata": {
        "id": "72O-_UMNhvZF"
      },
      "source": [
        "logging.getLogger('tensorflow').setLevel(logging.ERROR)  # suppress warnings"
      ],
      "execution_count": 77,
      "outputs": []
    },
    {
      "cell_type": "code",
      "metadata": {
        "colab": {
          "base_uri": "https://localhost:8080/"
        },
        "id": "uiGAS3YofVxx",
        "pycharm": {
          "name": "#%%\n"
        },
        "outputId": "f95670a6-c705-4206-a11c-2aaccc9d3729"
      },
      "source": [
        "train_file = open(\"conala-corpus-v1.1/conala-corpus/conala-train.json\", \"r\")\n",
        "train_json = json.load(train_file)\n",
        "\n",
        "print(len(train_json))\n",
        "print(train_json[0])"
      ],
      "execution_count": 78,
      "outputs": [
        {
          "output_type": "stream",
          "text": [
            "2379\n",
            "{'intent': 'How to convert a list of multiple integers into a single integer?', 'rewritten_intent': \"Concatenate elements of a list 'x' of multiple integers to a single integer\", 'snippet': 'sum(d * 10 ** i for i, d in enumerate(x[::-1]))', 'question_id': 41067960}\n"
          ],
          "name": "stdout"
        }
      ]
    },
    {
      "cell_type": "code",
      "metadata": {
        "colab": {
          "base_uri": "https://localhost:8080/"
        },
        "id": "3JqfNJUPfVxx",
        "pycharm": {
          "name": "#%%\n"
        },
        "outputId": "30b35fec-6aef-414d-8575-5743f6d029c8"
      },
      "source": [
        "base_sentences = np.array([item[\"rewritten_intent\"] for item in train_json])\n",
        "codes = np.array([item[\"snippet\"] for item in train_json])\n",
        "\n",
        "print(base_sentences[0])\n",
        "print(codes[0])"
      ],
      "execution_count": 79,
      "outputs": [
        {
          "output_type": "stream",
          "text": [
            "Concatenate elements of a list 'x' of multiple integers to a single integer\n",
            "sum(d * 10 ** i for i, d in enumerate(x[::-1]))\n"
          ],
          "name": "stdout"
        }
      ]
    },
    {
      "cell_type": "code",
      "metadata": {
        "id": "YwH4n9_dhvZG",
        "colab": {
          "base_uri": "https://localhost:8080/"
        },
        "outputId": "4e9df6c7-2a82-422d-c562-03c4daf8e3d1"
      },
      "source": [
        "# Use custom tokenize function for code snippets\n",
        "def tokenize_python(s):\n",
        "    tokenized = tokenize(BytesIO(s.numpy()).readline)\n",
        "    tokens = [token[1] for token in tokenized]\n",
        "    tensor = tf.convert_to_tensor(tokens, dtype=tf.string)\n",
        "    \n",
        "    return tensor\n",
        "\n",
        "def detokenize_python(s):\n",
        "  array = s.numpy()\n",
        "  code = b\"\".join(array)\n",
        "  code = code.encode(\"utf-8\")\n",
        "  return code\n",
        "\n",
        "example = tf.constant(codes[0])\n",
        "tokenize_python(example)"
      ],
      "execution_count": 80,
      "outputs": [
        {
          "output_type": "execute_result",
          "data": {
            "text/plain": [
              "<tf.Tensor: shape=(26,), dtype=string, numpy=\n",
              "array([b'utf-8', b'sum', b'(', b'd', b'*', b'10', b'**', b'i', b'for',\n",
              "       b'i', b',', b'd', b'in', b'enumerate', b'(', b'x', b'[', b':',\n",
              "       b':', b'-', b'1', b']', b')', b')', b'', b''], dtype=object)>"
            ]
          },
          "metadata": {
            "tags": []
          },
          "execution_count": 80
        }
      ]
    },
    {
      "cell_type": "code",
      "metadata": {
        "id": "c1mNMHnHhvZH"
      },
      "source": [
        "data = tf.data.Dataset.from_tensor_slices(codes)\n",
        "data = data.map(lambda x : tf.py_function(func=tokenize_python, inp=[x], Tout=tf.string))"
      ],
      "execution_count": 81,
      "outputs": []
    },
    {
      "cell_type": "code",
      "metadata": {
        "id": "fJdIDZIhqwOH"
      },
      "source": [
        "from keras.layers.experimental.preprocessing import StringLookup\r\n",
        "\r\n",
        "def preprocess_codes(codes):\r\n",
        "  tokenized_codes = [tf.py_function(func=tokenize_python, inp=[snippet], Tout=tf.string) for snippet in codes]\r\n",
        "  vectorize_layer = StringLookup(max_tokens=output_tokens)\r\n",
        "  vectorize_layer.adapt(data)\r\n",
        "  vectorized_codes = [vectorize_layer(code) for code in tokenized_codes]\r\n",
        "  return tf.keras.preprocessing.sequence.pad_sequences(vectorized_codes, value=0), vectorize_layer.get_vocabulary()\r\n",
        "\r\n",
        "def postprocess_codes(codes, vocabulary):\r\n",
        "  codes = codes.reshape((len(vocabulary) + 2,))\r\n",
        "  word = np.argmax(codes)\r\n",
        "  return vocabulary[word - 2], word # because start and stop are first predictions in first prediction\r\n",
        "  #codes = []\r\n",
        "  #tokenized_codes = [tf.py_function(func=tokenize_python, inp=[snippet], Tout=tf.string) for snippet in codes]\r\n",
        "  #i_layer = StringLookup(vocabulary=vocabulary, invert=True)\r\n",
        "  #vectorized_codes = [vectorize_layer(code) for code in tokenized_codes]\r\n",
        "  #return tf.keras.preprocessing.sequence.pad_sequences(vectorized_codes, value=0)\r\n",
        "\r\n",
        "tokenized_codes, vocabulary = preprocess_codes(codes)"
      ],
      "execution_count": 102,
      "outputs": []
    },
    {
      "cell_type": "code",
      "metadata": {
        "colab": {
          "base_uri": "https://localhost:8080/"
        },
        "id": "M4o3T5EwvI_Q",
        "outputId": "302367da-ff0a-4d6c-bb2a-9df67f4a4057"
      },
      "source": [
        "def create_look_ahead_mask(size):\r\n",
        "  mask = 1 - tf.linalg.band_part(tf.ones((size, size)), -1, 0)\r\n",
        "  return mask\r\n",
        "\r\n",
        "def create_padding_mask(seq):\r\n",
        "  seq = tf.cast(tf.math.equal(seq, 0), tf.float32)\r\n",
        "  return seq[:, tf.newaxis, tf.newaxis, :]\r\n",
        "\r\n",
        "\r\n",
        "class DecoderMasking(tf.keras.layers.Layer):\r\n",
        "  def call(self, targets):\r\n",
        "    padded_targets = create_padding_mask(targets)\r\n",
        "    look_ahead_mask = create_look_ahead_mask(tf.shape(targets)[1])\r\n",
        "    return tf.maximum(padded_targets, look_ahead_mask)\r\n",
        "\r\n",
        "class DecoderPaddingMasked(tf.keras.layers.Layer):\r\n",
        "  def call(self, inputs):\r\n",
        "    expanded_inputs = inputs[:, tf.newaxis, tf.newaxis, :]\r\n",
        "    return tf.cast(expanded_inputs, tf.float32)\r\n",
        "\r\n",
        "example = tf.constant(codes[0])\r\n",
        "tokenized_example = tokenize_python(example)\r\n",
        "\r\n",
        "vectorize_layer = keras.layers.experimental.preprocessing.StringLookup(max_tokens=8000)\r\n",
        "vectorize_layer.adapt(data)\r\n",
        "\r\n",
        "vectorized_example = vectorize_layer(tokenized_example)\r\n",
        "\r\n",
        "masking = DecoderMasking()\r\n",
        "lam = masking(tf.convert_to_tensor(([vectorized_example])))\r\n",
        "print(lam.shape)"
      ],
      "execution_count": 83,
      "outputs": [
        {
          "output_type": "stream",
          "text": [
            "(1, 1, 26, 26)\n"
          ],
          "name": "stdout"
        }
      ]
    },
    {
      "cell_type": "code",
      "metadata": {
        "id": "-3L7pM-RfVxy",
        "pycharm": {
          "name": "#%%\n"
        }
      },
      "source": [
        "# Pretrained BERT encoder\n",
        "encoder_inputs = tf.keras.layers.Input(shape=(None,), dtype=tf.string)\n",
        "preprocessor = hub.KerasLayer(\"https://tfhub.dev/tensorflow/bert_en_uncased_preprocess/3\")\n",
        "encoder_inputs = preprocessor(text_input)\n",
        "encoder = hub.KerasLayer(\"https://tfhub.dev/tensorflow/small_bert/bert_en_uncased_L-2_H-128_A-2/1\", trainable=True)\n",
        "outputs = encoder(encoder_inputs)\n",
        "pooled_output = outputs[\"pooled_output\"]      # [batch_size, 128].\n",
        "sequence_output = outputs[\"sequence_output\"]  # [batch_size, seq_length, 128]."
      ],
      "execution_count": 84,
      "outputs": []
    },
    {
      "cell_type": "code",
      "metadata": {
        "id": "kl5cOIChhvZH",
        "colab": {
          "base_uri": "https://localhost:8080/"
        },
        "outputId": "68950001-2855-49cd-e57f-244a74cac623"
      },
      "source": [
        "# Transformer Decoder  taken from https://www.tensorflow.org/tutorials/text/transformer\n",
        "from transformer_util import Decoder\n",
        "output_tokens = len(vocabulary) + 2 # start and stop token \n",
        "sample_decoder = Decoder(num_layers=2, d_model=128, num_heads=2,\n",
        "                         dff=128, target_vocab_size=output_tokens,\n",
        "                         maximum_position_encoding=5000)\n",
        "\n",
        "decoder_input = tf.keras.layers.Input(shape=(None,), dtype=tf.int32)\n",
        "\n",
        "# Apply masking layer here\n",
        "look_ahead_mask = DecoderMasking()(decoder_input)\n",
        "dec_padding_mask = DecoderPaddingMasked()(encoder_inputs['input_mask'])\n",
        "\n",
        "decoder_output, attn = sample_decoder(decoder_input,\n",
        "                              enc_output=sequence_output,\n",
        "                              training=False,\n",
        "                              look_ahead_mask=look_ahead_mask,\n",
        "                              padding_mask=dec_padding_mask)\n",
        "final_layer = tf.keras.layers.Dense(output_tokens)\n",
        "output = final_layer(decoder_output)\n",
        "\n",
        "\n",
        "embedding_model = tf.keras.Model((text_input, decoder_input), output)\n",
        "embedding_model.summary()"
      ],
      "execution_count": 91,
      "outputs": [
        {
          "output_type": "stream",
          "text": [
            "Model: \"model_5\"\n",
            "__________________________________________________________________________________________________\n",
            "Layer (type)                    Output Shape         Param #     Connected to                     \n",
            "==================================================================================================\n",
            "input_1 (InputLayer)            [(None,)]            0                                            \n",
            "__________________________________________________________________________________________________\n",
            "input_11 (InputLayer)           [(None, None)]       0                                            \n",
            "__________________________________________________________________________________________________\n",
            "keras_layer_8 (KerasLayer)      {'input_type_ids': ( 0           input_1[0][0]                    \n",
            "__________________________________________________________________________________________________\n",
            "keras_layer_9 (KerasLayer)      {'sequence_output':  4385921     keras_layer_8[0][0]              \n",
            "                                                                 keras_layer_8[0][1]              \n",
            "                                                                 keras_layer_8[0][2]              \n",
            "__________________________________________________________________________________________________\n",
            "decoder_masking_8 (DecoderMaski (None, 1, None, None 0           input_11[0][0]                   \n",
            "__________________________________________________________________________________________________\n",
            "decoder_padding_masked_4 (Decod (None, 1, 1, 128)    0           keras_layer_8[0][0]              \n",
            "__________________________________________________________________________________________________\n",
            "decoder_5 (Decoder)             ((None, None, 128),  695552      input_11[0][0]                   \n",
            "                                                                 keras_layer_9[0][4]              \n",
            "                                                                 decoder_masking_8[0][0]          \n",
            "                                                                 decoder_padding_masked_4[0][0]   \n",
            "__________________________________________________________________________________________________\n",
            "dense_125 (Dense)               (None, None, 2842)   366618      decoder_5[0][0]                  \n",
            "==================================================================================================\n",
            "Total params: 5,448,091\n",
            "Trainable params: 5,448,090\n",
            "Non-trainable params: 1\n",
            "__________________________________________________________________________________________________\n"
          ],
          "name": "stdout"
        }
      ]
    },
    {
      "cell_type": "code",
      "metadata": {
        "id": "3q8HrJY9hvZH",
        "colab": {
          "base_uri": "https://localhost:8080/"
        },
        "outputId": "a93473ed-bfc2-4042-e3f6-381fd354b97a"
      },
      "source": [
        "sentence = tf.constant([train_json[0][\"rewritten_intent\"]])\n",
        "snippet = tf.constant(train_json[0][\"snippet\"])\n",
        "snippet = tf.py_function(func=tokenize_python, inp=[snippet], Tout=tf.string)\n",
        "snippet = tf.expand_dims(snippet, axis=0)\n",
        "print(sentence.shape, snippet.shape)\n",
        "# result = embedding_model((sentence, snippet))\n",
        "result"
      ],
      "execution_count": 92,
      "outputs": [
        {
          "output_type": "stream",
          "text": [
            "(1,) (1, 26)\n"
          ],
          "name": "stdout"
        },
        {
          "output_type": "execute_result",
          "data": {
            "text/plain": [
              "<tf.Tensor: shape=(1, 26, 8000), dtype=float32, numpy=\n",
              "array([[[ 0.25900948,  0.05902249,  0.00255737, ..., -0.14142132,\n",
              "          0.060927  ,  0.23605488],\n",
              "        [ 0.2641915 ,  0.04997048,  0.11746741, ..., -0.11563613,\n",
              "          0.0299585 ,  0.2452411 ],\n",
              "        [ 0.22051044, -0.03371699,  0.07480508, ..., -0.12167043,\n",
              "          0.09683892,  0.18546578],\n",
              "        ...,\n",
              "        [ 0.21927257, -0.07914125,  0.10151628, ..., -0.08671107,\n",
              "          0.06166898,  0.28820792],\n",
              "        [ 0.1649797 , -0.09419025,  0.05277481, ..., -0.0641139 ,\n",
              "          0.06363688,  0.22325364],\n",
              "        [ 0.16321684, -0.08993292,  0.04195784, ..., -0.05346364,\n",
              "          0.04414991,  0.2221666 ]]], dtype=float32)>"
            ]
          },
          "metadata": {
            "tags": []
          },
          "execution_count": 92
        }
      ]
    },
    {
      "cell_type": "code",
      "metadata": {
        "id": "S-UoUD8ShvZI"
      },
      "source": [
        "# TODO: Preprocess code samples\n",
        "# TODO: Set up masking\n",
        "# TODO: Run training"
      ],
      "execution_count": 93,
      "outputs": []
    },
    {
      "cell_type": "code",
      "metadata": {
        "id": "S_zGqYSDhvZI"
      },
      "source": [
        "# Taken from https://www.tensorflow.org/tutorials/text/transformer\r\n",
        "loss_object = tf.keras.losses.SparseCategoricalCrossentropy(\r\n",
        "    from_logits=True, reduction='none')\r\n",
        "\r\n",
        "def loss_function(real, pred):\r\n",
        "  mask = tf.math.logical_not(tf.math.equal(real, 0))\r\n",
        "  loss_ = loss_object(real, pred)\r\n",
        "\r\n",
        "  mask = tf.cast(mask, dtype=loss_.dtype)\r\n",
        "  loss_ *= mask\r\n",
        "\r\n",
        "  return tf.reduce_sum(loss_)/tf.reduce_sum(mask)\r\n",
        "\r\n",
        "optimizer = tf.keras.optimizers.Adam(learning_rate=0.001, beta_1=0.9, \r\n",
        "                                     beta_2=0.98, epsilon=1e-9)\r\n",
        "embedding_model.compile(optimizer, loss_function)"
      ],
      "execution_count": 94,
      "outputs": []
    },
    {
      "cell_type": "code",
      "metadata": {
        "id": "PkSHANAUHQxG"
      },
      "source": [
        "base_sentences = np.array(['' if v is None else v for v in base_sentences])"
      ],
      "execution_count": 95,
      "outputs": []
    },
    {
      "cell_type": "code",
      "metadata": {
        "id": "aW0UicVUrgbv",
        "colab": {
          "base_uri": "https://localhost:8080/"
        },
        "outputId": "c7d6a3b6-9eb3-490d-d0ca-2c6ad37ea5ff"
      },
      "source": [
        "history = embedding_model.fit([base_sentences, tokenized_codes], tokenized_codes, batch_size=64, epochs=15)"
      ],
      "execution_count": 96,
      "outputs": [
        {
          "output_type": "stream",
          "text": [
            "Epoch 1/2\n",
            "38/38 [==============================] - 72s 2s/step - loss: 6.3144\n",
            "Epoch 2/2\n",
            "38/38 [==============================] - 67s 2s/step - loss: 2.5070\n"
          ],
          "name": "stdout"
        }
      ]
    },
    {
      "cell_type": "code",
      "metadata": {
        "colab": {
          "base_uri": "https://localhost:8080/"
        },
        "id": "2sCLaZLCPqkx",
        "outputId": "8e5acb71-54ce-48cd-e6fd-cc128e0c25b8"
      },
      "source": [
        "def generate_result(test_sentence, model):\r\n",
        "  prediction = \"\"\r\n",
        "  words = [0]\r\n",
        "  while len(prediction) < 232:\r\n",
        "    # prediction_prep = tokenize_python(tf.constant([prediction]))\r\n",
        "    word_pred = model.predict((np.array([test_sentence]), np.array(words)))\r\n",
        "    result, word_idx = postprocess_codes(word_pred, vocabulary)\r\n",
        "\r\n",
        "    \r\n",
        "    if word_idx == 1:\r\n",
        "      break\r\n",
        "    elif word_idx == 0:\r\n",
        "      prediction += \"[UNK]\"\r\n",
        "    else:\r\n",
        "      prediction += result\r\n",
        "    words += word_idx\r\n",
        "  return prediction\r\n",
        "\r\n",
        "print(len(vocabulary))\r\n",
        "print(generate_result(\"add 5 and 6.\", embedding_model))\r\n",
        "print(generate_result(\"read the file fun.txt.\", embedding_model))"
      ],
      "execution_count": 104,
      "outputs": [
        {
          "output_type": "stream",
          "text": [
            "2840\n",
            "forfor)os.[os...).[))for.....for[....)).[..,.[=.......[0..,...for)))..[)..)..).for).)..)for..).)=for)..].).)..=..for).)).).))))..for.)....0.for,.).)...).[...for)..))[.)....))...)..].[[for)..[....).)....for.)..).).for..)for..)))..)).\n",
            "forfor)os.[os...).[))for.....for[....)).[..,.[=.......[0..,...for)))..[)..)..).for)....for....)=for)..].).)..=..for).)).).))))..for.)....0.for].)...]).[...for)..))[.)....))...)..].[[for)..[....).)....for.)..).).for..)for..)))..)).for\n"
          ],
          "name": "stdout"
        }
      ]
    },
    {
      "cell_type": "code",
      "metadata": {
        "id": "z8JDMxzKRcqp"
      },
      "source": [
        ""
      ],
      "execution_count": 97,
      "outputs": []
    }
  ]
}