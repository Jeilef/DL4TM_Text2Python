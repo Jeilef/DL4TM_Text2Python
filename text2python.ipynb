{
 "cells": [
  {
   "cell_type": "code",
   "execution_count": null,
   "metadata": {
    "colab": {
     "base_uri": "https://localhost:8080/"
    },
    "id": "0PWqFit9fVxs",
    "outputId": "13028707-3a9e-4a53-aa1e-2955816d5dfd"
   },
   "outputs": [],
   "source": [
    "!pip install --quiet tensorflow-text\n",
    "# Clone the entire repo.\n",
    "%cd /content/\n",
    "!rm -r -f dl4tm\n",
    "!git clone git://github.com/Jeilef/DL4TM_Text2Python.git dl4tm\n",
    "%cd dl4tm\n",
    "!ls"
   ]
  },
  {
   "cell_type": "code",
   "execution_count": 1,
   "metadata": {
    "id": "xGOg39-ahQmx"
   },
   "outputs": [],
   "source": [
    "import numpy as np\n",
    "import json\n",
    "import logging\n",
    "from tokenize import tokenize\n",
    "from io import BytesIO\n",
    "import tensorflow_hub as hub\n",
    "import tensorflow as tf\n",
    "import tensorflow.keras as keras\n",
    "import tensorflow_text # See https://github.com/tensorflow/hub/issues/463"
   ]
  },
  {
   "cell_type": "code",
   "execution_count": 2,
   "metadata": {},
   "outputs": [],
   "source": [
    "logging.getLogger('tensorflow').setLevel(logging.ERROR)  # suppress warnings"
   ]
  },
  {
   "cell_type": "code",
   "execution_count": 3,
   "metadata": {
    "colab": {
     "base_uri": "https://localhost:8080/"
    },
    "id": "uiGAS3YofVxx",
    "outputId": "eebde498-a5a9-4152-ab44-0e959cc7dcf2",
    "pycharm": {
     "name": "#%%\n"
    }
   },
   "outputs": [
    {
     "name": "stdout",
     "output_type": "stream",
     "text": [
      "2379\n",
      "{'intent': 'How to convert a list of multiple integers into a single integer?', 'rewritten_intent': \"Concatenate elements of a list 'x' of multiple integers to a single integer\", 'snippet': 'sum(d * 10 ** i for i, d in enumerate(x[::-1]))', 'question_id': 41067960}\n"
     ]
    }
   ],
   "source": [
    "train_file = open(\"conala-corpus-v1.1/conala-corpus/conala-train.json\", \"r\")\n",
    "train_json = json.load(train_file)\n",
    "\n",
    "print(len(train_json))\n",
    "print(train_json[0])"
   ]
  },
  {
   "cell_type": "code",
   "execution_count": 4,
   "metadata": {
    "colab": {
     "base_uri": "https://localhost:8080/"
    },
    "id": "3JqfNJUPfVxx",
    "outputId": "cf5c2f0c-23c2-47f7-825c-9d67b0d025ae",
    "pycharm": {
     "name": "#%%\n"
    }
   },
   "outputs": [
    {
     "name": "stdout",
     "output_type": "stream",
     "text": [
      "Concatenate elements of a list 'x' of multiple integers to a single integer\n",
      "sum(d * 10 ** i for i, d in enumerate(x[::-1]))\n"
     ]
    }
   ],
   "source": [
    "base_sentences = [item[\"rewritten_intent\"] for item in train_json]\n",
    "codes = [item[\"snippet\"] for item in train_json]\n",
    "\n",
    "print(base_sentences[0])\n",
    "print(codes[0])"
   ]
  },
  {
   "cell_type": "code",
   "execution_count": 5,
   "metadata": {},
   "outputs": [
    {
     "data": {
      "text/plain": [
       "<tf.Tensor: shape=(26,), dtype=string, numpy=\n",
       "array([b'utf-8', b'sum', b'(', b'd', b'*', b'10', b'**', b'i', b'for',\n",
       "       b'i', b',', b'd', b'in', b'enumerate', b'(', b'x', b'[', b':',\n",
       "       b':', b'-', b'1', b']', b')', b')', b'', b''], dtype=object)>"
      ]
     },
     "execution_count": 5,
     "metadata": {},
     "output_type": "execute_result"
    }
   ],
   "source": [
    "# Use custom tokenize function for code snippets\n",
    "def tokenize_python(s):\n",
    "    tokenized = tokenize(BytesIO(s.numpy()).readline)\n",
    "    tokens = [token[1] for token in tokenized]\n",
    "    tensor = tf.convert_to_tensor(tokens, dtype=tf.string)\n",
    "    \n",
    "    return tensor\n",
    "\n",
    "example = tf.constant(codes[0])\n",
    "tokenize_python(example)"
   ]
  },
  {
   "cell_type": "code",
   "execution_count": 6,
   "metadata": {},
   "outputs": [],
   "source": [
    "data = tf.data.Dataset.from_tensor_slices(codes)\n",
    "data = data.map(lambda x : tf.py_function(func=tokenize_python, inp=[x], Tout=tf.string))"
   ]
  },
  {
   "cell_type": "code",
   "execution_count": 7,
   "metadata": {
    "id": "-3L7pM-RfVxy",
    "pycharm": {
     "name": "#%%\n"
    }
   },
   "outputs": [],
   "source": [
    "# Pretrained BERT encoder\n",
    "text_input = tf.keras.layers.Input(shape=(), dtype=tf.string)\n",
    "preprocessor = hub.KerasLayer(\"https://tfhub.dev/tensorflow/bert_en_uncased_preprocess/3\")\n",
    "encoder_inputs = preprocessor(text_input)\n",
    "encoder = hub.KerasLayer(\"https://tfhub.dev/tensorflow/small_bert/bert_en_uncased_L-2_H-128_A-2/1\", trainable=True)\n",
    "outputs = encoder(encoder_inputs)\n",
    "pooled_output = outputs[\"pooled_output\"]      # [batch_size, 128].\n",
    "sequence_output = outputs[\"sequence_output\"]  # [batch_size, seq_length, 128]."
   ]
  },
  {
   "cell_type": "code",
   "execution_count": 8,
   "metadata": {},
   "outputs": [],
   "source": [
    "# Transformer Decoder  taken from https://www.tensorflow.org/tutorials/text/transformer\n",
    "from transformer_util import Decoder\n",
    "output_tokens = 8000\n",
    "sample_decoder = Decoder(num_layers=2, d_model=128, num_heads=2,\n",
    "                         dff=128, target_vocab_size=output_tokens,\n",
    "                         maximum_position_encoding=5000)\n",
    "\n",
    "decoder_input = tf.keras.layers.Input(shape=(None, ), dtype=tf.string)\n",
    "\n",
    "vectorize_layer = keras.layers.experimental.preprocessing.StringLookup(max_tokens=output_tokens)\n",
    "vectorize_layer.adapt(data)\n",
    "\n",
    "vectorized_input = vectorize_layer(decoder_input)\n",
    "\n",
    "decoder_output, attn = sample_decoder(vectorized_input,\n",
    "                              enc_output=sequence_output,\n",
    "                              training=False,\n",
    "                              look_ahead_mask=None,\n",
    "                              padding_mask=None)\n",
    "final_layer = tf.keras.layers.Dense(output_tokens)\n",
    "output = final_layer(decoder_output)\n",
    "\n",
    "\n",
    "embedding_model = tf.keras.Model((text_input, decoder_input), output)"
   ]
  },
  {
   "cell_type": "code",
   "execution_count": 9,
   "metadata": {},
   "outputs": [
    {
     "name": "stdout",
     "output_type": "stream",
     "text": [
      "(1,) (1, 26)\n"
     ]
    },
    {
     "data": {
      "text/plain": [
       "<tf.Tensor: shape=(1, 26, 8000), dtype=float32, numpy=\n",
       "array([[[ 0.06685135,  0.23810183, -0.32703936, ..., -0.18657616,\n",
       "          0.09967032, -0.05479187],\n",
       "        [ 0.03707373,  0.19308451, -0.32838443, ..., -0.2231875 ,\n",
       "          0.167663  , -0.04584953],\n",
       "        [ 0.12639177,  0.18056276, -0.32306534, ..., -0.23309465,\n",
       "          0.20716378, -0.10085246],\n",
       "        ...,\n",
       "        [-0.00758903,  0.23075674, -0.2615829 , ..., -0.26313978,\n",
       "          0.23697908, -0.07802384],\n",
       "        [ 0.01387751,  0.22539218, -0.31019554, ..., -0.24952956,\n",
       "          0.19790062, -0.06827004],\n",
       "        [ 0.00928868,  0.23075947, -0.30909893, ..., -0.2601089 ,\n",
       "          0.1849049 , -0.06817085]]], dtype=float32)>"
      ]
     },
     "execution_count": 9,
     "metadata": {},
     "output_type": "execute_result"
    }
   ],
   "source": [
    "sentence = tf.constant([train_json[0][\"rewritten_intent\"]])\n",
    "snippet = tf.constant(train_json[0][\"snippet\"])\n",
    "snippet = tf.py_function(func=tokenize_python, inp=[snippet], Tout=tf.string)\n",
    "snippet = tf.expand_dims(snippet, axis=0)\n",
    "print(sentence.shape, snippet.shape)\n",
    "result = embedding_model((sentence, snippet))\n",
    "result"
   ]
  },
  {
   "cell_type": "code",
   "execution_count": 10,
   "metadata": {},
   "outputs": [],
   "source": [
    "# TODO: Preprocess code samples\n",
    "# TODO: Set up masking\n",
    "# TODO: Run training"
   ]
  },
  {
   "cell_type": "code",
   "execution_count": null,
   "metadata": {},
   "outputs": [],
   "source": []
  }
 ],
 "metadata": {
  "colab": {
   "name": "text2python.ipynb",
   "provenance": []
  },
  "kernelspec": {
   "display_name": "Python 3",
   "language": "python",
   "name": "python3"
  },
  "language_info": {
   "codemirror_mode": {
    "name": "ipython",
    "version": 3
   },
   "file_extension": ".py",
   "mimetype": "text/x-python",
   "name": "python",
   "nbconvert_exporter": "python",
   "pygments_lexer": "ipython3",
   "version": "3.8.3"
  }
 },
 "nbformat": 4,
 "nbformat_minor": 1
}
