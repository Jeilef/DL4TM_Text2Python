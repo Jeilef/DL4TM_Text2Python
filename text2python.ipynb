{
  "nbformat": 4,
  "nbformat_minor": 0,
  "metadata": {
    "colab": {
      "name": "text2python.ipynb",
      "provenance": []
    },
    "kernelspec": {
      "display_name": "Python 3",
      "language": "python",
      "name": "python3"
    },
    "language_info": {
      "codemirror_mode": {
        "name": "ipython",
        "version": 3
      },
      "file_extension": ".py",
      "mimetype": "text/x-python",
      "name": "python",
      "nbconvert_exporter": "python",
      "pygments_lexer": "ipython3",
      "version": "3.8.3"
    }
  },
  "cells": [
    {
      "cell_type": "code",
      "metadata": {
        "colab": {
          "base_uri": "https://localhost:8080/"
        },
        "id": "0PWqFit9fVxs",
        "outputId": "00298272-450c-4fca-a972-5103ac5d7493"
      },
      "source": [
        "!pip install --quiet tensorflow-text\n",
        "# Clone the entire repo.\n",
        "%cd /content/\n",
        "!rm -r -f dl4tm\n",
        "!git clone git://github.com/Jeilef/DL4TM_Text2Python.git dl4tm\n",
        "%cd dl4tm\n",
        "!ls"
      ],
      "execution_count": 106,
      "outputs": [
        {
          "output_type": "stream",
          "text": [
            "/content\n",
            "Cloning into 'dl4tm'...\n",
            "remote: Enumerating objects: 85, done.\u001b[K\n",
            "remote: Counting objects: 100% (85/85), done.\u001b[K\n",
            "remote: Compressing objects: 100% (69/69), done.\u001b[K\n",
            "remote: Total 85 (delta 41), reused 39 (delta 13), pack-reused 0\u001b[K\n",
            "Receiving objects: 100% (85/85), 398.92 KiB | 7.25 MiB/s, done.\n",
            "Resolving deltas: 100% (41/41), done.\n",
            "/content/dl4tm\n",
            "conala-corpus-v1.1  README.md\t      text2python.ipynb  transformer_util.py\n",
            "google.ipynb\t    requirements.txt  transformer.ipynb\n"
          ],
          "name": "stdout"
        }
      ]
    },
    {
      "cell_type": "code",
      "metadata": {
        "id": "xGOg39-ahQmx"
      },
      "source": [
        "import numpy as np\n",
        "import json\n",
        "import logging\n",
        "from tokenize import tokenize\n",
        "from io import BytesIO\n",
        "import tensorflow_hub as hub\n",
        "import tensorflow as tf\n",
        "import tensorflow.keras as keras\n",
        "import tensorflow_text # See https://github.com/tensorflow/hub/issues/463"
      ],
      "execution_count": 107,
      "outputs": []
    },
    {
      "cell_type": "code",
      "metadata": {
        "id": "72O-_UMNhvZF"
      },
      "source": [
        "logging.getLogger('tensorflow').setLevel(logging.ERROR)  # suppress warnings"
      ],
      "execution_count": 108,
      "outputs": []
    },
    {
      "cell_type": "code",
      "metadata": {
        "colab": {
          "base_uri": "https://localhost:8080/"
        },
        "id": "uiGAS3YofVxx",
        "pycharm": {
          "name": "#%%\n"
        },
        "outputId": "7bd46d6d-2d55-42ff-8072-1f214242e1d0"
      },
      "source": [
        "train_file = open(\"conala-corpus-v1.1/conala-corpus/conala-train.json\", \"r\")\n",
        "train_json = json.load(train_file)\n",
        "\n",
        "print(len(train_json))\n",
        "print(train_json[0])"
      ],
      "execution_count": 109,
      "outputs": [
        {
          "output_type": "stream",
          "text": [
            "2379\n",
            "{'intent': 'How to convert a list of multiple integers into a single integer?', 'rewritten_intent': \"Concatenate elements of a list 'x' of multiple integers to a single integer\", 'snippet': 'sum(d * 10 ** i for i, d in enumerate(x[::-1]))', 'question_id': 41067960}\n"
          ],
          "name": "stdout"
        }
      ]
    },
    {
      "cell_type": "code",
      "metadata": {
        "colab": {
          "base_uri": "https://localhost:8080/"
        },
        "id": "3JqfNJUPfVxx",
        "pycharm": {
          "name": "#%%\n"
        },
        "outputId": "f334f63d-781a-4c23-af27-4491b84e9023"
      },
      "source": [
        "base_sentences = np.array([item[\"rewritten_intent\"] for item in train_json])\n",
        "codes = np.array([item[\"snippet\"] for item in train_json])\n",
        "\n",
        "print(base_sentences[0])\n",
        "print(codes[0])"
      ],
      "execution_count": 110,
      "outputs": [
        {
          "output_type": "stream",
          "text": [
            "Concatenate elements of a list 'x' of multiple integers to a single integer\n",
            "sum(d * 10 ** i for i, d in enumerate(x[::-1]))\n"
          ],
          "name": "stdout"
        }
      ]
    },
    {
      "cell_type": "code",
      "metadata": {
        "id": "YwH4n9_dhvZG",
        "colab": {
          "base_uri": "https://localhost:8080/"
        },
        "outputId": "2721e8ff-ef7f-4a81-f7f0-829557bb7d99"
      },
      "source": [
        "# Use custom tokenize function for code snippets\n",
        "def tokenize_python(s):\n",
        "    tokenized = tokenize(BytesIO(s.numpy()).readline)\n",
        "    tokens = [token[1] for token in tokenized]\n",
        "    tensor = tf.convert_to_tensor(tokens, dtype=tf.string)\n",
        "    \n",
        "    return tensor\n",
        "\n",
        "def detokenize_python(s):\n",
        "  array = s.numpy()\n",
        "  code = b\"\".join(array)\n",
        "  code = code.encode(\"utf-8\")\n",
        "  return code\n",
        "\n",
        "example = tf.constant(codes[0])\n",
        "tokenize_python(example)"
      ],
      "execution_count": 111,
      "outputs": [
        {
          "output_type": "execute_result",
          "data": {
            "text/plain": [
              "<tf.Tensor: shape=(26,), dtype=string, numpy=\n",
              "array([b'utf-8', b'sum', b'(', b'd', b'*', b'10', b'**', b'i', b'for',\n",
              "       b'i', b',', b'd', b'in', b'enumerate', b'(', b'x', b'[', b':',\n",
              "       b':', b'-', b'1', b']', b')', b')', b'', b''], dtype=object)>"
            ]
          },
          "metadata": {
            "tags": []
          },
          "execution_count": 111
        }
      ]
    },
    {
      "cell_type": "code",
      "metadata": {
        "id": "c1mNMHnHhvZH"
      },
      "source": [
        "data = tf.data.Dataset.from_tensor_slices(codes)\n",
        "data = data.map(lambda x : tf.py_function(func=tokenize_python, inp=[x], Tout=tf.string))"
      ],
      "execution_count": 112,
      "outputs": []
    },
    {
      "cell_type": "code",
      "metadata": {
        "id": "fJdIDZIhqwOH"
      },
      "source": [
        "from keras.layers.experimental.preprocessing import StringLookup\r\n",
        "\r\n",
        "def preprocess_codes(codes):\r\n",
        "  tokenized_codes = [tf.py_function(func=tokenize_python, inp=[snippet], Tout=tf.string) for snippet in codes]\r\n",
        "  vectorize_layer = StringLookup(max_tokens=output_tokens)\r\n",
        "  vectorize_layer.adapt(data)\r\n",
        "  vectorized_codes = [vectorize_layer(code) for code in tokenized_codes]\r\n",
        "  return tf.keras.preprocessing.sequence.pad_sequences(vectorized_codes, value=0), vectorize_layer.get_vocabulary()\r\n",
        "\r\n",
        "def postprocess_codes(codes, vocabulary):\r\n",
        "  codes = codes.reshape((len(vocabulary) + 2,))\r\n",
        "  word = np.argmax(codes)\r\n",
        "  return vocabulary[word - 2], word # because start and stop are first predictions in first prediction\r\n",
        "  #codes = []\r\n",
        "  #tokenized_codes = [tf.py_function(func=tokenize_python, inp=[snippet], Tout=tf.string) for snippet in codes]\r\n",
        "  #i_layer = StringLookup(vocabulary=vocabulary, invert=True)\r\n",
        "  #vectorized_codes = [vectorize_layer(code) for code in tokenized_codes]\r\n",
        "  #return tf.keras.preprocessing.sequence.pad_sequences(vectorized_codes, value=0)\r\n",
        "\r\n",
        "tokenized_codes, vocabulary = preprocess_codes(codes)"
      ],
      "execution_count": 113,
      "outputs": []
    },
    {
      "cell_type": "code",
      "metadata": {
        "colab": {
          "base_uri": "https://localhost:8080/"
        },
        "id": "M4o3T5EwvI_Q",
        "outputId": "e81c8c7f-f9b3-4019-af93-ee79f40f68a6"
      },
      "source": [
        "def create_look_ahead_mask(size):\r\n",
        "  mask = 1 - tf.linalg.band_part(tf.ones((size, size)), -1, 0)\r\n",
        "  return mask\r\n",
        "\r\n",
        "def create_padding_mask(seq):\r\n",
        "  seq = tf.cast(tf.math.equal(seq, 0), tf.float32)\r\n",
        "  return seq[:, tf.newaxis, tf.newaxis, :]\r\n",
        "\r\n",
        "\r\n",
        "class DecoderMasking(tf.keras.layers.Layer):\r\n",
        "  def call(self, targets):\r\n",
        "    padded_targets = create_padding_mask(targets)\r\n",
        "    look_ahead_mask = create_look_ahead_mask(tf.shape(targets)[1])\r\n",
        "    return tf.maximum(padded_targets, look_ahead_mask)\r\n",
        "\r\n",
        "class DecoderPaddingMasked(tf.keras.layers.Layer):\r\n",
        "  def call(self, inputs):\r\n",
        "    expanded_inputs = inputs[:, tf.newaxis, tf.newaxis, :]\r\n",
        "    return tf.cast(expanded_inputs, tf.float32)\r\n",
        "\r\n",
        "example = tf.constant(codes[0])\r\n",
        "tokenized_example = tokenize_python(example)\r\n",
        "\r\n",
        "vectorize_layer = keras.layers.experimental.preprocessing.StringLookup(max_tokens=8000)\r\n",
        "vectorize_layer.adapt(data)\r\n",
        "\r\n",
        "vectorized_example = vectorize_layer(tokenized_example)\r\n",
        "\r\n",
        "masking = DecoderMasking()\r\n",
        "lam = masking(tf.convert_to_tensor(([vectorized_example])))\r\n",
        "print(lam.shape)"
      ],
      "execution_count": 114,
      "outputs": [
        {
          "output_type": "stream",
          "text": [
            "(1, 1, 26, 26)\n"
          ],
          "name": "stdout"
        }
      ]
    },
    {
      "cell_type": "code",
      "metadata": {
        "id": "-3L7pM-RfVxy",
        "pycharm": {
          "name": "#%%\n"
        }
      },
      "source": [
        "# Pretrained BERT encoder\n",
        "encoder_inputs = tf.keras.layers.Input(shape=(None,), dtype=tf.string)\n",
        "preprocessor = hub.KerasLayer(\"https://tfhub.dev/tensorflow/bert_en_uncased_preprocess/3\")\n",
        "encoder_inputs = preprocessor(text_input)\n",
        "encoder = hub.KerasLayer(\"https://tfhub.dev/tensorflow/small_bert/bert_en_uncased_L-2_H-128_A-2/1\", trainable=True)\n",
        "outputs = encoder(encoder_inputs)\n",
        "pooled_output = outputs[\"pooled_output\"]      # [batch_size, 128].\n",
        "sequence_output = outputs[\"sequence_output\"]  # [batch_size, seq_length, 128]."
      ],
      "execution_count": 115,
      "outputs": []
    },
    {
      "cell_type": "code",
      "metadata": {
        "id": "kl5cOIChhvZH",
        "colab": {
          "base_uri": "https://localhost:8080/"
        },
        "outputId": "9b30e7c6-eca7-4bad-81e8-029205992ec9"
      },
      "source": [
        "# Transformer Decoder  taken from https://www.tensorflow.org/tutorials/text/transformer\n",
        "from transformer_util import Decoder\n",
        "output_tokens = len(vocabulary) + 2 # start and stop token \n",
        "sample_decoder = Decoder(num_layers=2, d_model=128, num_heads=2,\n",
        "                         dff=128, target_vocab_size=output_tokens,\n",
        "                         maximum_position_encoding=5000)\n",
        "\n",
        "decoder_input = tf.keras.layers.Input(shape=(None,), dtype=tf.int32)\n",
        "\n",
        "# Apply masking layer here\n",
        "look_ahead_mask = DecoderMasking()(decoder_input)\n",
        "dec_padding_mask = DecoderPaddingMasked()(encoder_inputs['input_mask'])\n",
        "\n",
        "decoder_output, attn = sample_decoder(decoder_input,\n",
        "                              enc_output=sequence_output,\n",
        "                              training=False,\n",
        "                              look_ahead_mask=look_ahead_mask,\n",
        "                              padding_mask=dec_padding_mask)\n",
        "final_layer = tf.keras.layers.Dense(output_tokens)\n",
        "output = final_layer(decoder_output)\n",
        "\n",
        "\n",
        "embedding_model = tf.keras.Model((text_input, decoder_input), output)\n",
        "embedding_model.summary()"
      ],
      "execution_count": 116,
      "outputs": [
        {
          "output_type": "stream",
          "text": [
            "Model: \"model_6\"\n",
            "__________________________________________________________________________________________________\n",
            "Layer (type)                    Output Shape         Param #     Connected to                     \n",
            "==================================================================================================\n",
            "input_1 (InputLayer)            [(None,)]            0                                            \n",
            "__________________________________________________________________________________________________\n",
            "input_13 (InputLayer)           [(None, None)]       0                                            \n",
            "__________________________________________________________________________________________________\n",
            "keras_layer_10 (KerasLayer)     {'input_mask': (None 0           input_1[0][0]                    \n",
            "__________________________________________________________________________________________________\n",
            "keras_layer_11 (KerasLayer)     {'pooled_output': (N 4385921     keras_layer_10[0][0]             \n",
            "                                                                 keras_layer_10[0][1]             \n",
            "                                                                 keras_layer_10[0][2]             \n",
            "__________________________________________________________________________________________________\n",
            "decoder_masking_10 (DecoderMask (None, 1, None, None 0           input_13[0][0]                   \n",
            "__________________________________________________________________________________________________\n",
            "decoder_padding_masked_5 (Decod (None, 1, 1, 128)    0           keras_layer_10[0][0]             \n",
            "__________________________________________________________________________________________________\n",
            "decoder_6 (Decoder)             ((None, None, 128),  695552      input_13[0][0]                   \n",
            "                                                                 keras_layer_11[0][4]             \n",
            "                                                                 decoder_masking_10[0][0]         \n",
            "                                                                 decoder_padding_masked_5[0][0]   \n",
            "__________________________________________________________________________________________________\n",
            "dense_146 (Dense)               (None, None, 2842)   366618      decoder_6[0][0]                  \n",
            "==================================================================================================\n",
            "Total params: 5,448,091\n",
            "Trainable params: 5,448,090\n",
            "Non-trainable params: 1\n",
            "__________________________________________________________________________________________________\n"
          ],
          "name": "stdout"
        }
      ]
    },
    {
      "cell_type": "code",
      "metadata": {
        "id": "3q8HrJY9hvZH",
        "colab": {
          "base_uri": "https://localhost:8080/"
        },
        "outputId": "98b2cc6e-5ecd-4dbf-acd4-8824a8e3eb9e"
      },
      "source": [
        "sentence = tf.constant([train_json[0][\"rewritten_intent\"]])\n",
        "snippet = tf.constant(train_json[0][\"snippet\"])\n",
        "snippet = tf.py_function(func=tokenize_python, inp=[snippet], Tout=tf.string)\n",
        "snippet = tf.expand_dims(snippet, axis=0)\n",
        "print(sentence.shape, snippet.shape)\n",
        "# result = embedding_model((sentence, snippet))\n",
        "result"
      ],
      "execution_count": 117,
      "outputs": [
        {
          "output_type": "stream",
          "text": [
            "(1,) (1, 26)\n"
          ],
          "name": "stdout"
        },
        {
          "output_type": "execute_result",
          "data": {
            "text/plain": [
              "<tf.Tensor: shape=(1, 26, 8000), dtype=float32, numpy=\n",
              "array([[[ 0.25900948,  0.05902249,  0.00255737, ..., -0.14142132,\n",
              "          0.060927  ,  0.23605488],\n",
              "        [ 0.2641915 ,  0.04997048,  0.11746741, ..., -0.11563613,\n",
              "          0.0299585 ,  0.2452411 ],\n",
              "        [ 0.22051044, -0.03371699,  0.07480508, ..., -0.12167043,\n",
              "          0.09683892,  0.18546578],\n",
              "        ...,\n",
              "        [ 0.21927257, -0.07914125,  0.10151628, ..., -0.08671107,\n",
              "          0.06166898,  0.28820792],\n",
              "        [ 0.1649797 , -0.09419025,  0.05277481, ..., -0.0641139 ,\n",
              "          0.06363688,  0.22325364],\n",
              "        [ 0.16321684, -0.08993292,  0.04195784, ..., -0.05346364,\n",
              "          0.04414991,  0.2221666 ]]], dtype=float32)>"
            ]
          },
          "metadata": {
            "tags": []
          },
          "execution_count": 117
        }
      ]
    },
    {
      "cell_type": "code",
      "metadata": {
        "id": "S-UoUD8ShvZI"
      },
      "source": [
        "# TODO: Preprocess code samples\n",
        "# TODO: Set up masking\n",
        "# TODO: Run training"
      ],
      "execution_count": 118,
      "outputs": []
    },
    {
      "cell_type": "code",
      "metadata": {
        "id": "S_zGqYSDhvZI"
      },
      "source": [
        "# Taken from https://www.tensorflow.org/tutorials/text/transformer\r\n",
        "loss_object = tf.keras.losses.SparseCategoricalCrossentropy(\r\n",
        "    from_logits=True, reduction='none')\r\n",
        "\r\n",
        "def loss_function(real, pred):\r\n",
        "  mask = tf.math.logical_not(tf.math.equal(real, 0))\r\n",
        "  loss_ = loss_object(real, pred)\r\n",
        "\r\n",
        "  mask = tf.cast(mask, dtype=loss_.dtype)\r\n",
        "  loss_ *= mask\r\n",
        "\r\n",
        "  return tf.reduce_sum(loss_)/tf.reduce_sum(mask)\r\n",
        "\r\n",
        "optimizer = tf.keras.optimizers.Adam(learning_rate=0.001, beta_1=0.9, \r\n",
        "                                     beta_2=0.98, epsilon=1e-9)\r\n",
        "embedding_model.compile(optimizer, loss_function)"
      ],
      "execution_count": 119,
      "outputs": []
    },
    {
      "cell_type": "code",
      "metadata": {
        "id": "PkSHANAUHQxG"
      },
      "source": [
        "base_sentences = np.array(['' if v is None else v for v in base_sentences])"
      ],
      "execution_count": 120,
      "outputs": []
    },
    {
      "cell_type": "code",
      "metadata": {
        "id": "aW0UicVUrgbv",
        "colab": {
          "base_uri": "https://localhost:8080/"
        },
        "outputId": "55ece4fc-125b-44ca-e056-6beaa3b2dacd"
      },
      "source": [
        "history = embedding_model.fit([base_sentences, tokenized_codes], tokenized_codes, batch_size=64, epochs=15)"
      ],
      "execution_count": 121,
      "outputs": [
        {
          "output_type": "stream",
          "text": [
            "Epoch 1/15\n",
            "38/38 [==============================] - 74s 2s/step - loss: 6.3215\n",
            "Epoch 2/15\n",
            "38/38 [==============================] - 65s 2s/step - loss: 2.3900\n",
            "Epoch 3/15\n",
            "38/38 [==============================] - 64s 2s/step - loss: 1.1449\n",
            "Epoch 4/15\n",
            "38/38 [==============================] - 64s 2s/step - loss: 0.7157\n",
            "Epoch 5/15\n",
            "38/38 [==============================] - 69s 2s/step - loss: 0.5091\n",
            "Epoch 6/15\n",
            "38/38 [==============================] - 64s 2s/step - loss: 0.3611\n",
            "Epoch 7/15\n",
            "38/38 [==============================] - 65s 2s/step - loss: 0.2658\n",
            "Epoch 8/15\n",
            "38/38 [==============================] - 65s 2s/step - loss: 0.1925\n",
            "Epoch 9/15\n",
            "38/38 [==============================] - 64s 2s/step - loss: 0.1329\n",
            "Epoch 10/15\n",
            "38/38 [==============================] - 66s 2s/step - loss: 0.0865\n",
            "Epoch 11/15\n",
            "38/38 [==============================] - 64s 2s/step - loss: 0.0515\n",
            "Epoch 12/15\n",
            "38/38 [==============================] - 64s 2s/step - loss: 0.0275\n",
            "Epoch 13/15\n",
            "38/38 [==============================] - 64s 2s/step - loss: 0.0153\n",
            "Epoch 14/15\n",
            "38/38 [==============================] - 64s 2s/step - loss: 0.0093\n",
            "Epoch 15/15\n",
            "38/38 [==============================] - 69s 2s/step - loss: 0.0057\n"
          ],
          "name": "stdout"
        }
      ]
    },
    {
      "cell_type": "code",
      "metadata": {
        "colab": {
          "base_uri": "https://localhost:8080/",
          "height": 582
        },
        "id": "2sCLaZLCPqkx",
        "outputId": "83d5bf81-91cc-4f4e-e46a-960c052fe117"
      },
      "source": [
        "def generate_result(test_sentence, model):\r\n",
        "  prediction = \"\"\r\n",
        "  words = [0]\r\n",
        "  while len(prediction) < 100:\r\n",
        "    # prediction_prep = tokenize_python(tf.constant([prediction]))\r\n",
        "    word_pred = model.predict((np.array([test_sentence]), np.array(words)))\r\n",
        "    result, word_idx = postprocess_codes(word_pred, vocabulary)\r\n",
        "\r\n",
        "    if word_idx == 1:\r\n",
        "      break\r\n",
        "    elif word_idx == 0:\r\n",
        "      prediction += \"[UNK]\"\r\n",
        "    else:\r\n",
        "      prediction += result\r\n",
        "    words += word_idx\r\n",
        "  return prediction\r\n",
        "\r\n",
        "print(len(vocabulary))\r\n",
        "print(generate_result(\"add 5 and 6.\", embedding_model))\r\n",
        "print(generate_result(\"read the file fun.txt.\", embedding_model))\r\n",
        "print(generate_result(\"Concatenate elements of a list 'x' of multiple integers to a single integer\", embedding_model))"
      ],
      "execution_count": 123,
      "outputs": [
        {
          "output_type": "stream",
          "text": [
            "2840\n"
          ],
          "name": "stdout"
        },
        {
          "output_type": "error",
          "ename": "InvalidArgumentError",
          "evalue": "ignored",
          "traceback": [
            "\u001b[0;31m---------------------------------------------------------------------------\u001b[0m",
            "\u001b[0;31mInvalidArgumentError\u001b[0m                      Traceback (most recent call last)",
            "\u001b[0;32m<ipython-input-123-ef786220aca3>\u001b[0m in \u001b[0;36m<module>\u001b[0;34m()\u001b[0m\n\u001b[1;32m     17\u001b[0m \u001b[0;34m\u001b[0m\u001b[0m\n\u001b[1;32m     18\u001b[0m \u001b[0mprint\u001b[0m\u001b[0;34m(\u001b[0m\u001b[0mlen\u001b[0m\u001b[0;34m(\u001b[0m\u001b[0mvocabulary\u001b[0m\u001b[0;34m)\u001b[0m\u001b[0;34m)\u001b[0m\u001b[0;34m\u001b[0m\u001b[0;34m\u001b[0m\u001b[0m\n\u001b[0;32m---> 19\u001b[0;31m \u001b[0mprint\u001b[0m\u001b[0;34m(\u001b[0m\u001b[0mgenerate_result\u001b[0m\u001b[0;34m(\u001b[0m\u001b[0;34m\"add 5 and 6.\"\u001b[0m\u001b[0;34m,\u001b[0m \u001b[0membedding_model\u001b[0m\u001b[0;34m)\u001b[0m\u001b[0;34m)\u001b[0m\u001b[0;34m\u001b[0m\u001b[0;34m\u001b[0m\u001b[0m\n\u001b[0m\u001b[1;32m     20\u001b[0m \u001b[0mprint\u001b[0m\u001b[0;34m(\u001b[0m\u001b[0mgenerate_result\u001b[0m\u001b[0;34m(\u001b[0m\u001b[0;34m\"read the file fun.txt.\"\u001b[0m\u001b[0;34m,\u001b[0m \u001b[0membedding_model\u001b[0m\u001b[0;34m)\u001b[0m\u001b[0;34m)\u001b[0m\u001b[0;34m\u001b[0m\u001b[0;34m\u001b[0m\u001b[0m\n\u001b[1;32m     21\u001b[0m \u001b[0mprint\u001b[0m\u001b[0;34m(\u001b[0m\u001b[0mgenerate_result\u001b[0m\u001b[0;34m(\u001b[0m\u001b[0;34m\"Concatenate elements of a list 'x' of multiple integers to a single integer\"\u001b[0m\u001b[0;34m,\u001b[0m \u001b[0membedding_model\u001b[0m\u001b[0;34m)\u001b[0m\u001b[0;34m)\u001b[0m\u001b[0;34m\u001b[0m\u001b[0;34m\u001b[0m\u001b[0m\n",
            "\u001b[0;32m<ipython-input-123-ef786220aca3>\u001b[0m in \u001b[0;36mgenerate_result\u001b[0;34m(test_sentence, model)\u001b[0m\n\u001b[1;32m      4\u001b[0m   \u001b[0;32mwhile\u001b[0m \u001b[0mlen\u001b[0m\u001b[0;34m(\u001b[0m\u001b[0mprediction\u001b[0m\u001b[0;34m)\u001b[0m \u001b[0;34m<\u001b[0m \u001b[0;36m100\u001b[0m\u001b[0;34m:\u001b[0m\u001b[0;34m\u001b[0m\u001b[0;34m\u001b[0m\u001b[0m\n\u001b[1;32m      5\u001b[0m     \u001b[0;31m# prediction_prep = tokenize_python(tf.constant([prediction]))\u001b[0m\u001b[0;34m\u001b[0m\u001b[0;34m\u001b[0m\u001b[0;34m\u001b[0m\u001b[0m\n\u001b[0;32m----> 6\u001b[0;31m     \u001b[0mword_pred\u001b[0m \u001b[0;34m=\u001b[0m \u001b[0mmodel\u001b[0m\u001b[0;34m.\u001b[0m\u001b[0mpredict\u001b[0m\u001b[0;34m(\u001b[0m\u001b[0;34m(\u001b[0m\u001b[0mnp\u001b[0m\u001b[0;34m.\u001b[0m\u001b[0marray\u001b[0m\u001b[0;34m(\u001b[0m\u001b[0;34m[\u001b[0m\u001b[0mtest_sentence\u001b[0m\u001b[0;34m]\u001b[0m\u001b[0;34m)\u001b[0m\u001b[0;34m,\u001b[0m \u001b[0mnp\u001b[0m\u001b[0;34m.\u001b[0m\u001b[0marray\u001b[0m\u001b[0;34m(\u001b[0m\u001b[0mwords\u001b[0m\u001b[0;34m)\u001b[0m\u001b[0;34m)\u001b[0m\u001b[0;34m)\u001b[0m\u001b[0;34m\u001b[0m\u001b[0;34m\u001b[0m\u001b[0m\n\u001b[0m\u001b[1;32m      7\u001b[0m     \u001b[0mresult\u001b[0m\u001b[0;34m,\u001b[0m \u001b[0mword_idx\u001b[0m \u001b[0;34m=\u001b[0m \u001b[0mpostprocess_codes\u001b[0m\u001b[0;34m(\u001b[0m\u001b[0mword_pred\u001b[0m\u001b[0;34m,\u001b[0m \u001b[0mvocabulary\u001b[0m\u001b[0;34m)\u001b[0m\u001b[0;34m\u001b[0m\u001b[0;34m\u001b[0m\u001b[0m\n\u001b[1;32m      8\u001b[0m \u001b[0;34m\u001b[0m\u001b[0m\n",
            "\u001b[0;32m/usr/local/lib/python3.6/dist-packages/tensorflow/python/keras/engine/training.py\u001b[0m in \u001b[0;36mpredict\u001b[0;34m(self, x, batch_size, verbose, steps, callbacks, max_queue_size, workers, use_multiprocessing)\u001b[0m\n\u001b[1;32m   1627\u001b[0m           \u001b[0;32mfor\u001b[0m \u001b[0mstep\u001b[0m \u001b[0;32min\u001b[0m \u001b[0mdata_handler\u001b[0m\u001b[0;34m.\u001b[0m\u001b[0msteps\u001b[0m\u001b[0;34m(\u001b[0m\u001b[0;34m)\u001b[0m\u001b[0;34m:\u001b[0m\u001b[0;34m\u001b[0m\u001b[0;34m\u001b[0m\u001b[0m\n\u001b[1;32m   1628\u001b[0m             \u001b[0mcallbacks\u001b[0m\u001b[0;34m.\u001b[0m\u001b[0mon_predict_batch_begin\u001b[0m\u001b[0;34m(\u001b[0m\u001b[0mstep\u001b[0m\u001b[0;34m)\u001b[0m\u001b[0;34m\u001b[0m\u001b[0;34m\u001b[0m\u001b[0m\n\u001b[0;32m-> 1629\u001b[0;31m             \u001b[0mtmp_batch_outputs\u001b[0m \u001b[0;34m=\u001b[0m \u001b[0mself\u001b[0m\u001b[0;34m.\u001b[0m\u001b[0mpredict_function\u001b[0m\u001b[0;34m(\u001b[0m\u001b[0miterator\u001b[0m\u001b[0;34m)\u001b[0m\u001b[0;34m\u001b[0m\u001b[0;34m\u001b[0m\u001b[0m\n\u001b[0m\u001b[1;32m   1630\u001b[0m             \u001b[0;32mif\u001b[0m \u001b[0mdata_handler\u001b[0m\u001b[0;34m.\u001b[0m\u001b[0mshould_sync\u001b[0m\u001b[0;34m:\u001b[0m\u001b[0;34m\u001b[0m\u001b[0;34m\u001b[0m\u001b[0m\n\u001b[1;32m   1631\u001b[0m               \u001b[0mcontext\u001b[0m\u001b[0;34m.\u001b[0m\u001b[0masync_wait\u001b[0m\u001b[0;34m(\u001b[0m\u001b[0;34m)\u001b[0m\u001b[0;34m\u001b[0m\u001b[0;34m\u001b[0m\u001b[0m\n",
            "\u001b[0;32m/usr/local/lib/python3.6/dist-packages/tensorflow/python/eager/def_function.py\u001b[0m in \u001b[0;36m__call__\u001b[0;34m(self, *args, **kwds)\u001b[0m\n\u001b[1;32m    826\u001b[0m     \u001b[0mtracing_count\u001b[0m \u001b[0;34m=\u001b[0m \u001b[0mself\u001b[0m\u001b[0;34m.\u001b[0m\u001b[0mexperimental_get_tracing_count\u001b[0m\u001b[0;34m(\u001b[0m\u001b[0;34m)\u001b[0m\u001b[0;34m\u001b[0m\u001b[0;34m\u001b[0m\u001b[0m\n\u001b[1;32m    827\u001b[0m     \u001b[0;32mwith\u001b[0m \u001b[0mtrace\u001b[0m\u001b[0;34m.\u001b[0m\u001b[0mTrace\u001b[0m\u001b[0;34m(\u001b[0m\u001b[0mself\u001b[0m\u001b[0;34m.\u001b[0m\u001b[0m_name\u001b[0m\u001b[0;34m)\u001b[0m \u001b[0;32mas\u001b[0m \u001b[0mtm\u001b[0m\u001b[0;34m:\u001b[0m\u001b[0;34m\u001b[0m\u001b[0;34m\u001b[0m\u001b[0m\n\u001b[0;32m--> 828\u001b[0;31m       \u001b[0mresult\u001b[0m \u001b[0;34m=\u001b[0m \u001b[0mself\u001b[0m\u001b[0;34m.\u001b[0m\u001b[0m_call\u001b[0m\u001b[0;34m(\u001b[0m\u001b[0;34m*\u001b[0m\u001b[0margs\u001b[0m\u001b[0;34m,\u001b[0m \u001b[0;34m**\u001b[0m\u001b[0mkwds\u001b[0m\u001b[0;34m)\u001b[0m\u001b[0;34m\u001b[0m\u001b[0;34m\u001b[0m\u001b[0m\n\u001b[0m\u001b[1;32m    829\u001b[0m       \u001b[0mcompiler\u001b[0m \u001b[0;34m=\u001b[0m \u001b[0;34m\"xla\"\u001b[0m \u001b[0;32mif\u001b[0m \u001b[0mself\u001b[0m\u001b[0;34m.\u001b[0m\u001b[0m_experimental_compile\u001b[0m \u001b[0;32melse\u001b[0m \u001b[0;34m\"nonXla\"\u001b[0m\u001b[0;34m\u001b[0m\u001b[0;34m\u001b[0m\u001b[0m\n\u001b[1;32m    830\u001b[0m       \u001b[0mnew_tracing_count\u001b[0m \u001b[0;34m=\u001b[0m \u001b[0mself\u001b[0m\u001b[0;34m.\u001b[0m\u001b[0mexperimental_get_tracing_count\u001b[0m\u001b[0;34m(\u001b[0m\u001b[0;34m)\u001b[0m\u001b[0;34m\u001b[0m\u001b[0;34m\u001b[0m\u001b[0m\n",
            "\u001b[0;32m/usr/local/lib/python3.6/dist-packages/tensorflow/python/eager/def_function.py\u001b[0m in \u001b[0;36m_call\u001b[0;34m(self, *args, **kwds)\u001b[0m\n\u001b[1;32m    860\u001b[0m       \u001b[0;31m# In this case we have not created variables on the first call. So we can\u001b[0m\u001b[0;34m\u001b[0m\u001b[0;34m\u001b[0m\u001b[0;34m\u001b[0m\u001b[0m\n\u001b[1;32m    861\u001b[0m       \u001b[0;31m# run the first trace but we should fail if variables are created.\u001b[0m\u001b[0;34m\u001b[0m\u001b[0;34m\u001b[0m\u001b[0;34m\u001b[0m\u001b[0m\n\u001b[0;32m--> 862\u001b[0;31m       \u001b[0mresults\u001b[0m \u001b[0;34m=\u001b[0m \u001b[0mself\u001b[0m\u001b[0;34m.\u001b[0m\u001b[0m_stateful_fn\u001b[0m\u001b[0;34m(\u001b[0m\u001b[0;34m*\u001b[0m\u001b[0margs\u001b[0m\u001b[0;34m,\u001b[0m \u001b[0;34m**\u001b[0m\u001b[0mkwds\u001b[0m\u001b[0;34m)\u001b[0m\u001b[0;34m\u001b[0m\u001b[0;34m\u001b[0m\u001b[0m\n\u001b[0m\u001b[1;32m    863\u001b[0m       \u001b[0;32mif\u001b[0m \u001b[0mself\u001b[0m\u001b[0;34m.\u001b[0m\u001b[0m_created_variables\u001b[0m\u001b[0;34m:\u001b[0m\u001b[0;34m\u001b[0m\u001b[0;34m\u001b[0m\u001b[0m\n\u001b[1;32m    864\u001b[0m         raise ValueError(\"Creating variables on a non-first call to a function\"\n",
            "\u001b[0;32m/usr/local/lib/python3.6/dist-packages/tensorflow/python/eager/function.py\u001b[0m in \u001b[0;36m__call__\u001b[0;34m(self, *args, **kwargs)\u001b[0m\n\u001b[1;32m   2941\u001b[0m        filtered_flat_args) = self._maybe_define_function(args, kwargs)\n\u001b[1;32m   2942\u001b[0m     return graph_function._call_flat(\n\u001b[0;32m-> 2943\u001b[0;31m         filtered_flat_args, captured_inputs=graph_function.captured_inputs)  # pylint: disable=protected-access\n\u001b[0m\u001b[1;32m   2944\u001b[0m \u001b[0;34m\u001b[0m\u001b[0m\n\u001b[1;32m   2945\u001b[0m   \u001b[0;34m@\u001b[0m\u001b[0mproperty\u001b[0m\u001b[0;34m\u001b[0m\u001b[0;34m\u001b[0m\u001b[0m\n",
            "\u001b[0;32m/usr/local/lib/python3.6/dist-packages/tensorflow/python/eager/function.py\u001b[0m in \u001b[0;36m_call_flat\u001b[0;34m(self, args, captured_inputs, cancellation_manager)\u001b[0m\n\u001b[1;32m   1917\u001b[0m       \u001b[0;31m# No tape is watching; skip to running the function.\u001b[0m\u001b[0;34m\u001b[0m\u001b[0;34m\u001b[0m\u001b[0;34m\u001b[0m\u001b[0m\n\u001b[1;32m   1918\u001b[0m       return self._build_call_outputs(self._inference_function.call(\n\u001b[0;32m-> 1919\u001b[0;31m           ctx, args, cancellation_manager=cancellation_manager))\n\u001b[0m\u001b[1;32m   1920\u001b[0m     forward_backward = self._select_forward_and_backward_functions(\n\u001b[1;32m   1921\u001b[0m         \u001b[0margs\u001b[0m\u001b[0;34m,\u001b[0m\u001b[0;34m\u001b[0m\u001b[0;34m\u001b[0m\u001b[0m\n",
            "\u001b[0;32m/usr/local/lib/python3.6/dist-packages/tensorflow/python/eager/function.py\u001b[0m in \u001b[0;36mcall\u001b[0;34m(self, ctx, args, cancellation_manager)\u001b[0m\n\u001b[1;32m    558\u001b[0m               \u001b[0minputs\u001b[0m\u001b[0;34m=\u001b[0m\u001b[0margs\u001b[0m\u001b[0;34m,\u001b[0m\u001b[0;34m\u001b[0m\u001b[0;34m\u001b[0m\u001b[0m\n\u001b[1;32m    559\u001b[0m               \u001b[0mattrs\u001b[0m\u001b[0;34m=\u001b[0m\u001b[0mattrs\u001b[0m\u001b[0;34m,\u001b[0m\u001b[0;34m\u001b[0m\u001b[0;34m\u001b[0m\u001b[0m\n\u001b[0;32m--> 560\u001b[0;31m               ctx=ctx)\n\u001b[0m\u001b[1;32m    561\u001b[0m         \u001b[0;32melse\u001b[0m\u001b[0;34m:\u001b[0m\u001b[0;34m\u001b[0m\u001b[0;34m\u001b[0m\u001b[0m\n\u001b[1;32m    562\u001b[0m           outputs = execute.execute_with_cancellation(\n",
            "\u001b[0;32m/usr/local/lib/python3.6/dist-packages/tensorflow/python/eager/execute.py\u001b[0m in \u001b[0;36mquick_execute\u001b[0;34m(op_name, num_outputs, inputs, attrs, ctx, name)\u001b[0m\n\u001b[1;32m     58\u001b[0m     \u001b[0mctx\u001b[0m\u001b[0;34m.\u001b[0m\u001b[0mensure_initialized\u001b[0m\u001b[0;34m(\u001b[0m\u001b[0;34m)\u001b[0m\u001b[0;34m\u001b[0m\u001b[0;34m\u001b[0m\u001b[0m\n\u001b[1;32m     59\u001b[0m     tensors = pywrap_tfe.TFE_Py_Execute(ctx._handle, device_name, op_name,\n\u001b[0;32m---> 60\u001b[0;31m                                         inputs, attrs, num_outputs)\n\u001b[0m\u001b[1;32m     61\u001b[0m   \u001b[0;32mexcept\u001b[0m \u001b[0mcore\u001b[0m\u001b[0;34m.\u001b[0m\u001b[0m_NotOkStatusException\u001b[0m \u001b[0;32mas\u001b[0m \u001b[0me\u001b[0m\u001b[0;34m:\u001b[0m\u001b[0;34m\u001b[0m\u001b[0;34m\u001b[0m\u001b[0m\n\u001b[1;32m     62\u001b[0m     \u001b[0;32mif\u001b[0m \u001b[0mname\u001b[0m \u001b[0;32mis\u001b[0m \u001b[0;32mnot\u001b[0m \u001b[0;32mNone\u001b[0m\u001b[0;34m:\u001b[0m\u001b[0;34m\u001b[0m\u001b[0;34m\u001b[0m\u001b[0m\n",
            "\u001b[0;31mInvalidArgumentError\u001b[0m:  indices[0,0] = 3120 is not in [0, 2842)\n\t [[node model_6/decoder_6/embedding_6/embedding_lookup (defined at /content/dl4tm/transformer_util.py:182) ]] [Op:__inference_predict_function_745599]\n\nErrors may have originated from an input operation.\nInput Source operations connected to node model_6/decoder_6/embedding_6/embedding_lookup:\n model_6/Cast (defined at <ipython-input-122-0a54be7b4e36>:6)\t\n model_6/decoder_6/embedding_6/embedding_lookup/744725 (defined at /usr/lib/python3.6/contextlib.py:81)\n\nFunction call stack:\npredict_function\n"
          ]
        }
      ]
    },
    {
      "cell_type": "code",
      "metadata": {
        "id": "z8JDMxzKRcqp"
      },
      "source": [
        ""
      ],
      "execution_count": null,
      "outputs": []
    }
  ]
}