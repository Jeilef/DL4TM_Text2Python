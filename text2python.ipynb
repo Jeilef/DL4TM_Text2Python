{
 "cells": [
  {
   "cell_type": "code",
   "execution_count": 1,
   "metadata": {
    "colab": {
     "base_uri": "https://localhost:8080/"
    },
    "id": "0PWqFit9fVxs",
    "outputId": "00298272-450c-4fca-a972-5103ac5d7493"
   },
   "outputs": [
    {
     "name": "stdout",
     "output_type": "stream",
     "text": [
      "[Errno 2] No such file or directory: '/content/'\n",
      "/mnt/c/Users/Jona/PycharmProjects/DL4TM_Text2Python\n",
      "Cloning into 'dl4tm'...\n",
      "remote: Enumerating objects: 91, done.\u001b[K\n",
      "remote: Counting objects: 100% (91/91), done.\u001b[K\n",
      "remote: Compressing objects: 100% (73/73), done.\u001b[K\n",
      "remote: Total 91 (delta 45), reused 43 (delta 15), pack-reused 0\u001b[K\n",
      "Receiving objects: 100% (91/91), 547.43 KiB | 320.00 KiB/s, done.\n",
      "Resolving deltas: 100% (45/45), done.\n",
      "/mnt/c/Users/Jona/PycharmProjects/DL4TM_Text2Python/dl4tm\n",
      "README.md\t    google.ipynb      text2python.ipynb  transformer_util.py\n",
      "conala-corpus-v1.1  requirements.txt  transformer.ipynb\n"
     ]
    }
   ],
   "source": [
    "!pip install --quiet tensorflow-text\n",
    "# Clone the entire repo.\n",
    "%cd /content/\n",
    "!rm -r -f dl4tm\n",
    "!git clone git://github.com/Jeilef/DL4TM_Text2Python.git dl4tm\n",
    "%cd dl4tm\n",
    "!ls"
   ]
  },
  {
   "cell_type": "code",
   "execution_count": 2,
   "metadata": {
    "id": "xGOg39-ahQmx"
   },
   "outputs": [],
   "source": [
    "import numpy as np\n",
    "import json\n",
    "import logging\n",
    "from tokenize import tokenize\n",
    "from io import BytesIO\n",
    "import tensorflow_hub as hub\n",
    "import tensorflow as tf\n",
    "import tensorflow.keras as keras\n",
    "import tensorflow_text # See https://github.com/tensorflow/hub/issues/463"
   ]
  },
  {
   "cell_type": "code",
   "execution_count": 3,
   "metadata": {
    "id": "72O-_UMNhvZF"
   },
   "outputs": [],
   "source": [
    "logging.getLogger('tensorflow').setLevel(logging.ERROR)  # suppress warnings"
   ]
  },
  {
   "cell_type": "code",
   "execution_count": 4,
   "metadata": {
    "colab": {
     "base_uri": "https://localhost:8080/"
    },
    "id": "uiGAS3YofVxx",
    "outputId": "7bd46d6d-2d55-42ff-8072-1f214242e1d0",
    "pycharm": {
     "name": "#%%\n"
    }
   },
   "outputs": [
    {
     "name": "stdout",
     "output_type": "stream",
     "text": [
      "2379\n",
      "{'intent': 'How to convert a list of multiple integers into a single integer?', 'rewritten_intent': \"Concatenate elements of a list 'x' of multiple integers to a single integer\", 'snippet': 'sum(d * 10 ** i for i, d in enumerate(x[::-1]))', 'question_id': 41067960}\n"
     ]
    }
   ],
   "source": [
    "train_file = open(\"conala-corpus-v1.1/conala-corpus/conala-train.json\", \"r\")\n",
    "train_json = json.load(train_file)\n",
    "\n",
    "print(len(train_json))\n",
    "print(train_json[0])"
   ]
  },
  {
   "cell_type": "code",
   "execution_count": 5,
   "metadata": {
    "colab": {
     "base_uri": "https://localhost:8080/"
    },
    "id": "3JqfNJUPfVxx",
    "outputId": "f334f63d-781a-4c23-af27-4491b84e9023",
    "pycharm": {
     "name": "#%%\n"
    }
   },
   "outputs": [
    {
     "name": "stdout",
     "output_type": "stream",
     "text": [
      "Concatenate elements of a list 'x' of multiple integers to a single integer\n",
      "sum(d * 10 ** i for i, d in enumerate(x[::-1]))\n"
     ]
    }
   ],
   "source": [
    "base_sentences = np.array([item[\"rewritten_intent\"] for item in train_json])\n",
    "codes = np.array([item[\"snippet\"] for item in train_json])\n",
    "\n",
    "print(base_sentences[0])\n",
    "print(codes[0])"
   ]
  },
  {
   "cell_type": "code",
   "execution_count": 6,
   "metadata": {
    "colab": {
     "base_uri": "https://localhost:8080/"
    },
    "id": "YwH4n9_dhvZG",
    "outputId": "2721e8ff-ef7f-4a81-f7f0-829557bb7d99"
   },
   "outputs": [
    {
     "data": {
      "text/plain": [
       "<tf.Tensor: shape=(26,), dtype=string, numpy=\n",
       "array([b'utf-8', b'sum', b'(', b'd', b'*', b'10', b'**', b'i', b'for',\n",
       "       b'i', b',', b'd', b'in', b'enumerate', b'(', b'x', b'[', b':',\n",
       "       b':', b'-', b'1', b']', b')', b')', b'', b''], dtype=object)>"
      ]
     },
     "execution_count": 6,
     "metadata": {},
     "output_type": "execute_result"
    }
   ],
   "source": [
    "# Use custom tokenize function for code snippets\n",
    "def tokenize_python(s):\n",
    "    tokenized = tokenize(BytesIO(s.numpy()).readline)\n",
    "    tokens = [token[1] for token in tokenized]\n",
    "    tensor = tf.convert_to_tensor(tokens, dtype=tf.string)\n",
    "    \n",
    "    return tensor\n",
    "\n",
    "def detokenize_python(s):\n",
    "  array = s.numpy()\n",
    "  code = b\"\".join(array)\n",
    "  code = code.encode(\"utf-8\")\n",
    "  return code\n",
    "\n",
    "example = tf.constant(codes[0])\n",
    "tokenize_python(example)"
   ]
  },
  {
   "cell_type": "code",
   "execution_count": 7,
   "metadata": {
    "id": "c1mNMHnHhvZH"
   },
   "outputs": [],
   "source": [
    "data = tf.data.Dataset.from_tensor_slices(codes)\n",
    "data = data.map(lambda x : tf.py_function(func=tokenize_python, inp=[x], Tout=tf.string))"
   ]
  },
  {
   "cell_type": "code",
   "execution_count": 8,
   "metadata": {
    "id": "fJdIDZIhqwOH"
   },
   "outputs": [],
   "source": [
    "from tensorflow.keras.layers.experimental.preprocessing import StringLookup\n",
    "\n",
    "def preprocess_codes(codes):\n",
    "  tokenized_codes = [tf.py_function(func=tokenize_python, inp=[snippet], Tout=tf.string) for snippet in codes]\n",
    "  vectorize_layer = StringLookup(max_tokens=8000)\n",
    "  vectorize_layer.adapt(data)\n",
    "  vectorized_codes = [vectorize_layer(code) for code in tokenized_codes]\n",
    "  return tf.keras.preprocessing.sequence.pad_sequences(vectorized_codes, value=0), vectorize_layer.get_vocabulary()\n",
    "\n",
    "def postprocess_codes(codes, vocabulary):\n",
    "  codes = codes.reshape((-1, len(vocabulary) + 2,))\n",
    "  codes = codes[-1]\n",
    "  word = np.argmax(codes)\n",
    "  return vocabulary[word - 2], word # because start and stop are first predictions in first prediction\n",
    "  #codes = []\n",
    "  #tokenized_codes = [tf.py_function(func=tokenize_python, inp=[snippet], Tout=tf.string) for snippet in codes]\n",
    "  #i_layer = StringLookup(vocabulary=vocabulary, invert=True)\n",
    "  #vectorized_codes = [vectorize_layer(code) for code in tokenized_codes]\n",
    "  #return tf.keras.preprocessing.sequence.pad_sequences(vectorized_codes, value=0)\n",
    "\n",
    "tokenized_codes, vocabulary = preprocess_codes(codes)"
   ]
  },
  {
   "cell_type": "code",
   "execution_count": 9,
   "metadata": {
    "colab": {
     "base_uri": "https://localhost:8080/"
    },
    "id": "M4o3T5EwvI_Q",
    "outputId": "e81c8c7f-f9b3-4019-af93-ee79f40f68a6"
   },
   "outputs": [
    {
     "name": "stdout",
     "output_type": "stream",
     "text": [
      "(1, 1, 26, 26)\n"
     ]
    }
   ],
   "source": [
    "def create_look_ahead_mask(size):\n",
    "  mask = 1 - tf.linalg.band_part(tf.ones((size, size)), -1, 0)\n",
    "  return mask\n",
    "\n",
    "def create_padding_mask(seq):\n",
    "  seq = tf.cast(tf.math.equal(seq, 0), tf.float32)\n",
    "  return seq[:, tf.newaxis, tf.newaxis, :]\n",
    "\n",
    "\n",
    "class DecoderMasking(tf.keras.layers.Layer):\n",
    "  def call(self, targets):\n",
    "    padded_targets = create_padding_mask(targets)\n",
    "    look_ahead_mask = create_look_ahead_mask(tf.shape(targets)[1])\n",
    "    return tf.maximum(padded_targets, look_ahead_mask)\n",
    "\n",
    "class DecoderPaddingMasked(tf.keras.layers.Layer):\n",
    "  def call(self, inputs):\n",
    "    expanded_inputs = inputs[:, tf.newaxis, tf.newaxis, :]\n",
    "    return tf.cast(expanded_inputs, tf.float32)\n",
    "\n",
    "example = tf.constant(codes[0])\n",
    "tokenized_example = tokenize_python(example)\n",
    "\n",
    "vectorize_layer = keras.layers.experimental.preprocessing.StringLookup(max_tokens=8000)\n",
    "vectorize_layer.adapt(data)\n",
    "\n",
    "vectorized_example = vectorize_layer(tokenized_example)\n",
    "\n",
    "masking = DecoderMasking()\n",
    "lam = masking(tf.convert_to_tensor(([vectorized_example])))\n",
    "print(lam.shape)"
   ]
  },
  {
   "cell_type": "code",
   "execution_count": 10,
   "metadata": {
    "id": "-3L7pM-RfVxy",
    "pycharm": {
     "name": "#%%\n"
    }
   },
   "outputs": [],
   "source": [
    "# Pretrained BERT encoder\n",
    "text_input = tf.keras.layers.Input(shape=(), dtype=tf.string)\n",
    "preprocessor = hub.KerasLayer(\"https://tfhub.dev/tensorflow/bert_en_uncased_preprocess/3\")\n",
    "encoder_inputs = preprocessor(text_input)\n",
    "encoder = hub.KerasLayer(\"https://tfhub.dev/tensorflow/small_bert/bert_en_uncased_L-2_H-128_A-2/1\", trainable=True)\n",
    "outputs = encoder(encoder_inputs)\n",
    "pooled_output = outputs[\"pooled_output\"]      # [batch_size, 128].\n",
    "sequence_output = outputs[\"sequence_output\"]  # [batch_size, seq_length, 128]."
   ]
  },
  {
   "cell_type": "code",
   "execution_count": 11,
   "metadata": {
    "colab": {
     "base_uri": "https://localhost:8080/"
    },
    "id": "kl5cOIChhvZH",
    "outputId": "9b30e7c6-eca7-4bad-81e8-029205992ec9"
   },
   "outputs": [
    {
     "name": "stdout",
     "output_type": "stream",
     "text": [
      "Model: \"model\"\n",
      "__________________________________________________________________________________________________\n",
      "Layer (type)                    Output Shape         Param #     Connected to                     \n",
      "==================================================================================================\n",
      "input_1 (InputLayer)            [(None,)]            0                                            \n",
      "__________________________________________________________________________________________________\n",
      "input_2 (InputLayer)            [(None, None)]       0                                            \n",
      "__________________________________________________________________________________________________\n",
      "keras_layer (KerasLayer)        {'input_word_ids': ( 0           input_1[0][0]                    \n",
      "__________________________________________________________________________________________________\n",
      "keras_layer_1 (KerasLayer)      {'sequence_output':  4385921     keras_layer[0][0]                \n",
      "                                                                 keras_layer[0][1]                \n",
      "                                                                 keras_layer[0][2]                \n",
      "__________________________________________________________________________________________________\n",
      "decoder_masking_1 (DecoderMaski (None, 1, None, None 0           input_2[0][0]                    \n",
      "__________________________________________________________________________________________________\n",
      "decoder_padding_masked (Decoder (None, 1, 1, 128)    0           keras_layer[0][0]                \n",
      "__________________________________________________________________________________________________\n",
      "decoder (Decoder)               ((None, None, 128),  695552      input_2[0][0]                    \n",
      "                                                                 keras_layer_1[0][4]              \n",
      "                                                                 decoder_masking_1[0][0]          \n",
      "                                                                 decoder_padding_masked[0][0]     \n",
      "__________________________________________________________________________________________________\n",
      "dense_20 (Dense)                (None, None, 2842)   366618      decoder[0][0]                    \n",
      "==================================================================================================\n",
      "Total params: 5,448,091\n",
      "Trainable params: 5,448,090\n",
      "Non-trainable params: 1\n",
      "__________________________________________________________________________________________________\n"
     ]
    }
   ],
   "source": [
    "# Transformer Decoder  taken from https://www.tensorflow.org/tutorials/text/transformer\n",
    "from transformer_util import Decoder\n",
    "output_tokens = len(vocabulary) + 2 # start and stop token \n",
    "sample_decoder = Decoder(num_layers=2, d_model=128, num_heads=2,\n",
    "                         dff=128, target_vocab_size=output_tokens,\n",
    "                         maximum_position_encoding=5000)\n",
    "\n",
    "decoder_input = tf.keras.layers.Input(shape=(None,), dtype=tf.int32)\n",
    "\n",
    "# Apply masking layer here\n",
    "look_ahead_mask = DecoderMasking()(decoder_input)\n",
    "dec_padding_mask = DecoderPaddingMasked()(encoder_inputs['input_mask'])\n",
    "\n",
    "decoder_output, attn = sample_decoder(decoder_input,\n",
    "                              enc_output=sequence_output,\n",
    "                              training=True,\n",
    "                              look_ahead_mask=look_ahead_mask,\n",
    "                              padding_mask=dec_padding_mask)\n",
    "final_layer = tf.keras.layers.Dense(output_tokens)\n",
    "output = final_layer(decoder_output)\n",
    "\n",
    "\n",
    "embedding_model = tf.keras.Model((text_input, decoder_input), output)\n",
    "embedding_model.summary()"
   ]
  },
  {
   "cell_type": "code",
   "execution_count": 12,
   "metadata": {
    "colab": {
     "base_uri": "https://localhost:8080/"
    },
    "id": "3q8HrJY9hvZH",
    "outputId": "98b2cc6e-5ecd-4dbf-acd4-8824a8e3eb9e"
   },
   "outputs": [
    {
     "name": "stdout",
     "output_type": "stream",
     "text": [
      "(1,) (1, 26)\n"
     ]
    }
   ],
   "source": [
    "sentence = tf.constant([train_json[0][\"rewritten_intent\"]])\n",
    "snippet = tf.constant(train_json[0][\"snippet\"])\n",
    "snippet = tf.py_function(func=tokenize_python, inp=[snippet], Tout=tf.string)\n",
    "snippet = tf.expand_dims(snippet, axis=0)\n",
    "print(sentence.shape, snippet.shape)\n",
    "# result = embedding_model((sentence, snippet))\n",
    "# result"
   ]
  },
  {
   "cell_type": "code",
   "execution_count": 13,
   "metadata": {
    "id": "S_zGqYSDhvZI"
   },
   "outputs": [],
   "source": [
    "# Taken from https://www.tensorflow.org/tutorials/text/transformer\n",
    "loss_object = tf.keras.losses.SparseCategoricalCrossentropy(\n",
    "    from_logits=True, reduction='none')\n",
    "\n",
    "def loss_function(real, pred):\n",
    "  mask = tf.math.logical_not(tf.math.equal(real, 0))\n",
    "  loss_ = loss_object(real, pred)\n",
    "\n",
    "  mask = tf.cast(mask, dtype=loss_.dtype)\n",
    "  loss_ *= mask\n",
    "\n",
    "  return tf.reduce_sum(loss_)/tf.reduce_sum(mask)\n",
    "\n",
    "optimizer = tf.keras.optimizers.Adam(learning_rate=0.001, beta_1=0.9, \n",
    "                                     beta_2=0.98, epsilon=1e-9)\n",
    "embedding_model.compile(optimizer, loss_function)"
   ]
  },
  {
   "cell_type": "code",
   "execution_count": 14,
   "metadata": {
    "id": "PkSHANAUHQxG"
   },
   "outputs": [],
   "source": [
    "base_sentences = np.array(['' if v is None else v for v in base_sentences])"
   ]
  },
  {
   "cell_type": "code",
   "execution_count": 15,
   "metadata": {
    "colab": {
     "base_uri": "https://localhost:8080/"
    },
    "id": "aW0UicVUrgbv",
    "outputId": "55ece4fc-125b-44ca-e056-6beaa3b2dacd"
   },
   "outputs": [
    {
     "name": "stdout",
     "output_type": "stream",
     "text": [
      "Epoch 1/15\n",
      "38/38 [==============================] - 62s 1s/step - loss: 6.4356\n",
      "Epoch 2/15\n",
      "38/38 [==============================] - 58s 2s/step - loss: 3.0445\n",
      "Epoch 3/15\n",
      "38/38 [==============================] - 59s 2s/step - loss: 1.5731\n",
      "Epoch 4/15\n",
      "38/38 [==============================] - 59s 2s/step - loss: 1.0512\n",
      "Epoch 5/15\n",
      "38/38 [==============================] - 59s 2s/step - loss: 0.7668\n",
      "Epoch 6/15\n",
      "38/38 [==============================] - 49s 1s/step - loss: 0.5877\n",
      "Epoch 7/15\n",
      "38/38 [==============================] - 45s 1s/step - loss: 0.4499\n",
      "Epoch 8/15\n",
      "38/38 [==============================] - 45s 1s/step - loss: 0.3812\n",
      "Epoch 9/15\n",
      "38/38 [==============================] - 45s 1s/step - loss: 0.2930\n",
      "Epoch 10/15\n",
      "38/38 [==============================] - 45s 1s/step - loss: 0.2317\n",
      "Epoch 11/15\n",
      "38/38 [==============================] - 46s 1s/step - loss: 0.1714\n",
      "Epoch 12/15\n",
      "38/38 [==============================] - 48s 1s/step - loss: 0.1322\n",
      "Epoch 13/15\n",
      "38/38 [==============================] - 59s 2s/step - loss: 0.0885\n",
      "Epoch 14/15\n",
      "38/38 [==============================] - 59s 2s/step - loss: 0.0581\n",
      "Epoch 15/15\n",
      "38/38 [==============================] - 58s 2s/step - loss: 0.0355\n"
     ]
    }
   ],
   "source": [
    "history = embedding_model.fit([base_sentences, tokenized_codes], tokenized_codes, batch_size=64, epochs=15)"
   ]
  },
  {
   "cell_type": "code",
   "execution_count": 16,
   "metadata": {
    "colab": {
     "base_uri": "https://localhost:8080/",
     "height": 582
    },
    "id": "2sCLaZLCPqkx",
    "outputId": "83d5bf81-91cc-4f4e-e46a-960c052fe117"
   },
   "outputs": [
    {
     "name": "stdout",
     "output_type": "stream",
     "text": [
      "2840\n",
      "urlurlurlurlurlurlurlurlurlurlurlurlurlurlurlurlurlurlurlurlurlurlurlurlurlurlurlurlurlurlurlurlurlurl\n",
      "minminminminminminminminminminminminminminminminminminminminminminminminminminminminminminminminminmin\n",
      "urlurlurlurlurlurlurlurlurlurlurlurlurlurlurlurlurlurlurlurlurlurlurlurlurlurlurlurlurlurlurlurlurlurl\n"
     ]
    }
   ],
   "source": [
    "def generate_result(test_sentence, model):\n",
    "  prediction = \"\"\n",
    "  words = [0]\n",
    "  while len(prediction) < 100:\n",
    "    # prediction_prep = tokenize_python(tf.constant([prediction]))\n",
    "    word_pred = model.predict((np.array([test_sentence]), np.array([words])))\n",
    "    result, word_idx = postprocess_codes(word_pred, vocabulary)\n",
    "\n",
    "    if word_idx == 1:\n",
    "      break\n",
    "    elif word_idx == 0:\n",
    "      prediction += \"[UNK]\"\n",
    "    else:\n",
    "      prediction += result\n",
    "    words.append(word_idx)\n",
    "  return prediction\n",
    "\n",
    "print(len(vocabulary))\n",
    "print(generate_result(\"add 5 and 6.\", embedding_model))\n",
    "print(generate_result(\"read the file fun.txt.\", embedding_model))\n",
    "print(generate_result(\"Concatenate elements of a list 'x' of multiple integers to a single integer\", embedding_model))"
   ]
  },
  {
   "cell_type": "code",
   "execution_count": null,
   "metadata": {
    "id": "z8JDMxzKRcqp"
   },
   "outputs": [],
   "source": []
  }
 ],
 "metadata": {
  "colab": {
   "name": "text2python.ipynb",
   "provenance": []
  },
  "kernelspec": {
   "display_name": "Python 3",
   "language": "python",
   "name": "python3"
  },
  "language_info": {
   "codemirror_mode": {
    "name": "ipython",
    "version": 3
   },
   "file_extension": ".py",
   "mimetype": "text/x-python",
   "name": "python",
   "nbconvert_exporter": "python",
   "pygments_lexer": "ipython3",
   "version": "3.8.3"
  }
 },
 "nbformat": 4,
 "nbformat_minor": 1
}
