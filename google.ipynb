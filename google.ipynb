{
 "cells": [
  {
   "cell_type": "markdown",
   "metadata": {
    "id": "s_qNSzzyaCbD"
   },
   "source": [
    "##### Copyright 2019 The TensorFlow Authors."
   ]
  },
  {
   "cell_type": "code",
   "execution_count": 1,
   "metadata": {
    "cellView": "form",
    "execution": {
     "iopub.execute_input": "2021-02-04T02:21:49.269437Z",
     "iopub.status.busy": "2021-02-04T02:21:49.268720Z",
     "iopub.status.idle": "2021-02-04T02:21:49.271473Z",
     "shell.execute_reply": "2021-02-04T02:21:49.270768Z"
    },
    "id": "jmjh290raIky"
   },
   "outputs": [],
   "source": [
    "#@title Licensed under the Apache License, Version 2.0 (the \"License\");\n",
    "# you may not use this file except in compliance with the License.\n",
    "# You may obtain a copy of the License at\n",
    "#\n",
    "# https://www.apache.org/licenses/LICENSE-2.0\n",
    "#\n",
    "# Unless required by applicable law or agreed to in writing, software\n",
    "# distributed under the License is distributed on an \"AS IS\" BASIS,\n",
    "# WITHOUT WARRANTIES OR CONDITIONS OF ANY KIND, either express or implied.\n",
    "# See the License for the specific language governing permissions and\n",
    "# limitations under the License."
   ]
  },
  {
   "cell_type": "markdown",
   "metadata": {
    "id": "J0Qjg6vuaHNt"
   },
   "source": [
    "# Transformer model for language understanding"
   ]
  },
  {
   "cell_type": "markdown",
   "metadata": {
    "id": "AOpGoE2T-YXS"
   },
   "source": [
    "<table class=\"tfo-notebook-buttons\" align=\"left\">\n",
    "  <td>\n",
    "    <a target=\"_blank\" href=\"https://www.tensorflow.org/tutorials/text/transformer\">\n",
    "    <img src=\"https://www.tensorflow.org/images/tf_logo_32px.png\" />\n",
    "    View on TensorFlow.org</a>\n",
    "  </td>\n",
    "  <td>\n",
    "    <a target=\"_blank\" href=\"https://colab.research.google.com/github/tensorflow/docs/blob/master/site/en/tutorials/text/transformer.ipynb\">\n",
    "    <img src=\"https://www.tensorflow.org/images/colab_logo_32px.png\" />\n",
    "    Run in Google Colab</a>\n",
    "  </td>\n",
    "  <td>\n",
    "    <a target=\"_blank\" href=\"https://github.com/tensorflow/docs/blob/master/site/en/tutorials/text/transformer.ipynb\">\n",
    "    <img src=\"https://www.tensorflow.org/images/GitHub-Mark-32px.png\" />\n",
    "    View source on GitHub</a>\n",
    "  </td>\n",
    "  <td>\n",
    "    <a href=\"https://storage.googleapis.com/tensorflow_docs/docs/site/en/tutorials/text/transformer.ipynb\"><img src=\"https://www.tensorflow.org/images/download_logo_32px.png\" />Download notebook</a>\n",
    "  </td>\n",
    "</table>"
   ]
  },
  {
   "cell_type": "markdown",
   "metadata": {
    "id": "M-f8TnGpE_ex"
   },
   "source": [
    "This tutorial trains a <a href=\"https://arxiv.org/abs/1706.03762\" class=\"external\">Transformer model</a> to translate a [Portuguese to English dataset](https://www.tensorflow.org/datasets/catalog/ted_hrlr_translate#ted_hrlr_translatept_to_en). This is an advanced example that assumes knowledge of [text generation](text_generation.ipynb) and [attention](nmt_with_attention.ipynb).\n",
    "\n",
    "The core idea behind the Transformer model is *self-attention*—the ability to attend to different positions of the input sequence to compute a representation of that sequence. Transformer creates stacks of self-attention layers and is explained below in the sections *Scaled dot product attention* and *Multi-head attention*.\n",
    "\n",
    "A transformer model handles variable-sized input using stacks of self-attention layers instead of [RNNs](text_classification_rnn.ipynb) or [CNNs](../images/intro_to_cnns.ipynb). This general architecture has a number of advantages:\n",
    "\n",
    "* It makes no assumptions about the temporal/spatial relationships across the data. This is ideal for processing a set of objects (for example, [StarCraft units](https://deepmind.com/blog/alphastar-mastering-real-time-strategy-game-starcraft-ii/#block-8)).\n",
    "* Layer outputs can be calculated in parallel, instead of a series like an RNN.\n",
    "* Distant items can affect each other's output without passing through many RNN-steps, or convolution layers (see [Scene Memory Transformer](https://arxiv.org/pdf/1903.03878.pdf) for example).\n",
    "* It can learn long-range dependencies. This is a challenge in many sequence tasks.\n",
    "\n",
    "The downsides of this architecture are:\n",
    "\n",
    "* For a time-series, the output for a time-step is calculated from the *entire history* instead of only the inputs and current hidden-state. This _may_ be less efficient.   \n",
    "* If the input *does* have a  temporal/spatial relationship, like text, some positional encoding must be added or the model will effectively see a bag of words. \n",
    "\n",
    "After training the model in this notebook, you will be able to input a Portuguese sentence and return the English translation.\n",
    "\n",
    "<img src=\"https://www.tensorflow.org/images/tutorials/transformer/attention_map_portuguese.png\" width=\"800\" alt=\"Attention heatmap\">"
   ]
  },
  {
   "cell_type": "markdown",
   "metadata": {
    "id": "swymtxpl7W7w"
   },
   "source": [
    "## Setup"
   ]
  },
  {
   "cell_type": "code",
   "execution_count": 2,
   "metadata": {
    "execution": {
     "iopub.execute_input": "2021-02-04T02:21:49.283016Z",
     "iopub.status.busy": "2021-02-04T02:21:49.282180Z",
     "iopub.status.idle": "2021-02-04T02:21:53.349513Z",
     "shell.execute_reply": "2021-02-04T02:21:53.348883Z"
    },
    "id": "XFG0NDRu5mYQ"
   },
   "outputs": [],
   "source": [
    "# !pip install -q tensorflow_datasets\n",
    "# !pip install -q tensorflow_text"
   ]
  },
  {
   "cell_type": "code",
   "execution_count": 3,
   "metadata": {
    "execution": {
     "iopub.execute_input": "2021-02-04T02:21:53.356196Z",
     "iopub.status.busy": "2021-02-04T02:21:53.354999Z",
     "iopub.status.idle": "2021-02-04T02:22:01.899067Z",
     "shell.execute_reply": "2021-02-04T02:22:01.898318Z"
    },
    "id": "JjJJyJTZYebt"
   },
   "outputs": [],
   "source": [
    "import collections\n",
    "import logging\n",
    "import os\n",
    "import pathlib\n",
    "import re\n",
    "import string\n",
    "import sys\n",
    "import time\n",
    "\n",
    "import numpy as np\n",
    "import matplotlib.pyplot as plt\n",
    "\n",
    "import tensorflow_datasets as tfds\n",
    "import tensorflow_text as text\n",
    "import tensorflow as tf"
   ]
  },
  {
   "cell_type": "code",
   "execution_count": 4,
   "metadata": {
    "execution": {
     "iopub.execute_input": "2021-02-04T02:22:01.904707Z",
     "iopub.status.busy": "2021-02-04T02:22:01.903568Z",
     "iopub.status.idle": "2021-02-04T02:22:01.906365Z",
     "shell.execute_reply": "2021-02-04T02:22:01.905813Z"
    },
    "id": "pXzVhU34zWEU"
   },
   "outputs": [],
   "source": [
    "logging.getLogger('tensorflow').setLevel(logging.ERROR)  # suppress warnings"
   ]
  },
  {
   "cell_type": "markdown",
   "metadata": {
    "id": "-cCvXbPkccV1"
   },
   "source": [
    "## Download the Dataset"
   ]
  },
  {
   "cell_type": "markdown",
   "metadata": {
    "id": "t4_Qt8W1hJE_"
   },
   "source": [
    "Use [TensorFlow datasets](https://www.tensorflow.org/datasets) to load the [Portuguese-English translation dataset](https://github.com/neulab/word-embeddings-for-nmt) from the [TED Talks Open Translation Project](https://www.ted.com/participate/translate).\n",
    "\n",
    "This dataset contains approximately 50000 training examples, 1100 validation examples, and 2000 test examples."
   ]
  },
  {
   "cell_type": "code",
   "execution_count": 5,
   "metadata": {
    "execution": {
     "iopub.execute_input": "2021-02-04T02:22:01.911940Z",
     "iopub.status.busy": "2021-02-04T02:22:01.911191Z",
     "iopub.status.idle": "2021-02-04T02:22:13.997782Z",
     "shell.execute_reply": "2021-02-04T02:22:13.997164Z"
    },
    "id": "8q9t4FmN96eN"
   },
   "outputs": [],
   "source": [
    "examples, metadata = tfds.load('ted_hrlr_translate/pt_to_en', with_info=True,\n",
    "                               as_supervised=True)\n",
    "train_examples, val_examples = examples['train'], examples['validation']  "
   ]
  },
  {
   "cell_type": "markdown",
   "metadata": {
    "id": "1OnwQZ2IpTbl"
   },
   "source": [
    "The `tf.data.Dataset` object returned by TensorFlow datasets yields pairs of text examples:"
   ]
  },
  {
   "cell_type": "code",
   "execution_count": 6,
   "metadata": {
    "execution": {
     "iopub.execute_input": "2021-02-04T02:22:14.003894Z",
     "iopub.status.busy": "2021-02-04T02:22:14.003236Z",
     "iopub.status.idle": "2021-02-04T02:22:15.566165Z",
     "shell.execute_reply": "2021-02-04T02:22:15.566611Z"
    },
    "id": "AtuMLTQGlHZ1"
   },
   "outputs": [
    {
     "name": "stdout",
     "output_type": "stream",
     "text": [
      "e quando melhoramos a procura , tiramos a única vantagem da impressão , que é a serendipidade .\n",
      "mas e se estes fatores fossem ativos ?\n",
      "mas eles não tinham a curiosidade de me testar .\n",
      "\n",
      "and when you improve searchability , you actually take away the one advantage of print , which is serendipity .\n",
      "but what if it were active ?\n",
      "but they did n't test for curiosity .\n"
     ]
    }
   ],
   "source": [
    "for pt_examples, en_examples in train_examples.batch(3).take(1):\n",
    "  for pt in pt_examples.numpy():\n",
    "    print(pt.decode('utf-8'))\n",
    "\n",
    "  print()\n",
    "\n",
    "  for en in en_examples.numpy():\n",
    "    print(en.decode('utf-8'))"
   ]
  },
  {
   "cell_type": "markdown",
   "metadata": {
    "id": "eJxTd6aVnZyh"
   },
   "source": [
    "## Text tokenization & detokenization"
   ]
  },
  {
   "cell_type": "markdown",
   "metadata": {
    "id": "WlHAFNaopq6U"
   },
   "source": [
    "You can't train a model directly on text. The text needs to be converted some numeric representation first. Typically you convert the text to sequences of token IDs, which are as indexes into an embedding."
   ]
  },
  {
   "cell_type": "markdown",
   "metadata": {
    "id": "2sPvbCEePzOC"
   },
   "source": [
    "One popular implementation is demonstrated in the [Subword tokenizer tutorial](https://www.tensorflow.org/tutorials/tensorflow_text/subwords_tokenizer) builds subword tokenizers (`text.BertTokenizer`) optimized for this dataset and exports them in a [saved_model](https://www.tensorflow.org/guide/saved_model). \n",
    "\n",
    "Download and unzip and import the `saved_model`:"
   ]
  },
  {
   "cell_type": "code",
   "execution_count": 7,
   "metadata": {
    "execution": {
     "iopub.execute_input": "2021-02-04T02:22:15.573461Z",
     "iopub.status.busy": "2021-02-04T02:22:15.572803Z",
     "iopub.status.idle": "2021-02-04T02:22:15.778685Z",
     "shell.execute_reply": "2021-02-04T02:22:15.779289Z"
    },
    "id": "QToMl0NanZPr"
   },
   "outputs": [
    {
     "data": {
      "text/plain": [
       "'./ted_hrlr_translate_pt_en_converter.zip'"
      ]
     },
     "execution_count": 7,
     "metadata": {},
     "output_type": "execute_result"
    }
   ],
   "source": [
    "model_name = \"ted_hrlr_translate_pt_en_converter\"\n",
    "tf.keras.utils.get_file(\n",
    "    f\"{model_name}.zip\",\n",
    "    f\"https://storage.googleapis.com/download.tensorflow.org/models/{model_name}.zip\",\n",
    "    cache_dir='.', cache_subdir='', extract=True\n",
    ")"
   ]
  },
  {
   "cell_type": "code",
   "execution_count": 8,
   "metadata": {
    "execution": {
     "iopub.execute_input": "2021-02-04T02:22:15.785154Z",
     "iopub.status.busy": "2021-02-04T02:22:15.784392Z",
     "iopub.status.idle": "2021-02-04T02:22:17.109636Z",
     "shell.execute_reply": "2021-02-04T02:22:17.108974Z"
    },
    "id": "h5dbGnPXnuI1"
   },
   "outputs": [],
   "source": [
    "tokenizers = tf.saved_model.load(model_name)"
   ]
  },
  {
   "cell_type": "markdown",
   "metadata": {
    "id": "KQYc0CJTpnvg"
   },
   "source": [
    "The `tf.saved_model` contains two text tokenizers, one for English and one for Portugese. Both have the same methods:"
   ]
  },
  {
   "cell_type": "code",
   "execution_count": 9,
   "metadata": {
    "execution": {
     "iopub.execute_input": "2021-02-04T02:22:17.115120Z",
     "iopub.status.busy": "2021-02-04T02:22:17.114323Z",
     "iopub.status.idle": "2021-02-04T02:22:17.116847Z",
     "shell.execute_reply": "2021-02-04T02:22:17.117288Z"
    },
    "id": "s-PCJijfcZ9_"
   },
   "outputs": [
    {
     "data": {
      "text/plain": [
       "['detokenize',\n",
       " 'get_reserved_tokens',\n",
       " 'get_vocab_path',\n",
       " 'get_vocab_size',\n",
       " 'lookup',\n",
       " 'tokenize',\n",
       " 'tokenizer',\n",
       " 'vocab']"
      ]
     },
     "execution_count": 9,
     "metadata": {},
     "output_type": "execute_result"
    }
   ],
   "source": [
    "[item for item in dir(tokenizers.en) if not item.startswith('_')]"
   ]
  },
  {
   "cell_type": "markdown",
   "metadata": {
    "id": "-pv_nc5lrAiD"
   },
   "source": [
    "The `tokenize` method converts a batch of strings to a padded-batch of token IDs. This method splits punctuation, lowercases and unicode-normalizes the input before tokenizing. That standardization is not visible here because the input data is already standardized."
   ]
  },
  {
   "cell_type": "code",
   "execution_count": 10,
   "metadata": {
    "execution": {
     "iopub.execute_input": "2021-02-04T02:22:17.121754Z",
     "iopub.status.busy": "2021-02-04T02:22:17.121037Z",
     "iopub.status.idle": "2021-02-04T02:22:17.124198Z",
     "shell.execute_reply": "2021-02-04T02:22:17.123650Z"
    },
    "id": "0GV-smAAQJtM"
   },
   "outputs": [
    {
     "name": "stdout",
     "output_type": "stream",
     "text": [
      "and when you improve searchability , you actually take away the one advantage of print , which is serendipity .\n",
      "but what if it were active ?\n",
      "but they did n't test for curiosity .\n"
     ]
    }
   ],
   "source": [
    "for en in en_examples.numpy():\n",
    "  print(en.decode('utf-8'))"
   ]
  },
  {
   "cell_type": "code",
   "execution_count": 11,
   "metadata": {
    "execution": {
     "iopub.execute_input": "2021-02-04T02:22:17.131131Z",
     "iopub.status.busy": "2021-02-04T02:22:17.129279Z",
     "iopub.status.idle": "2021-02-04T02:22:17.441739Z",
     "shell.execute_reply": "2021-02-04T02:22:17.441111Z"
    },
    "id": "2fQJq1xB-tOn"
   },
   "outputs": [
    {
     "name": "stdout",
     "output_type": "stream",
     "text": [
      "[2, 72, 117, 79, 1259, 1491, 2362, 13, 79, 150, 184, 311, 71, 103, 2308, 74, 2679, 13, 148, 80, 55, 4840, 1434, 2423, 540, 15, 3]\n",
      "[2, 87, 90, 107, 76, 129, 1852, 30, 3]\n",
      "[2, 87, 83, 149, 50, 9, 56, 664, 85, 2512, 15, 3]\n"
     ]
    }
   ],
   "source": [
    "encoded = tokenizers.en.tokenize(en_examples)\n",
    "\n",
    "for row in encoded.to_list():\n",
    "  print(row)"
   ]
  },
  {
   "cell_type": "markdown",
   "metadata": {
    "id": "dBRlikwDR2Lu"
   },
   "source": [
    "The `detokenize` method attempts to convert these token IDs back to human readable text: "
   ]
  },
  {
   "cell_type": "code",
   "execution_count": 12,
   "metadata": {
    "execution": {
     "iopub.execute_input": "2021-02-04T02:22:17.448557Z",
     "iopub.status.busy": "2021-02-04T02:22:17.447832Z",
     "iopub.status.idle": "2021-02-04T02:22:17.572580Z",
     "shell.execute_reply": "2021-02-04T02:22:17.572026Z"
    },
    "id": "Tpqx1aug3W31"
   },
   "outputs": [
    {
     "name": "stdout",
     "output_type": "stream",
     "text": [
      "and when you improve searchability , you actually take away the one advantage of print , which is serendipity .\n",
      "but what if it were active ?\n",
      "but they did n ' t test for curiosity .\n"
     ]
    }
   ],
   "source": [
    "round_trip = tokenizers.en.detokenize(encoded)\n",
    "for line in round_trip.numpy():\n",
    "  print(line.decode('utf-8'))"
   ]
  },
  {
   "cell_type": "markdown",
   "metadata": {
    "id": "e5mGvytArL9g"
   },
   "source": [
    "The lower level `lookup` method converts from token-IDs to token text:"
   ]
  },
  {
   "cell_type": "code",
   "execution_count": 13,
   "metadata": {
    "execution": {
     "iopub.execute_input": "2021-02-04T02:22:17.577439Z",
     "iopub.status.busy": "2021-02-04T02:22:17.576109Z",
     "iopub.status.idle": "2021-02-04T02:22:17.595660Z",
     "shell.execute_reply": "2021-02-04T02:22:17.595021Z"
    },
    "id": "RpzRLzvIuN3R"
   },
   "outputs": [
    {
     "data": {
      "text/plain": [
       "<tf.RaggedTensor [[b'[START]', b'and', b'when', b'you', b'improve', b'search', b'##ability', b',', b'you', b'actually', b'take', b'away', b'the', b'one', b'advantage', b'of', b'print', b',', b'which', b'is', b's', b'##ere', b'##nd', b'##ip', b'##ity', b'.', b'[END]'], [b'[START]', b'but', b'what', b'if', b'it', b'were', b'active', b'?', b'[END]'], [b'[START]', b'but', b'they', b'did', b'n', b\"'\", b't', b'test', b'for', b'curiosity', b'.', b'[END]']]>"
      ]
     },
     "execution_count": 13,
     "metadata": {},
     "output_type": "execute_result"
    }
   ],
   "source": [
    "tokens = tokenizers.en.lookup(encoded)\n",
    "tokens"
   ]
  },
  {
   "cell_type": "markdown",
   "metadata": {
    "id": "5V8Ix_PNSfhV"
   },
   "source": [
    "Here you can see the \"subword\" aspect of the tokenizers. The word \"searchability\" is decomposed into \"search ##ability\" and the word \"serindipity\" into \"s ##ere ##nd ##ip ##ity\""
   ]
  },
  {
   "cell_type": "markdown",
   "metadata": {
    "id": "fd1NWMxjfsDd"
   },
   "source": [
    "## Setup input pipeline"
   ]
  },
  {
   "cell_type": "markdown",
   "metadata": {
    "id": "E7JHK7N7tNZy"
   },
   "source": [
    "To build an input pipeline suitable for training you'll apply some transformations to the dataset.\n",
    "\n",
    "This function will be used to encode the batches of raw text:"
   ]
  },
  {
   "cell_type": "markdown",
   "metadata": {
    "id": "cf2HwC_0wG0v"
   },
   "source": [
    "Here's a simple input pipeline that processes, shuffles and batches the data:"
   ]
  },
  {
   "cell_type": "code",
   "execution_count": 14,
   "metadata": {},
   "outputs": [
    {
     "name": "stdout",
     "output_type": "stream",
     "text": [
      "Concatenate elements of a list 'x' of multiple integers to a single integer\n",
      "sum(d * 10 ** i for i, d in enumerate(x[::-1]))\n"
     ]
    }
   ],
   "source": [
    "# Load CoNaLa dataset\n",
    "import json\n",
    "import tensorflow as tf\n",
    "import tensorflow.keras as keras\n",
    "from tokenize import tokenize\n",
    "from io import BytesIO\n",
    "\n",
    "train_file = open(\"conala-corpus-v1.1/conala-corpus/conala-train.json\", \"r\")\n",
    "train_json = json.load(train_file)\n",
    "train_intents = [item[\"rewritten_intent\"] if item[\"rewritten_intent\"] is not None else '' for item in train_json]\n",
    "train_snippets = [item[\"snippet\"] if item[\"snippet\"] is not None else '' for item in train_json]\n",
    "\n",
    "val_file = open(\"conala-corpus-v1.1/conala-corpus/conala-test.json\", \"r\")\n",
    "val_json = json.load(val_file)\n",
    "val_intents = [item[\"rewritten_intent\"] if item[\"rewritten_intent\"] is not None else '' for item in train_json]\n",
    "val_snippets = [item[\"snippet\"] if item[\"snippet\"] is not None else '' for item in train_json]\n",
    "\n",
    "print(train_intents[0])\n",
    "print(train_snippets[0])"
   ]
  },
  {
   "cell_type": "code",
   "execution_count": 15,
   "metadata": {},
   "outputs": [
    {
     "data": {
      "text/plain": [
       "<tf.Tensor: shape=(28,), dtype=string, numpy=\n",
       "array([b'[START]', b'utf-8', b'sum', b'(', b'd', b'*', b'10', b'**', b'i',\n",
       "       b'for', b'i', b',', b'd', b'in', b'enumerate', b'(', b'x', b'[',\n",
       "       b':', b':', b'-', b'1', b']', b')', b')', b'', b'', b'[END]'],\n",
       "      dtype=object)>"
      ]
     },
     "execution_count": 15,
     "metadata": {},
     "output_type": "execute_result"
    }
   ],
   "source": [
    "# Use custom tokenize function for code snippets\n",
    "start_token, end_token = \"[START]\", \"[END]\"\n",
    "def tokenize_code(snippet):\n",
    "    tokenized = tokenize(BytesIO(snippet.numpy()).readline)\n",
    "    tokens = [start_token] + [token[1] for token in tokenized] + [end_token]\n",
    "    tensor = tf.convert_to_tensor(tokens, dtype=tf.string)\n",
    "    \n",
    "    return tensor\n",
    "\n",
    "example = tf.constant(train_snippets[0])\n",
    "tokenize_code(example)"
   ]
  },
  {
   "cell_type": "code",
   "execution_count": 16,
   "metadata": {},
   "outputs": [],
   "source": [
    "def tokenize_intent(intents):  \n",
    "    intents = tokenizers.en.tokenize(intents)\n",
    "    intents = intents.to_tensor()\n",
    "    \n",
    "    return intents"
   ]
  },
  {
   "cell_type": "code",
   "execution_count": 17,
   "metadata": {
    "execution": {
     "iopub.execute_input": "2021-02-04T02:22:17.607717Z",
     "iopub.status.busy": "2021-02-04T02:22:17.607016Z",
     "iopub.status.idle": "2021-02-04T02:22:17.609308Z",
     "shell.execute_reply": "2021-02-04T02:22:17.608765Z"
    },
    "id": "bcRp7VcQ5m6g"
   },
   "outputs": [],
   "source": [
    "BUFFER_SIZE = 20000\n",
    "BATCH_SIZE = 64\n",
    "CODE_TOKENS = 8000"
   ]
  },
  {
   "cell_type": "code",
   "execution_count": 18,
   "metadata": {},
   "outputs": [
    {
     "name": "stdout",
     "output_type": "stream",
     "text": [
      "tf.Tensor(\n",
      "[[   2 2356   71 ...    0    0    0]\n",
      " [   2 2356   71 ...    0    0    0]\n",
      " [   2  712   71 ...    0    0    0]\n",
      " ...\n",
      " [   2 3147   37 ...    0    0    0]\n",
      " [   2  141  168 ...    0    0    0]\n",
      " [   2 2682 2057 ...    0    0    0]], shape=(64, 54), dtype=int64)\n",
      "tf.Tensor(\n",
      "[[   7    6   48 ...    0    0    0]\n",
      " [   7    6   48 ...    0    0    0]\n",
      " [   7    6   82 ...    0    0    0]\n",
      " ...\n",
      " [   7    6   25 ...    0    0    0]\n",
      " [   7    6   11 ...    0    0    0]\n",
      " [   7    6 1316 ...    0    0    0]], shape=(64, 40), dtype=int64)\n",
      "\n",
      "\n",
      "tf.Tensor(\n",
      "[[   2 2577   71 ...    0    0    0]\n",
      " [   2 2522 1719 ...    0    0    0]\n",
      " [   2  114 4879 ...    0    0    0]\n",
      " ...\n",
      " [   2 3609   37 ...    0    0    0]\n",
      " [   2 3477 2367 ...    0    0    0]\n",
      " [   2 3609 1261 ...    0    0    0]], shape=(64, 39), dtype=int64)\n",
      "tf.Tensor(\n",
      "[[  7   6 446 ...   0   0   0]\n",
      " [  7   6  27 ...   0   0   0]\n",
      " [  7   6  11 ...   0   0   0]\n",
      " ...\n",
      " [  7   6  11 ...   0   0   0]\n",
      " [  7   6  14 ...   0   0   0]\n",
      " [  7   6  49 ...   0   0   0]], shape=(64, 70), dtype=int64)\n",
      "\n",
      "\n",
      "tf.Tensor(\n",
      "[[   2 2159  787 ...    0    0    0]\n",
      " [   2 2159  787 ...    0    0    0]\n",
      " [   2  667 1261 ...    0    0    0]\n",
      " ...\n",
      " [   2 2569 2969 ...    0    0    0]\n",
      " [   2 2569 2969 ...    0    0    0]\n",
      " [   2 3532 3267 ...    0    0    0]], shape=(64, 48), dtype=int64)\n",
      "tf.Tensor(\n",
      "[[   7    6 1072 ...    0    0    0]\n",
      " [   7    6 1433 ...    0    0    0]\n",
      " [   7    6   11 ...    0    0    0]\n",
      " ...\n",
      " [   7    6  236 ...    0    0    0]\n",
      " [   7    6   65 ...    0    0    0]\n",
      " [   7    6   27 ...    0    0    0]], shape=(64, 40), dtype=int64)\n",
      "\n",
      "\n",
      "tf.Tensor(\n",
      "[[   2  329   37 ...    0    0    0]\n",
      " [   2  389 6250 ...    0    0    0]\n",
      " [   2 3609  138 ...    0    0    0]\n",
      " ...\n",
      " [   2  161   37 ...    0    0    0]\n",
      " [   2    3    0 ...    0    0    0]\n",
      " [   2   48  376 ...    0    0    0]], shape=(64, 45), dtype=int64)\n",
      "tf.Tensor(\n",
      "[[  7   6  62 ...   0   0   0]\n",
      " [  7   6  18 ...   0   0   0]\n",
      " [  7   6 811 ...   0   0   0]\n",
      " ...\n",
      " [  7   6  11 ...   8   0   0]\n",
      " [  7   6  11 ...   8   0   0]\n",
      " [  7   6 126 ...   0   0   0]], shape=(64, 37), dtype=int64)\n",
      "\n",
      "\n",
      "tf.Tensor(\n",
      "[[   2  715  906 ...    0    0    0]\n",
      " [   2  715   71 ...    0    0    0]\n",
      " [   2 6696 5939 ...    0    0    0]\n",
      " ...\n",
      " [   2 2159 5962 ...    0    0    0]\n",
      " [   2 2159 5962 ...    0    0    0]\n",
      " [   2 5848 5939 ...    0    0    0]], shape=(64, 50), dtype=int64)\n",
      "tf.Tensor(\n",
      "[[  7   6  33 ...   0   0   0]\n",
      " [  7   6  33 ...   0   0   0]\n",
      " [  7   6  33 ...   0   0   0]\n",
      " ...\n",
      " [  7   6 201 ...   0   0   0]\n",
      " [  7   6 263 ...   0   0   8]\n",
      " [  7   6 302 ...   0   0   0]], shape=(64, 42), dtype=int64)\n",
      "\n",
      "\n",
      "tf.Tensor(\n",
      "[[   2  228  101 ...    0    0    0]\n",
      " [   2 3532 3267 ...    0    0    0]\n",
      " [   2  520 5070 ...    0    0    0]\n",
      " ...\n",
      " [   2 2682  740 ...    0    0    0]\n",
      " [   2 3145  740 ...    0    0    0]\n",
      " [   2 2159  773 ...    0    0    0]], shape=(64, 48), dtype=int64)\n",
      "tf.Tensor(\n",
      "[[ 7  6 22 ...  0  0  0]\n",
      " [ 7  6 26 ...  0  0  0]\n",
      " [ 7  6 92 ...  0  0  0]\n",
      " ...\n",
      " [ 7  6 22 ...  0  0  0]\n",
      " [ 7  6 22 ...  0  0  0]\n",
      " [ 7  6 20 ...  0  0  0]], shape=(64, 39), dtype=int64)\n",
      "\n",
      "\n",
      "tf.Tensor(\n",
      "[[   2 1512  107 ...    0    0    0]\n",
      " [   2 3011  107 ...    0    0    0]\n",
      " [   2 2682   36 ...    0    0    0]\n",
      " ...\n",
      " [   2 2356   71 ...    0    0    0]\n",
      " [   2  329 1261 ...    0    0    0]\n",
      " [   2  228   44 ...    0    0    0]], shape=(64, 62), dtype=int64)\n",
      "tf.Tensor(\n",
      "[[   7    6  126 ...    0    0    0]\n",
      " [   7    6  126 ...    0    0    0]\n",
      " [   7    6   11 ...    0    0    0]\n",
      " ...\n",
      " [   7    6   18 ...    0    0    0]\n",
      " [   7    6 1245 ...    0    0    0]\n",
      " [   7    6   27 ...    0    0    0]], shape=(64, 41), dtype=int64)\n",
      "\n",
      "\n",
      "tf.Tensor(\n",
      "[[   2  450  139 ...    0    0    0]\n",
      " [   2 2569 2969 ... 1167    3    0]\n",
      " [   2  518   71 ...    0    0    0]\n",
      " ...\n",
      " [   2  329   56 ...    0    0    0]\n",
      " [   2  141   56 ...    0    0    0]\n",
      " [   2 3609  115 ...    0    0    0]], shape=(64, 44), dtype=int64)\n",
      "tf.Tensor(\n",
      "[[   7    6 1733 ...    0    0    0]\n",
      " [   7    6 1596 ...    0    0    0]\n",
      " [   7    6  887 ...    0    0    0]\n",
      " ...\n",
      " [   7    6   11 ...    0    0    0]\n",
      " [   7    6   11 ...    0    0    0]\n",
      " [   7    6  184 ...    0    0    0]], shape=(64, 43), dtype=int64)\n",
      "\n",
      "\n",
      "tf.Tensor(\n",
      "[[   2 1404  125 ...    0    0    0]\n",
      " [   2  141   37 ...    0    0    0]\n",
      " [   2 3532 3267 ...    0    0    0]\n",
      " ...\n",
      " [   2  329 1261 ...    0    0    0]\n",
      " [   2 2522   52 ...    0    0    0]\n",
      " [   2 3145   40 ...    0    0    0]], shape=(64, 60), dtype=int64)\n",
      "tf.Tensor(\n",
      "[[   7    6  131 ...    0    0    0]\n",
      " [   7    6 1621 ...    0    0    0]\n",
      " [   7    6   25 ...    0    0    0]\n",
      " ...\n",
      " [   7    6  520 ...    0    0    0]\n",
      " [   7    6  236 ...    0    0    8]\n",
      " [   7    6   11 ...    0    0    0]], shape=(64, 41), dtype=int64)\n",
      "\n",
      "\n",
      "tf.Tensor(\n",
      "[[   2 1429   37 ...    0    0    0]\n",
      " [   2  389 5660 ...    0    0    0]\n",
      " [   2  389 5660 ...    0    0    0]\n",
      " ...\n",
      " [   2  940  679 ...    0    0    0]\n",
      " [   2  141   71 ...    0    0    0]\n",
      " [   2  105 4325 ...    0    0    0]], shape=(64, 51), dtype=int64)\n",
      "tf.Tensor(\n",
      "[[  7   6 582 ...   0   0   0]\n",
      " [  7   6  40 ...   0   0   0]\n",
      " [  7   6  40 ...   0   0   0]\n",
      " ...\n",
      " [  7   6 591 ...   0   0   0]\n",
      " [  7   6  76 ...   0   0   0]\n",
      " [  7   6  18 ...   0   0   0]], shape=(64, 45), dtype=int64)\n",
      "\n",
      "\n",
      "tf.Tensor(\n",
      "[[   2  450 3827 ...    0    0    0]\n",
      " [   2  141   71 ...    0    0    0]\n",
      " [   2 3145  168 ...    0    0    0]\n",
      " ...\n",
      " [   2 1512  477 ...    0    0    0]\n",
      " [   2 1512  477 ...    0    0    0]\n",
      " [   2 1512  477 ...    0    0    0]], shape=(64, 47), dtype=int64)\n",
      "tf.Tensor(\n",
      "[[  7   6  18 ...   0   0   0]\n",
      " [  7   6 341 ...   0   0   0]\n",
      " [  7   6  26 ...   0   0   0]\n",
      " ...\n",
      " [  7   6  27 ...   0   0   0]\n",
      " [  7   6  27 ...   0   0   0]\n",
      " [  7   6  27 ...   0   0   0]], shape=(64, 55), dtype=int64)\n",
      "\n",
      "\n",
      "tf.Tensor(\n",
      "[[   2 3455  269 ...    0    0    0]\n",
      " [   2 3609   37 ...    0    0    0]\n",
      " [   2 3609   37 ...    0    0    0]\n",
      " ...\n",
      " [   2  141   37 ...    0    0    0]\n",
      " [   2  389 1261 ...    0    0    0]\n",
      " [   2   48 5165 ...    0    0    0]], shape=(64, 57), dtype=int64)\n",
      "tf.Tensor(\n",
      "[[  7   6  48 ...   0   0   0]\n",
      " [  7   6 245 ...   0   0   0]\n",
      " [  7   6  39 ...   0   0   0]\n",
      " ...\n",
      " [  7   6  11 ...   0   0   0]\n",
      " [  7   6 695 ...   0   0   0]\n",
      " [  7   6 248 ...   0   0   0]], shape=(64, 33), dtype=int64)\n",
      "\n",
      "\n",
      "tf.Tensor(\n",
      "[[   2 4204   42 ...    0    0    0]\n",
      " [   2 4204   42 ...    0    0    0]\n",
      " [   2 4204   42 ...    0    0    0]\n",
      " ...\n",
      " [   2 3609 1255 ...    0    0    0]\n",
      " [   2 3609   38 ...    0    0    0]\n",
      " [   2 3609   38 ...    0    0    0]], shape=(64, 53), dtype=int64)\n",
      "tf.Tensor(\n",
      "[[  7   6   4 ...   0   0   0]\n",
      " [  7   6 133 ...   0   0   0]\n",
      " [  7   6 406 ...   0   0   0]\n",
      " ...\n",
      " [  7   6 255 ...   0   0   0]\n",
      " [  7   6  45 ...   0   0   0]\n",
      " [  7   6  45 ...   0   0   0]], shape=(64, 38), dtype=int64)\n",
      "\n",
      "\n",
      "tf.Tensor(\n",
      "[[   2  415   37 ...    0    0    0]\n",
      " [   2  415   71 ...    0    0    0]\n",
      " [   2 3615   71 ...    0    0    0]\n",
      " ...\n",
      " [   2  141   37 ...    0    0    0]\n",
      " [   2 6696 5171 ...    0    0    0]\n",
      " [   2    3    0 ...    0    0    0]], shape=(64, 42), dtype=int64)\n",
      "tf.Tensor(\n",
      "[[   7    6   82 ...    0    0    0]\n",
      " [   7    6   82 ...    0    0    0]\n",
      " [   7    6   42 ...    0    0    0]\n",
      " ...\n",
      " [   7    6 1371 ...    0    0    0]\n",
      " [   7    6   18 ...    0    0    0]\n",
      " [   7    6  107 ...    0    0    0]], shape=(64, 43), dtype=int64)\n",
      "\n",
      "\n",
      "tf.Tensor(\n",
      "[[   2 4036  328 ...    0    0    0]\n",
      " [   2 5439   44 ...    0    0    0]\n",
      " [   2 2894 2972 ...    0    0    0]\n",
      " ...\n",
      " [   2  947  287 ...    0    0    0]\n",
      " [   2  947  287 ...    0    0    0]\n",
      " [   2  450   71 ...    0    0    0]], shape=(64, 51), dtype=int64)\n",
      "tf.Tensor(\n",
      "[[  7   6 733 ...   0   0   0]\n",
      " [  7   6  22 ...   0   0   0]\n",
      " [  7   6  20 ...   0   0   0]\n",
      " ...\n",
      " [  7   6 845 ...   0   0   0]\n",
      " [  7   6 845 ...   0   0   0]\n",
      " [  7   6  18 ...   0   0   0]], shape=(64, 33), dtype=int64)\n",
      "\n",
      "\n",
      "tf.Tensor(\n",
      "[[   2 3532   37 ...    0    0    0]\n",
      " [   2 1512  107 ...    0    0    0]\n",
      " [   2 1512  107 ...    0    0    0]\n",
      " ...\n",
      " [   2    3    0 ...    0    0    0]\n",
      " [   2  141   71 ...    0    0    0]\n",
      " [   2 2356   71 ...    0    0    0]], shape=(64, 95), dtype=int64)\n",
      "tf.Tensor(\n",
      "[[   7    6   26 ...    0    0    0]\n",
      " [   7    6  127 ...    0    0    0]\n",
      " [   7    6  127 ...    0    0    0]\n",
      " ...\n",
      " [   7    6 1315 ...    0    0    0]\n",
      " [   7    6   48 ...    0    0    0]\n",
      " [   7    6   25 ...    0    0    0]], shape=(64, 38), dtype=int64)\n",
      "\n",
      "\n",
      "tf.Tensor(\n",
      "[[   2 3609 1444 ...    0    0    0]\n",
      " [   2 3609 1444 ...    0    0    0]\n",
      " [   2   49 1224 ...    0    0    0]\n",
      " ...\n",
      " [   2   46  530 ...    0    0    0]\n",
      " [   2 3532   37 ...    0    0    0]\n",
      " [   2  329   37 ...    0    0    0]], shape=(64, 41), dtype=int64)\n",
      "tf.Tensor(\n",
      "[[  7   6  42 ...   0   0   0]\n",
      " [  7   6  62 ...   0   0   0]\n",
      " [  7   6 140 ...   0   0   0]\n",
      " ...\n",
      " [  7   6  42 ...   0   0   0]\n",
      " [  7   6  22 ...   0   0   0]\n",
      " [  7   6  22 ...   0   0   0]], shape=(64, 35), dtype=int64)\n",
      "\n",
      "\n",
      "tf.Tensor(\n",
      "[[   2   45  504 ...    0    0    0]\n",
      " [   2   45  504 ...    0    0    0]\n",
      " [   2 3609 4141 ...    0    0    0]\n",
      " ...\n",
      " [   2 3609  287 ...    0    0    0]\n",
      " [   2 6304  101 ...    0    0    0]\n",
      " [   2  141   71 ...    0    0    0]], shape=(64, 65), dtype=int64)\n",
      "tf.Tensor(\n",
      "[[  7   6 560 ...   0   0   0]\n",
      " [  7   6 560 ...   0   0   0]\n",
      " [  7   6  20 ...   0   0   0]\n",
      " ...\n",
      " [  7   6  18 ...   0   0   0]\n",
      " [  7   6  18 ...   0   0   0]\n",
      " [  7   6  11 ...   0   0   8]], shape=(64, 40), dtype=int64)\n",
      "\n",
      "\n",
      "tf.Tensor(\n",
      "[[   2 2159 5962 ...    0    0    0]\n",
      " [   2 3532 3267 ...    0    0    0]\n",
      " [   2   77   40 ...    0    0    0]\n",
      " ...\n",
      " [   2  141   37 ...    0    0    0]\n",
      " [   2 2159 5962 ...    0    0    0]\n",
      " [   2 2159 5962 ...    0    0    0]], shape=(64, 49), dtype=int64)\n",
      "tf.Tensor(\n",
      "[[   7    6   27 ...    0    0    0]\n",
      " [   7    6  677 ...    0    0    0]\n",
      " [   7    6 1796 ...    0    0    0]\n",
      " ...\n",
      " [   7    6   64 ...    0    0    0]\n",
      " [   7    6   14 ...    0    0    0]\n",
      " [   7    6   14 ...    0    0    0]], shape=(64, 32), dtype=int64)\n",
      "\n",
      "\n",
      "tf.Tensor(\n",
      "[[   2  141   37 ...    0    0    0]\n",
      " [   2 3473  101 ...    0    0    0]\n",
      " [   2  141 1673 ...    0    0    0]\n",
      " ...\n",
      " [   2 3532 3267 ...    0    0    0]\n",
      " [   2    3    0 ...    0    0    0]\n",
      " [   2   41 2566 ...    0    0    0]], shape=(64, 56), dtype=int64)\n",
      "tf.Tensor(\n",
      "[[  7   6  49 ...   0   0   0]\n",
      " [  7   6 528 ...   0   0   0]\n",
      " [  7   6  39 ...   0   0   0]\n",
      " ...\n",
      " [  7   6  22 ...   0   0   0]\n",
      " [  7   6  22 ...   0   0   0]\n",
      " [  7   6 341 ...   0   0   0]], shape=(64, 38), dtype=int64)\n",
      "\n",
      "\n",
      "tf.Tensor(\n",
      "[[   2  726  842 ...    0    0    0]\n",
      " [   2 3145 2174 ...    0    0    0]\n",
      " [   2  228   71 ...    0    0    0]\n",
      " ...\n",
      " [   2  595   88 ...    0    0    0]\n",
      " [   2 3145  101 ...    0    0    0]\n",
      " [   2 3609 5660 ...    0    0    0]], shape=(64, 55), dtype=int64)\n",
      "tf.Tensor(\n",
      "[[   7    6   43 ...    0    0    0]\n",
      " [   7    6   40 ...    0    0    0]\n",
      " [   7    6  137 ...    0    0    0]\n",
      " ...\n",
      " [   7    6  136 ...    0    0    0]\n",
      " [   7    6   51 ...    0    0    0]\n",
      " [   7    6 1890 ...    0    0    0]], shape=(64, 39), dtype=int64)\n",
      "\n",
      "\n",
      "tf.Tensor(\n",
      "[[   2 3455  269 ...    0    0    0]\n",
      " [   2   77  967 ...    0    0    0]\n",
      " [   2 2159 5962 ...    0    0    0]\n",
      " ...\n",
      " [   2    3    0 ...    0    0    0]\n",
      " [   2   76 5490 ...    0    0    0]\n",
      " [   2  141  634 ...    0    0    0]], shape=(64, 48), dtype=int64)\n",
      "tf.Tensor(\n",
      "[[   7    6   99 ...    0    0    0]\n",
      " [   7    6 2840 ...    0    0    0]\n",
      " [   7    6   20 ...    0    0    0]\n",
      " ...\n",
      " [   7    6 1406 ...    0    0    0]\n",
      " [   7    6   56 ...    0    0    0]\n",
      " [   7    6  149 ...    0    0    0]], shape=(64, 31), dtype=int64)\n",
      "\n",
      "\n",
      "tf.Tensor(\n",
      "[[   2   85  246 ...    0    0    0]\n",
      " [   2  141   94 ...    0    0    0]\n",
      " [   2 1512  107 ...    0    0    0]\n",
      " ...\n",
      " [   2  389 5660 ...    0    0    0]\n",
      " [   2 3147  389 ...    0    0    0]\n",
      " [   2  389  138 ...    0    0    0]], shape=(64, 54), dtype=int64)\n",
      "tf.Tensor(\n",
      "[[ 7  6 11 ...  0  0  0]\n",
      " [ 7  6 33 ...  0  0  0]\n",
      " [ 7  6 84 ...  0  0  0]\n",
      " ...\n",
      " [ 7  6 40 ...  0  0  0]\n",
      " [ 7  6 40 ...  0  0  0]\n",
      " [ 7  6 40 ...  0  0  0]], shape=(64, 48), dtype=int64)\n",
      "\n",
      "\n",
      "tf.Tensor(\n",
      "[[   2 1512  107 ...    0    0    0]\n",
      " [   2 2682 3267 ...    0    0    0]\n",
      " [   2  864 4141 ...    0    0    0]\n",
      " ...\n",
      " [   2 3609   37 ...    0    0    0]\n",
      " [   2  105  899 ...    3    0    0]\n",
      " [   2  306 2502 ...    0    0    0]], shape=(64, 55), dtype=int64)\n",
      "tf.Tensor(\n",
      "[[   7    6   84 ...    0    0    0]\n",
      " [   7    6 1142 ...    0    0    0]\n",
      " [   7    6   43 ...    0    0    0]\n",
      " ...\n",
      " [   7    6 1170 ...    0    0    0]\n",
      " [   7    6   18 ...    0    0    0]\n",
      " [   7    6  519 ...    0    0    0]], shape=(64, 60), dtype=int64)\n",
      "\n",
      "\n",
      "tf.Tensor(\n",
      "[[   2 3532 1261 ...    0    0    0]\n",
      " [   2 3145  101 ...    0    0    0]\n",
      " [   2   55 4103 ...    0    0    0]\n",
      " ...\n",
      " [   2 6363 5540 ...    0    0    0]\n",
      " [   2 2679 1261 ...    0    0    0]\n",
      " [   2    3    0 ...    0    0    0]], shape=(64, 59), dtype=int64)\n",
      "tf.Tensor(\n",
      "[[  7   6  11 ...   0   0   0]\n",
      " [  7   6  86 ...   0   0   0]\n",
      " [  7   6  27 ...   0   0   0]\n",
      " ...\n",
      " [  7   6 184 ...   0   0   0]\n",
      " [  7   6  27 ...   0   0   0]\n",
      " [  7   6  18 ...   0   0   0]], shape=(64, 37), dtype=int64)\n",
      "\n",
      "\n",
      "tf.Tensor(\n",
      "[[   2 6304 2609 ...    0    0    0]\n",
      " [   2 6304 2609 ...    0    0    0]\n",
      " [   2 6304 2609 ...    0    0    0]\n",
      " ...\n",
      " [   2  389 1261 ...    0    0    0]\n",
      " [   2  389   37 ...    0    0    0]\n",
      " [   2  389   37 ...    0    0    0]], shape=(64, 46), dtype=int64)\n",
      "tf.Tensor(\n",
      "[[  7   6  27 ...   0   0   0]\n",
      " [  7   6  18 ...   0   0   0]\n",
      " [  7   6  18 ...   0   0   0]\n",
      " ...\n",
      " [  7   6 157 ...   0   0   0]\n",
      " [  7   6 157 ...   0   0   0]\n",
      " [  7   6  25 ...   0   0   0]], shape=(64, 41), dtype=int64)\n",
      "\n",
      "\n",
      "tf.Tensor(\n",
      "[[   2  306   36 ...    0    0    0]\n",
      " [   2  306   36 ...    0    0    0]\n",
      " [   2  141   37 ...    0    0    0]\n",
      " ...\n",
      " [   2  141 2609 ...    0    0    0]\n",
      " [   2  141   71 ...    0    0    0]\n",
      " [   2 3532 6363 ...    0    0    0]], shape=(64, 52), dtype=int64)\n",
      "tf.Tensor(\n",
      "[[   7    6  263 ...    0    0    0]\n",
      " [   7    6  263 ...    0    0    0]\n",
      " [   7    6 1765 ...    0    0    0]\n",
      " ...\n",
      " [   7    6   18 ...    0    0    0]\n",
      " [   7    6   11 ...    0    0    0]\n",
      " [   7    6 2276 ...    0    0    0]], shape=(64, 39), dtype=int64)\n",
      "\n",
      "\n",
      "tf.Tensor(\n",
      "[[   2 3609 2021 ...    0    0    0]\n",
      " [   2    3    0 ...    0    0    0]\n",
      " [   2 3145   76 ...    0    0    0]\n",
      " ...\n",
      " [   2  329   37 ...    0    0    0]\n",
      " [   2  228   71 ...    0    0    0]\n",
      " [   2  228 2438 ...    0    0    0]], shape=(64, 58), dtype=int64)\n",
      "tf.Tensor(\n",
      "[[  7   6  39 ...   0   0   0]\n",
      " [  7   6  39 ...   0   0   0]\n",
      " [  7   6  20 ...   0   0   0]\n",
      " ...\n",
      " [  7   6  27 ...   0   0   0]\n",
      " [  7   6 222 ...   0   0   0]\n",
      " [  7   6 138 ...   0   0   0]], shape=(64, 40), dtype=int64)\n",
      "\n",
      "\n",
      "tf.Tensor(\n",
      "[[   2 3609   38 ...    0    0    0]\n",
      " [   2 3609 2887 ...    0    0    0]\n",
      " [   2 3609   38 ...    0    0    0]\n",
      " ...\n",
      " [   2  141 1116 ...    0    0    0]\n",
      " [   2 3609 4465 ...    0    0    0]\n",
      " [   2  141  246 ...    0    0    0]], shape=(64, 51), dtype=int64)\n",
      "tf.Tensor(\n",
      "[[  7   6  45 ...   0   0   0]\n",
      " [  7   6 255 ...   0   0   0]\n",
      " [  7   6  45 ...   0   0   0]\n",
      " ...\n",
      " [  7   6 241 ...   0   0   0]\n",
      " [  7   6  11 ...   0   0   0]\n",
      " [  7   6  27 ...   0   0   0]], shape=(64, 31), dtype=int64)\n",
      "\n",
      "\n",
      "tf.Tensor(\n",
      "[[   2   55  227 ...    0    0    0]\n",
      " [   2  141 5288 ...    0    0    0]\n",
      " [   2  141 1565 ...    0    0    0]\n",
      " ...\n",
      " [   2  427   40 ...    0    0    0]\n",
      " [   2 1512  107 ...    0    0    0]\n",
      " [   2  974   37 ...    0    0    0]], shape=(64, 62), dtype=int64)\n",
      "tf.Tensor(\n",
      "[[   7    6  151 ...    0    0    0]\n",
      " [   7    6 1637 ...    0    0    0]\n",
      " [   7    6  125 ...    0    0    0]\n",
      " ...\n",
      " [   7    6   40 ...    0    0    0]\n",
      " [   7    6  127 ...    0    0    0]\n",
      " [   7    6   18 ...    0    0    0]], shape=(64, 42), dtype=int64)\n",
      "\n",
      "\n",
      "tf.Tensor(\n",
      "[[   2  328   52 ...    0    0    0]\n",
      " [   2  141   71 ...    0    0    0]\n",
      " [   2 3145 5866 ...    0    0    0]\n",
      " ...\n",
      " [   2    3    0 ...    0    0    0]\n",
      " [   2 3609 1261 ...    0    0    0]\n",
      " [   2 2028  105 ...    0    0    0]], shape=(64, 51), dtype=int64)\n",
      "tf.Tensor(\n",
      "[[  7   6   4 ...   0   0   0]\n",
      " [  7   6 622 ...   0   0   0]\n",
      " [  7   6  22 ...   0   0   0]\n",
      " ...\n",
      " [  7   6  11 ...   0   0   0]\n",
      " [  7   6  27 ...   0   0   0]\n",
      " [  7   6  22 ...   0   0   0]], shape=(64, 52), dtype=int64)\n",
      "\n",
      "\n",
      "tf.Tensor(\n",
      "[[   2  228   71 ...    0    0    0]\n",
      " [   2  228   71 ...    0    0    0]\n",
      " [   2  329 1261 ...    0    0    0]\n",
      " ...\n",
      " [   2   41  269 ...    0    0    0]\n",
      " [   2   77  756 ...    0    0    0]\n",
      " [   2  114 4879 ...    0    0    0]], shape=(64, 62), dtype=int64)\n",
      "tf.Tensor(\n",
      "[[   7    6  138 ...    0    0    0]\n",
      " [   7    6  138 ...    0    0    0]\n",
      " [   7    6   80 ...    0    0    0]\n",
      " ...\n",
      " [   7    6 1033 ...    0    0    0]\n",
      " [   7    6   11 ...    0    0    0]\n",
      " [   7    6   11 ...    0    0    0]], shape=(64, 36), dtype=int64)\n",
      "\n",
      "\n",
      "tf.Tensor(\n",
      "[[   2  260   37 ...    0    0    0]\n",
      " [   2  260   37 ...    0    0    0]\n",
      " [   2  141 5728 ...    0    0    0]\n",
      " ...\n",
      " [   2 2679   42 ...    0    0    0]\n",
      " [   2 2679   42 ...    0    0    0]\n",
      " [   2 4204   42 ...    0    0    0]], shape=(64, 45), dtype=int64)\n",
      "tf.Tensor(\n",
      "[[  7   6 701 ...   0   0   0]\n",
      " [  7   6 701 ...   0   0   0]\n",
      " [  7   6  20 ...   0   0   0]\n",
      " ...\n",
      " [  7   6  27 ...   0   0   0]\n",
      " [  7   6  27 ...   0   0   0]\n",
      " [  7   6   4 ...   0   0   0]], shape=(64, 55), dtype=int64)\n",
      "\n",
      "\n",
      "tf.Tensor(\n",
      "[[   2 1512  107 ...    0    0    0]\n",
      " [   2 1512  107 ...    0    0    0]\n",
      " [   2 1512  107 ...    0    0    0]\n",
      " ...\n",
      " [   2  223 1673 ...    0    0    0]\n",
      " [   2  223 1673 ...    0    0    0]\n",
      " [   2  223 1673 ...    0    0    0]], shape=(64, 44), dtype=int64)\n",
      "tf.Tensor(\n",
      "[[ 7  6  4 ...  0  0  0]\n",
      " [ 7  6  4 ...  0  8  0]\n",
      " [ 7  6  4 ...  0  0  0]\n",
      " ...\n",
      " [ 7  6 33 ...  0  0  0]\n",
      " [ 7  6 33 ...  0  0  0]\n",
      " [ 7  6 33 ...  0  0  0]], shape=(64, 34), dtype=int64)\n",
      "\n",
      "\n",
      "tf.Tensor(\n",
      "[[   2 2356   74  101 1694   77   37   52  240  587  485   40  483  271\n",
      "    36   40   36    3    0    0    0    0    0    0    0    0    0    0\n",
      "     0    0    0    0    0    0    0    0    0    0    0    0    0    0\n",
      "     0    0    0    0    0    0    0    0]\n",
      " [   2    3    0    0    0    0    0    0    0    0    0    0    0    0\n",
      "     0    0    0    0    0    0    0    0    0    0    0    0    0    0\n",
      "     0    0    0    0    0    0    0    0    0    0    0    0    0    0\n",
      "     0    0    0    0    0    0    0    0]\n",
      " [   2 3609   52  240  587  485 5660   36  135   35  287   36   73   46\n",
      "  2010 4141    3    0    0    0    0    0    0    0    0    0    0    0\n",
      "     0    0    0    0    0    0    0    0    0    0    0    0    0    0\n",
      "     0    0    0    0    0    0    0    0]\n",
      " [   2  100 5555  111 4141   74   42 2425 4282   77 1221  109   17   73\n",
      "   551   73   37 5465   36 1694   36    3    0    0    0    0    0    0\n",
      "     0    0    0    0    0    0    0    0    0    0    0    0    0    0\n",
      "     0    0    0    0    0    0    0    0]\n",
      " [   2  389   37 1261   74   40 4848 2966   36 1261   35   74   35   40\n",
      "  1413   36  118 1694   77  111  538   36  538   36    3    0    0    0\n",
      "     0    0    0    0    0    0    0    0    0    0    0    0    0    0\n",
      "     0    0    0    0    0    0    0    0]\n",
      " [   2  223   71  385   74   71  168 1405   77 3267   36   55   36    3\n",
      "     0    0    0    0    0    0    0    0    0    0    0    0    0    0\n",
      "     0    0    0    0    0    0    0    0    0    0    0    0    0    0\n",
      "     0    0    0    0    0    0    0    0]\n",
      " [   2 1865 1261   74  663   36   32   18   13   19   13   20   13   21\n",
      "    33   36   73 3267   74  663   15    3    0    0    0    0    0    0\n",
      "     0    0    0    0    0    0    0    0    0    0    0    0    0    0\n",
      "     0    0    0    0    0    0    0    0]\n",
      " [   2 2159 5962  198 1187   36   57  271 1192   14   25   36 2017  109\n",
      "    37 3267   36  599   36    3    0    0    0    0    0    0    0    0\n",
      "     0    0    0    0    0    0    0    0    0    0    0    0    0    0\n",
      "     0    0    0    0    0    0    0    0]\n",
      " [   2 6696 5939 2432   37 3456  950  178   36 3456  950  178   36   77\n",
      "    71  906 2562  109   37   52  240  587  485 4246    3    0    0    0\n",
      "     0    0    0    0    0    0    0    0    0    0    0    0    0    0\n",
      "     0    0    0    0    0    0    0    0]\n",
      " [   2   99   88 5992  392 6696 5939 2432   53 1549  610    9 6304    1\n",
      "   109   42 3178  151 3438   29    7   55   72   38  303 1061   29    7\n",
      "    55    9   93   52  899 2199  743  343   36   52  899 2199 1205   36\n",
      "    72   36   52  899 2199 1222   36    3]\n",
      " [   2   52 6388 3267   36 4658  271  258   36  156   37 2021 2243  963\n",
      "   328 6716 1318    9    7   61   14    7   49   14    7   40    9    3\n",
      "     0    0    0    0    0    0    0    0    0    0    0    0    0    0\n",
      "     0    0    0    0    0    0    0    0]], shape=(11, 50), dtype=int64)\n",
      "tf.Tensor(\n",
      "[[   7    6   48    4   28    5   72    4    3    3    0    0    8    0\n",
      "     0    0    0    0    0    0    0    0    0    0    0    0    0    0\n",
      "     0    0    0]\n",
      " [   7    6   48    4   28    5   72    4    3    3    0    0    8    0\n",
      "     0    0    0    0    0    0    0    0    0    0    0    0    0    0\n",
      "     0    0    0]\n",
      " [   7    6  151    5  280    4 1044    9 1541   12   97    3    0    0\n",
      "     8    0    0    0    0    0    0    0    0    0    0    0    0    0\n",
      "     0    0    0]\n",
      " [   7    6   72   12   43    5  116    4   11   21   15   21   13   56\n",
      "     4  180    3   10    9  281   12   43    5  812    3    0    0    8\n",
      "     0    0    0]\n",
      " [   7    6   40    4 1392    9   24   12   31   14   16  329    5   74\n",
      "     4   25    4   14    5   72    4    3    3   11   19   10    3    3\n",
      "     0    0    8]\n",
      " [   7    6  115   26   11   19   10    5  238    4    3   50   26   11\n",
      "    17   16   10    0    0    8    0    0    0    0    0    0    0    0\n",
      "     0    0    0]\n",
      " [   7    6   99    5   44    4   11   17    9   23    9   34    9   60\n",
      "    10    3    0    0    8    0    0    0    0    0    0    0    0    0\n",
      "     0    0    0]\n",
      " [   7    6   86   12   86    5   83    4  130    9  346    3    5   88\n",
      "     4  130    3    0    0    8    0    0    0    0    0    0    0    0\n",
      "     0    0    0]\n",
      " [   7    6   33    5  112    4 1641    3    0    0    8    0    0    0\n",
      "     0    0    0    0    0    0    0    0    0    0    0    0    0    0\n",
      "     0    0    0]\n",
      " [   7    6   80    5  227    4 2405    9    4 1280    9 1279    3    3\n",
      "     0    0    8    0    0    0    0    0    0    0    0    0    0    0\n",
      "     0    0    0]\n",
      " [   7    6 1600   12   39    5   39    5  113    4 1595    9  294    3\n",
      "     5  122    4    3    0    0    8    0    0    0    0    0    0    0\n",
      "     0    0    0]], shape=(11, 31), dtype=int64)\n",
      "\n",
      "\n",
      "tf.Tensor(\n",
      "[[   2  114 4879 ...    0    0    0]\n",
      " [   2  141   71 ...    0    0    0]\n",
      " [   2   49 1224 ...    0    0    0]\n",
      " ...\n",
      " [   2    3    0 ...    0    0    0]\n",
      " [   2 4395 1673 ...    0    0    0]\n",
      " [   2  228   71 ...    0    0    0]], shape=(64, 57), dtype=int64)\n",
      "tf.Tensor(\n",
      "[[   7    6   64 ...    0    0    0]\n",
      " [   7    6   43 ...    0    0    0]\n",
      " [   7    6  727 ...    0    0    0]\n",
      " ...\n",
      " [   7    6   40 ...    0    0    0]\n",
      " [   7    6  166 ...    0    0    0]\n",
      " [   7    6 2819 ...    0    0    0]], shape=(64, 53), dtype=int64)\n",
      "\n",
      "\n",
      "tf.Tensor(\n",
      "[[   2  389   53 ...    0    0    0]\n",
      " [   2  141   37 ...    0    0    0]\n",
      " [   2  141   71 ...    0    0    0]\n",
      " ...\n",
      " [   2  389 4141 ...    0    0    0]\n",
      " [   2  389 2609 ...    0    0    0]\n",
      " [   2 3532 3267 ...    0    0    0]], shape=(64, 61), dtype=int64)\n",
      "tf.Tensor(\n",
      "[[  7   6 403 ...   0   0   0]\n",
      " [  7   6 222 ...   0   0   0]\n",
      " [  7   6 224 ...   0   0   0]\n",
      " ...\n",
      " [  7   6 190 ...   0   0   0]\n",
      " [  7   6 100 ...   0   0   0]\n",
      " [  7   6  22 ...   0   0   0]], shape=(64, 49), dtype=int64)\n",
      "\n",
      "\n",
      "tf.Tensor(\n",
      "[[   2 1512  477 ...    0    0    0]\n",
      " [   2 3532 3267 ...    0    0    0]\n",
      " [   2  141   37 ...    0    0    0]\n",
      " ...\n",
      " [   2 2682   37 ...    0    0    0]\n",
      " [   2 5660   36 ...    0    0    0]\n",
      " [   2    3    0 ...    0    0    0]], shape=(64, 64), dtype=int64)\n",
      "tf.Tensor(\n",
      "[[   7    6   27 ...    0    0    0]\n",
      " [   7    6 2822 ...    0    0    0]\n",
      " [   7    6   25 ...    0    0    0]\n",
      " ...\n",
      " [   7    6 2832 ...    0    0    0]\n",
      " [   7    6 2833 ...    0    0    0]\n",
      " [   7    6  176 ...    0    0    0]], shape=(64, 61), dtype=int64)\n",
      "\n",
      "\n"
     ]
    }
   ],
   "source": [
    "def make_batches(intents, snippets):\n",
    "    intents = tf.data.Dataset.from_tensor_slices(intents)\n",
    "    batched_intents = intents.batch(BATCH_SIZE).map(tokenize_intent)\n",
    "    # preprocessor = hub.load(\"https://tfhub.dev/tensorflow/bert_en_uncased_preprocess/3\")\n",
    "    # tokenize_intent = hub.KerasLayer(preprocessor.tokenize)\n",
    "    \n",
    "    snippets = tf.data.Dataset.from_tensor_slices(snippets)\n",
    "    snippets = snippets.map(lambda x : tf.py_function(func=tokenize_code, inp=[x], Tout=tf.string))\n",
    "    vectorize_layer = keras.layers.experimental.preprocessing.StringLookup(max_tokens=CODE_TOKENS)\n",
    "    vectorize_layer.adapt(snippets)\n",
    "    inverse_vectorize = keras.layers.experimental.preprocessing.StringLookup(vocabulary=vectorize_layer.get_vocabulary(), invert=True)\n",
    "    \n",
    "    snippets = snippets.map(lambda x : vectorize_layer(x))\n",
    "    batched_snippets = snippets.padded_batch(BATCH_SIZE, padded_shapes=(None,))\n",
    "\n",
    "    batched_dataset = tf.data.Dataset.zip((batched_intents, batched_snippets))\n",
    "    batched_dataset = batched_dataset.cache().shuffle(BUFFER_SIZE).prefetch(tf.data.AUTOTUNE)\n",
    "    \n",
    "    return batched_dataset, vectorize_layer, inverse_vectorize\n",
    "\n",
    "\n",
    "train_batches, vectorize, inverse_vectorize = make_batches(train_intents, train_snippets)\n",
    "# val_batches = make_batches(val_intents, val_snippets) Not used anywhere in the notebook?\n",
    "\n",
    "for intent, code in train_batches:\n",
    "    print(intent)\n",
    "    print(code)\n",
    "    print(\"\\n\")"
   ]
  },
  {
   "cell_type": "markdown",
   "metadata": {
    "id": "nBQuibYA4n0n"
   },
   "source": [
    "## Positional encoding\n",
    "\n",
    "Since this model doesn't contain any recurrence or convolution, positional encoding is added to give the model some information about the relative position of the words in the sentence. \n",
    "\n",
    "The positional encoding vector is added to the embedding vector. Embeddings represent a token in a d-dimensional space where tokens with similar meaning will be closer to each other. But the embeddings do not encode the relative position of words in a sentence. So after adding the positional encoding, words will be closer to each other based on the *similarity of their meaning and their position in the sentence*, in the d-dimensional space.\n",
    "\n",
    "See the notebook on [positional encoding](https://github.com/tensorflow/examples/blob/master/community/en/position_encoding.ipynb) to learn more about it. The formula for calculating the positional encoding is as follows:\n",
    "\n",
    "$$\\Large{PE_{(pos, 2i)} = sin(pos / 10000^{2i / d_{model}})} $$\n",
    "$$\\Large{PE_{(pos, 2i+1)} = cos(pos / 10000^{2i / d_{model}})} $$"
   ]
  },
  {
   "cell_type": "code",
   "execution_count": 19,
   "metadata": {
    "execution": {
     "iopub.execute_input": "2021-02-04T02:22:17.843536Z",
     "iopub.status.busy": "2021-02-04T02:22:17.842742Z",
     "iopub.status.idle": "2021-02-04T02:22:17.845150Z",
     "shell.execute_reply": "2021-02-04T02:22:17.844601Z"
    },
    "id": "WhIOZjMNKujn"
   },
   "outputs": [],
   "source": [
    "def get_angles(pos, i, d_model):\n",
    "  angle_rates = 1 / np.power(10000, (2 * (i//2)) / np.float32(d_model))\n",
    "  return pos * angle_rates"
   ]
  },
  {
   "cell_type": "code",
   "execution_count": 20,
   "metadata": {
    "execution": {
     "iopub.execute_input": "2021-02-04T02:22:17.851810Z",
     "iopub.status.busy": "2021-02-04T02:22:17.851073Z",
     "iopub.status.idle": "2021-02-04T02:22:17.853273Z",
     "shell.execute_reply": "2021-02-04T02:22:17.852748Z"
    },
    "id": "1Rz82wEs5biZ"
   },
   "outputs": [],
   "source": [
    "def positional_encoding(position, d_model):\n",
    "  angle_rads = get_angles(np.arange(position)[:, np.newaxis],\n",
    "                          np.arange(d_model)[np.newaxis, :],\n",
    "                          d_model)\n",
    "  \n",
    "  # apply sin to even indices in the array; 2i\n",
    "  angle_rads[:, 0::2] = np.sin(angle_rads[:, 0::2])\n",
    "  \n",
    "  # apply cos to odd indices in the array; 2i+1\n",
    "  angle_rads[:, 1::2] = np.cos(angle_rads[:, 1::2])\n",
    "    \n",
    "  pos_encoding = angle_rads[np.newaxis, ...]\n",
    "    \n",
    "  return tf.cast(pos_encoding, dtype=tf.float32)"
   ]
  },
  {
   "cell_type": "code",
   "execution_count": 21,
   "metadata": {
    "execution": {
     "iopub.execute_input": "2021-02-04T02:22:17.859008Z",
     "iopub.status.busy": "2021-02-04T02:22:17.858322Z",
     "iopub.status.idle": "2021-02-04T02:22:18.642792Z",
     "shell.execute_reply": "2021-02-04T02:22:18.643378Z"
    },
    "id": "1kLCla68EloE"
   },
   "outputs": [
    {
     "name": "stdout",
     "output_type": "stream",
     "text": [
      "(1, 2048, 512)\n"
     ]
    },
    {
     "data": {
      "image/png": "[encoded data removed]",
      "text/plain": [
       "<Figure size 432x288 with 2 Axes>"
      ]
     },
     "metadata": {
      "needs_background": "light"
     },
     "output_type": "display_data"
    }
   ],
   "source": [
    "n, d = 2048, 512\n",
    "pos_encoding = positional_encoding(n, d)\n",
    "print(pos_encoding.shape)\n",
    "pos_encoding = pos_encoding[0]\n",
    "\n",
    "# Juggle the dimensions for the plot\n",
    "pos_encoding = tf.reshape(pos_encoding, (n, d//2, 2))\n",
    "pos_encoding = tf.transpose(pos_encoding, (2,1,0))\n",
    "pos_encoding = tf.reshape(pos_encoding, (d, n))\n",
    "\n",
    "plt.pcolormesh(pos_encoding, cmap='RdBu')\n",
    "plt.ylabel('Depth')\n",
    "plt.xlabel('Position')\n",
    "plt.colorbar()\n",
    "plt.show()"
   ]
  },
  {
   "cell_type": "markdown",
   "metadata": {
    "id": "a_b4ou4TYqUN"
   },
   "source": [
    "## Masking"
   ]
  },
  {
   "cell_type": "markdown",
   "metadata": {
    "id": "s42Uydjkv0hF"
   },
   "source": [
    "Mask all the pad tokens in the batch of sequence. It ensures that the model does not treat padding as the input. The mask indicates where pad value `0` is present: it outputs a `1` at those locations, and a `0` otherwise."
   ]
  },
  {
   "cell_type": "code",
   "execution_count": 22,
   "metadata": {
    "execution": {
     "iopub.execute_input": "2021-02-04T02:22:18.653836Z",
     "iopub.status.busy": "2021-02-04T02:22:18.653089Z",
     "iopub.status.idle": "2021-02-04T02:22:18.655282Z",
     "shell.execute_reply": "2021-02-04T02:22:18.655694Z"
    },
    "id": "U2i8-e1s8ti9"
   },
   "outputs": [],
   "source": [
    "def create_padding_mask(seq):\n",
    "  seq = tf.cast(tf.math.equal(seq, 0), tf.float32)\n",
    "  \n",
    "  # add extra dimensions to add the padding\n",
    "  # to the attention logits.\n",
    "  return seq[:, tf.newaxis, tf.newaxis, :]  # (batch_size, 1, 1, seq_len)"
   ]
  },
  {
   "cell_type": "code",
   "execution_count": 23,
   "metadata": {
    "execution": {
     "iopub.execute_input": "2021-02-04T02:22:18.660735Z",
     "iopub.status.busy": "2021-02-04T02:22:18.660038Z",
     "iopub.status.idle": "2021-02-04T02:22:18.665917Z",
     "shell.execute_reply": "2021-02-04T02:22:18.665427Z"
    },
    "id": "A7BYeBCNvi7n"
   },
   "outputs": [
    {
     "data": {
      "text/plain": [
       "<tf.Tensor: shape=(3, 1, 1, 5), dtype=float32, numpy=\n",
       "array([[[[0., 0., 1., 1., 0.]]],\n",
       "\n",
       "\n",
       "       [[[0., 0., 0., 1., 1.]]],\n",
       "\n",
       "\n",
       "       [[[1., 1., 1., 0., 0.]]]], dtype=float32)>"
      ]
     },
     "execution_count": 23,
     "metadata": {},
     "output_type": "execute_result"
    }
   ],
   "source": [
    "x = tf.constant([[7, 6, 0, 0, 1], [1, 2, 3, 0, 0], [0, 0, 0, 4, 5]])\n",
    "create_padding_mask(x)"
   ]
  },
  {
   "cell_type": "markdown",
   "metadata": {
    "id": "Z0hzukDBgVom"
   },
   "source": [
    "The look-ahead mask is used to mask the future tokens in a sequence. In other words, the mask indicates which entries should not be used.\n",
    "\n",
    "This means that to predict the third word, only the first and second word will be used. Similarly to predict the fourth word, only the first, second and the third word will be used and so on."
   ]
  },
  {
   "cell_type": "code",
   "execution_count": 24,
   "metadata": {
    "execution": {
     "iopub.execute_input": "2021-02-04T02:22:18.670548Z",
     "iopub.status.busy": "2021-02-04T02:22:18.669885Z",
     "iopub.status.idle": "2021-02-04T02:22:18.672332Z",
     "shell.execute_reply": "2021-02-04T02:22:18.671687Z"
    },
    "id": "dVxS8OPI9uI0"
   },
   "outputs": [],
   "source": [
    "def create_look_ahead_mask(size):\n",
    "  mask = 1 - tf.linalg.band_part(tf.ones((size, size)), -1, 0)\n",
    "  return mask  # (seq_len, seq_len)"
   ]
  },
  {
   "cell_type": "code",
   "execution_count": 25,
   "metadata": {
    "execution": {
     "iopub.execute_input": "2021-02-04T02:22:18.676820Z",
     "iopub.status.busy": "2021-02-04T02:22:18.676147Z",
     "iopub.status.idle": "2021-02-04T02:22:18.681548Z",
     "shell.execute_reply": "2021-02-04T02:22:18.681967Z"
    },
    "id": "yxKGuXxaBeeE"
   },
   "outputs": [
    {
     "data": {
      "text/plain": [
       "<tf.Tensor: shape=(3, 3), dtype=float32, numpy=\n",
       "array([[0., 1., 1.],\n",
       "       [0., 0., 1.],\n",
       "       [0., 0., 0.]], dtype=float32)>"
      ]
     },
     "execution_count": 25,
     "metadata": {},
     "output_type": "execute_result"
    }
   ],
   "source": [
    "x = tf.random.uniform((1, 3))\n",
    "temp = create_look_ahead_mask(x.shape[1])\n",
    "temp"
   ]
  },
  {
   "cell_type": "markdown",
   "metadata": {
    "id": "xluDl5cXYy4y"
   },
   "source": [
    "## Scaled dot product attention"
   ]
  },
  {
   "cell_type": "markdown",
   "metadata": {
    "id": "vsxEE_-Wa1gF"
   },
   "source": [
    "<img src=\"https://www.tensorflow.org/images/tutorials/transformer/scaled_attention.png\" width=\"500\" alt=\"scaled_dot_product_attention\">\n",
    "\n",
    "The attention function used by the transformer takes three inputs: Q (query), K (key), V (value). The equation used to calculate the attention weights is:\n",
    "\n",
    "$$\\Large{Attention(Q, K, V) = softmax_k(\\frac{QK^T}{\\sqrt{d_k}}) V} $$\n",
    "\n",
    "The dot-product attention is scaled by a factor of square root of the depth. This is done because for large values of depth, the dot product grows large in magnitude pushing the softmax function where it has small gradients resulting in a very hard softmax. \n",
    "\n",
    "For example, consider that `Q` and `K` have a mean of 0 and variance of 1. Their matrix multiplication will have a mean of 0 and variance of `dk`. So the *square root of `dk`* is used for scaling so you get a consistent variance regardless of the value of `dk`. If the variance is too low the output may be too flat to optimize effectively. If the variance is too high the softmax may saturate at initilization making it dificult to learn. \n",
    "\n",
    "The mask is multiplied with -1e9 (close to negative infinity). This is done because the mask is summed with the scaled matrix multiplication of Q and K and is applied immediately before a softmax. The goal is to zero out these cells, and large negative inputs to softmax are near zero in the output."
   ]
  },
  {
   "cell_type": "code",
   "execution_count": 26,
   "metadata": {
    "execution": {
     "iopub.execute_input": "2021-02-04T02:22:18.689122Z",
     "iopub.status.busy": "2021-02-04T02:22:18.688450Z",
     "iopub.status.idle": "2021-02-04T02:22:18.690870Z",
     "shell.execute_reply": "2021-02-04T02:22:18.690297Z"
    },
    "id": "LazzUq3bJ5SH"
   },
   "outputs": [],
   "source": [
    "def scaled_dot_product_attention(q, k, v, mask):\n",
    "  \"\"\"Calculate the attention weights.\n",
    "  q, k, v must have matching leading dimensions.\n",
    "  k, v must have matching penultimate dimension, i.e.: seq_len_k = seq_len_v.\n",
    "  The mask has different shapes depending on its type(padding or look ahead) \n",
    "  but it must be broadcastable for addition.\n",
    "  \n",
    "  Args:\n",
    "    q: query shape == (..., seq_len_q, depth)\n",
    "    k: key shape == (..., seq_len_k, depth)\n",
    "    v: value shape == (..., seq_len_v, depth_v)\n",
    "    mask: Float tensor with shape broadcastable \n",
    "          to (..., seq_len_q, seq_len_k). Defaults to None.\n",
    "    \n",
    "  Returns:\n",
    "    output, attention_weights\n",
    "  \"\"\"\n",
    "\n",
    "  matmul_qk = tf.matmul(q, k, transpose_b=True)  # (..., seq_len_q, seq_len_k)\n",
    "  \n",
    "  # scale matmul_qk\n",
    "  dk = tf.cast(tf.shape(k)[-1], tf.float32)\n",
    "  scaled_attention_logits = matmul_qk / tf.math.sqrt(dk)\n",
    "\n",
    "  # add the mask to the scaled tensor.\n",
    "  if mask is not None:\n",
    "    scaled_attention_logits += (mask * -1e9)  \n",
    "\n",
    "  # softmax is normalized on the last axis (seq_len_k) so that the scores\n",
    "  # add up to 1.\n",
    "  attention_weights = tf.nn.softmax(scaled_attention_logits, axis=-1)  # (..., seq_len_q, seq_len_k)\n",
    "\n",
    "  output = tf.matmul(attention_weights, v)  # (..., seq_len_q, depth_v)\n",
    "\n",
    "  return output, attention_weights"
   ]
  },
  {
   "cell_type": "markdown",
   "metadata": {
    "id": "FiqETnhCkoXh"
   },
   "source": [
    "As the softmax normalization is done on K, its values decide the amount of importance given to Q.\n",
    "\n",
    "The output represents the multiplication of the attention weights and the V (value) vector. This ensures that the words you want to focus on are kept as-is and the irrelevant words are flushed out."
   ]
  },
  {
   "cell_type": "code",
   "execution_count": 27,
   "metadata": {
    "execution": {
     "iopub.execute_input": "2021-02-04T02:22:18.695523Z",
     "iopub.status.busy": "2021-02-04T02:22:18.694825Z",
     "iopub.status.idle": "2021-02-04T02:22:18.697143Z",
     "shell.execute_reply": "2021-02-04T02:22:18.696653Z"
    },
    "id": "n90YjClyInFy"
   },
   "outputs": [],
   "source": [
    "def print_out(q, k, v):\n",
    "  temp_out, temp_attn = scaled_dot_product_attention(\n",
    "      q, k, v, None)\n",
    "  print ('Attention weights are:')\n",
    "  print (temp_attn)\n",
    "  print ('Output is:')\n",
    "  print (temp_out)"
   ]
  },
  {
   "cell_type": "code",
   "execution_count": 28,
   "metadata": {
    "execution": {
     "iopub.execute_input": "2021-02-04T02:22:18.703207Z",
     "iopub.status.busy": "2021-02-04T02:22:18.702379Z",
     "iopub.status.idle": "2021-02-04T02:22:19.124920Z",
     "shell.execute_reply": "2021-02-04T02:22:19.124356Z"
    },
    "id": "yAzUAf2DPlNt"
   },
   "outputs": [
    {
     "name": "stdout",
     "output_type": "stream",
     "text": [
      "Attention weights are:\n",
      "tf.Tensor([[0. 1. 0. 0.]], shape=(1, 4), dtype=float32)\n",
      "Output is:\n",
      "tf.Tensor([[10.  0.]], shape=(1, 2), dtype=float32)\n"
     ]
    }
   ],
   "source": [
    "np.set_printoptions(suppress=True)\n",
    "\n",
    "temp_k = tf.constant([[10,0,0],\n",
    "                      [0,10,0],\n",
    "                      [0,0,10],\n",
    "                      [0,0,10]], dtype=tf.float32)  # (4, 3)\n",
    "\n",
    "temp_v = tf.constant([[   1,0],\n",
    "                      [  10,0],\n",
    "                      [ 100,5],\n",
    "                      [1000,6]], dtype=tf.float32)  # (4, 2)\n",
    "\n",
    "# This `query` aligns with the second `key`,\n",
    "# so the second `value` is returned.\n",
    "temp_q = tf.constant([[0, 10, 0]], dtype=tf.float32)  # (1, 3)\n",
    "print_out(temp_q, temp_k, temp_v)"
   ]
  },
  {
   "cell_type": "code",
   "execution_count": 29,
   "metadata": {
    "execution": {
     "iopub.execute_input": "2021-02-04T02:22:19.129766Z",
     "iopub.status.busy": "2021-02-04T02:22:19.128988Z",
     "iopub.status.idle": "2021-02-04T02:22:19.134437Z",
     "shell.execute_reply": "2021-02-04T02:22:19.133928Z"
    },
    "id": "zg6k-fGhgXra"
   },
   "outputs": [
    {
     "name": "stdout",
     "output_type": "stream",
     "text": [
      "Attention weights are:\n",
      "tf.Tensor([[0.  0.  0.5 0.5]], shape=(1, 4), dtype=float32)\n",
      "Output is:\n",
      "tf.Tensor([[550.    5.5]], shape=(1, 2), dtype=float32)\n"
     ]
    }
   ],
   "source": [
    "# This query aligns with a repeated key (third and fourth), \n",
    "# so all associated values get averaged.\n",
    "temp_q = tf.constant([[0, 0, 10]], dtype=tf.float32)  # (1, 3)\n",
    "print_out(temp_q, temp_k, temp_v)"
   ]
  },
  {
   "cell_type": "code",
   "execution_count": 30,
   "metadata": {
    "execution": {
     "iopub.execute_input": "2021-02-04T02:22:19.139424Z",
     "iopub.status.busy": "2021-02-04T02:22:19.138614Z",
     "iopub.status.idle": "2021-02-04T02:22:19.143582Z",
     "shell.execute_reply": "2021-02-04T02:22:19.144021Z"
    },
    "id": "UAq3YOzUgXhb"
   },
   "outputs": [
    {
     "name": "stdout",
     "output_type": "stream",
     "text": [
      "Attention weights are:\n",
      "tf.Tensor([[0.5 0.5 0.  0. ]], shape=(1, 4), dtype=float32)\n",
      "Output is:\n",
      "tf.Tensor([[5.5 0. ]], shape=(1, 2), dtype=float32)\n"
     ]
    }
   ],
   "source": [
    "# This query aligns equally with the first and second key, \n",
    "# so their values get averaged.\n",
    "temp_q = tf.constant([[10, 10, 0]], dtype=tf.float32)  # (1, 3)\n",
    "print_out(temp_q, temp_k, temp_v)"
   ]
  },
  {
   "cell_type": "markdown",
   "metadata": {
    "id": "aOz-4_XIhaTP"
   },
   "source": [
    "Pass all the queries together."
   ]
  },
  {
   "cell_type": "code",
   "execution_count": 31,
   "metadata": {
    "execution": {
     "iopub.execute_input": "2021-02-04T02:22:19.149102Z",
     "iopub.status.busy": "2021-02-04T02:22:19.148370Z",
     "iopub.status.idle": "2021-02-04T02:22:19.153775Z",
     "shell.execute_reply": "2021-02-04T02:22:19.153259Z"
    },
    "id": "6dlU8Tm-hYrF"
   },
   "outputs": [
    {
     "name": "stdout",
     "output_type": "stream",
     "text": [
      "Attention weights are:\n",
      "tf.Tensor(\n",
      "[[0.  0.  0.5 0.5]\n",
      " [0.  1.  0.  0. ]\n",
      " [0.5 0.5 0.  0. ]], shape=(3, 4), dtype=float32)\n",
      "Output is:\n",
      "tf.Tensor(\n",
      "[[550.    5.5]\n",
      " [ 10.    0. ]\n",
      " [  5.5   0. ]], shape=(3, 2), dtype=float32)\n"
     ]
    }
   ],
   "source": [
    "temp_q = tf.constant([[0, 0, 10], [0, 10, 0], [10, 10, 0]], dtype=tf.float32)  # (3, 3)\n",
    "print_out(temp_q, temp_k, temp_v)"
   ]
  },
  {
   "cell_type": "markdown",
   "metadata": {
    "id": "kmzGPEy64qmA"
   },
   "source": [
    "## Multi-head attention"
   ]
  },
  {
   "cell_type": "markdown",
   "metadata": {
    "id": "fz5BMC8Kaoqo"
   },
   "source": [
    "<img src=\"https://www.tensorflow.org/images/tutorials/transformer/multi_head_attention.png\" width=\"500\" alt=\"multi-head attention\">\n",
    "\n",
    "\n",
    "Multi-head attention consists of four parts:\n",
    "*    Linear layers and split into heads.\n",
    "*    Scaled dot-product attention.\n",
    "*    Concatenation of heads.\n",
    "*    Final linear layer."
   ]
  },
  {
   "cell_type": "markdown",
   "metadata": {
    "id": "JPmbr6F1C-v_"
   },
   "source": [
    "Each multi-head attention block gets three inputs; Q (query), K (key), V (value). These are put through linear (Dense) layers and split up into multiple heads. \n",
    "\n",
    "The `scaled_dot_product_attention` defined above is applied to each head (broadcasted for efficiency). An appropriate mask must be used in the attention step.  The attention output for each head is then concatenated (using `tf.transpose`, and `tf.reshape`) and put through a final `Dense` layer.\n",
    "\n",
    "Instead of one single attention head, Q, K, and V are split into multiple heads because it allows the model to jointly attend to information at different positions from different representational spaces. After the split each head has a reduced dimensionality, so the total computation cost is the same as a single head attention with full dimensionality."
   ]
  },
  {
   "cell_type": "code",
   "execution_count": 32,
   "metadata": {
    "execution": {
     "iopub.execute_input": "2021-02-04T02:22:19.165473Z",
     "iopub.status.busy": "2021-02-04T02:22:19.164702Z",
     "iopub.status.idle": "2021-02-04T02:22:19.166558Z",
     "shell.execute_reply": "2021-02-04T02:22:19.166997Z"
    },
    "id": "BSV3PPKsYecw"
   },
   "outputs": [],
   "source": [
    "class MultiHeadAttention(tf.keras.layers.Layer):\n",
    "  def __init__(self, d_model, num_heads):\n",
    "    super(MultiHeadAttention, self).__init__()\n",
    "    self.num_heads = num_heads\n",
    "    self.d_model = d_model\n",
    "    \n",
    "    assert d_model % self.num_heads == 0\n",
    "    \n",
    "    self.depth = d_model // self.num_heads\n",
    "    \n",
    "    self.wq = tf.keras.layers.Dense(d_model)\n",
    "    self.wk = tf.keras.layers.Dense(d_model)\n",
    "    self.wv = tf.keras.layers.Dense(d_model)\n",
    "    \n",
    "    self.dense = tf.keras.layers.Dense(d_model)\n",
    "        \n",
    "  def split_heads(self, x, batch_size):\n",
    "    \"\"\"Split the last dimension into (num_heads, depth).\n",
    "    Transpose the result such that the shape is (batch_size, num_heads, seq_len, depth)\n",
    "    \"\"\"\n",
    "    x = tf.reshape(x, (batch_size, -1, self.num_heads, self.depth))\n",
    "    return tf.transpose(x, perm=[0, 2, 1, 3])\n",
    "    \n",
    "  def call(self, v, k, q, mask):\n",
    "    batch_size = tf.shape(q)[0]\n",
    "    \n",
    "    q = self.wq(q)  # (batch_size, seq_len, d_model)\n",
    "    k = self.wk(k)  # (batch_size, seq_len, d_model)\n",
    "    v = self.wv(v)  # (batch_size, seq_len, d_model)\n",
    "    \n",
    "    q = self.split_heads(q, batch_size)  # (batch_size, num_heads, seq_len_q, depth)\n",
    "    k = self.split_heads(k, batch_size)  # (batch_size, num_heads, seq_len_k, depth)\n",
    "    v = self.split_heads(v, batch_size)  # (batch_size, num_heads, seq_len_v, depth)\n",
    "    \n",
    "    # scaled_attention.shape == (batch_size, num_heads, seq_len_q, depth)\n",
    "    # attention_weights.shape == (batch_size, num_heads, seq_len_q, seq_len_k)\n",
    "    scaled_attention, attention_weights = scaled_dot_product_attention(\n",
    "        q, k, v, mask)\n",
    "    \n",
    "    scaled_attention = tf.transpose(scaled_attention, perm=[0, 2, 1, 3])  # (batch_size, seq_len_q, num_heads, depth)\n",
    "\n",
    "    concat_attention = tf.reshape(scaled_attention, \n",
    "                                  (batch_size, -1, self.d_model))  # (batch_size, seq_len_q, d_model)\n",
    "\n",
    "    output = self.dense(concat_attention)  # (batch_size, seq_len_q, d_model)\n",
    "        \n",
    "    return output, attention_weights"
   ]
  },
  {
   "cell_type": "markdown",
   "metadata": {
    "id": "0D8FJue5lDyZ"
   },
   "source": [
    "Create a `MultiHeadAttention` layer to try out. At each location in the sequence, `y`, the `MultiHeadAttention` runs all 8 attention heads across all other locations in the sequence, returning a new vector of the same length at each location."
   ]
  },
  {
   "cell_type": "code",
   "execution_count": 33,
   "metadata": {
    "execution": {
     "iopub.execute_input": "2021-02-04T02:22:19.187962Z",
     "iopub.status.busy": "2021-02-04T02:22:19.171406Z",
     "iopub.status.idle": "2021-02-04T02:22:19.211245Z",
     "shell.execute_reply": "2021-02-04T02:22:19.210618Z"
    },
    "id": "Hu94p-_-2_BX"
   },
   "outputs": [
    {
     "data": {
      "text/plain": [
       "(TensorShape([1, 60, 512]), TensorShape([1, 8, 60, 60]))"
      ]
     },
     "execution_count": 33,
     "metadata": {},
     "output_type": "execute_result"
    }
   ],
   "source": [
    "temp_mha = MultiHeadAttention(d_model=512, num_heads=8)\n",
    "y = tf.random.uniform((1, 60, 512))  # (batch_size, encoder_sequence, d_model)\n",
    "out, attn = temp_mha(y, k=y, q=y, mask=None)\n",
    "out.shape, attn.shape"
   ]
  },
  {
   "cell_type": "markdown",
   "metadata": {
    "id": "RdDqGayx67vv"
   },
   "source": [
    "## Point wise feed forward network"
   ]
  },
  {
   "cell_type": "markdown",
   "metadata": {
    "id": "gBqzJXGfHK3X"
   },
   "source": [
    "Point wise feed forward network consists of two fully-connected layers with a ReLU activation in between."
   ]
  },
  {
   "cell_type": "code",
   "execution_count": 34,
   "metadata": {
    "execution": {
     "iopub.execute_input": "2021-02-04T02:22:19.216866Z",
     "iopub.status.busy": "2021-02-04T02:22:19.216070Z",
     "iopub.status.idle": "2021-02-04T02:22:19.218685Z",
     "shell.execute_reply": "2021-02-04T02:22:19.218173Z"
    },
    "id": "ET7xLt0yCT6Z"
   },
   "outputs": [],
   "source": [
    "def point_wise_feed_forward_network(d_model, dff):\n",
    "  return tf.keras.Sequential([\n",
    "      tf.keras.layers.Dense(dff, activation='relu'),  # (batch_size, seq_len, dff)\n",
    "      tf.keras.layers.Dense(d_model)  # (batch_size, seq_len, d_model)\n",
    "  ])"
   ]
  },
  {
   "cell_type": "code",
   "execution_count": 35,
   "metadata": {
    "execution": {
     "iopub.execute_input": "2021-02-04T02:22:19.227726Z",
     "iopub.status.busy": "2021-02-04T02:22:19.226887Z",
     "iopub.status.idle": "2021-02-04T02:22:19.257532Z",
     "shell.execute_reply": "2021-02-04T02:22:19.256795Z"
    },
    "id": "mytb1lPyOHLB"
   },
   "outputs": [
    {
     "data": {
      "text/plain": [
       "TensorShape([64, 50, 512])"
      ]
     },
     "execution_count": 35,
     "metadata": {},
     "output_type": "execute_result"
    }
   ],
   "source": [
    "sample_ffn = point_wise_feed_forward_network(512, 2048)\n",
    "sample_ffn(tf.random.uniform((64, 50, 512))).shape"
   ]
  },
  {
   "cell_type": "markdown",
   "metadata": {
    "id": "7e7hKcxn6-zd"
   },
   "source": [
    "## Encoder and decoder"
   ]
  },
  {
   "cell_type": "markdown",
   "metadata": {
    "id": "yScbC0MUH8dS"
   },
   "source": [
    "<img src=\"https://www.tensorflow.org/images/tutorials/transformer/transformer.png\" width=\"600\" alt=\"transformer\">"
   ]
  },
  {
   "cell_type": "markdown",
   "metadata": {
    "id": "MfYJG-Kvgwy2"
   },
   "source": [
    "The transformer model follows the same general pattern as a standard [sequence to sequence with attention model](nmt_with_attention.ipynb). \n",
    "\n",
    "* The input sentence is passed through `N` encoder layers that generates an output for each word/token in the sequence.\n",
    "* The decoder attends on the encoder's output and its own input (self-attention) to predict the next word. "
   ]
  },
  {
   "cell_type": "markdown",
   "metadata": {
    "id": "QFv-FNYUmvpn"
   },
   "source": [
    "### Encoder layer\n",
    "\n",
    "Each encoder layer consists of sublayers:\n",
    "\n",
    "1.   Multi-head attention (with padding mask) \n",
    "2.    Point wise feed forward networks. \n",
    "\n",
    "Each of these sublayers has a residual connection around it followed by a layer normalization. Residual connections help in avoiding the vanishing gradient problem in deep networks.\n",
    "\n",
    "The output of each sublayer is `LayerNorm(x + Sublayer(x))`. The normalization is done on the `d_model` (last) axis. There are N encoder layers in the transformer."
   ]
  },
  {
   "cell_type": "code",
   "execution_count": 36,
   "metadata": {
    "execution": {
     "iopub.execute_input": "2021-02-04T02:22:19.266608Z",
     "iopub.status.busy": "2021-02-04T02:22:19.265758Z",
     "iopub.status.idle": "2021-02-04T02:22:19.268529Z",
     "shell.execute_reply": "2021-02-04T02:22:19.268009Z"
    },
    "id": "ncyS-Ms3i2x_"
   },
   "outputs": [],
   "source": [
    "class EncoderLayer(tf.keras.layers.Layer):\n",
    "  def __init__(self, d_model, num_heads, dff, rate=0.1):\n",
    "    super(EncoderLayer, self).__init__()\n",
    "\n",
    "    self.mha = MultiHeadAttention(d_model, num_heads)\n",
    "    self.ffn = point_wise_feed_forward_network(d_model, dff)\n",
    "\n",
    "    self.layernorm1 = tf.keras.layers.LayerNormalization(epsilon=1e-6)\n",
    "    self.layernorm2 = tf.keras.layers.LayerNormalization(epsilon=1e-6)\n",
    "    \n",
    "    self.dropout1 = tf.keras.layers.Dropout(rate)\n",
    "    self.dropout2 = tf.keras.layers.Dropout(rate)\n",
    "    \n",
    "  def call(self, x, training, mask):\n",
    "\n",
    "    attn_output, _ = self.mha(x, x, x, mask)  # (batch_size, input_seq_len, d_model)\n",
    "    attn_output = self.dropout1(attn_output, training=training)\n",
    "    out1 = self.layernorm1(x + attn_output)  # (batch_size, input_seq_len, d_model)\n",
    "    \n",
    "    ffn_output = self.ffn(out1)  # (batch_size, input_seq_len, d_model)\n",
    "    ffn_output = self.dropout2(ffn_output, training=training)\n",
    "    out2 = self.layernorm2(out1 + ffn_output)  # (batch_size, input_seq_len, d_model)\n",
    "    \n",
    "    return out2"
   ]
  },
  {
   "cell_type": "code",
   "execution_count": 37,
   "metadata": {
    "execution": {
     "iopub.execute_input": "2021-02-04T02:22:19.283456Z",
     "iopub.status.busy": "2021-02-04T02:22:19.282549Z",
     "iopub.status.idle": "2021-02-04T02:22:19.342241Z",
     "shell.execute_reply": "2021-02-04T02:22:19.341734Z"
    },
    "id": "AzZRXdO0mI48"
   },
   "outputs": [
    {
     "data": {
      "text/plain": [
       "TensorShape([64, 43, 512])"
      ]
     },
     "execution_count": 37,
     "metadata": {},
     "output_type": "execute_result"
    }
   ],
   "source": [
    "sample_encoder_layer = EncoderLayer(512, 8, 2048)\n",
    "\n",
    "sample_encoder_layer_output = sample_encoder_layer(\n",
    "    tf.random.uniform((64, 43, 512)), False, None)\n",
    "\n",
    "sample_encoder_layer_output.shape  # (batch_size, input_seq_len, d_model)"
   ]
  },
  {
   "cell_type": "markdown",
   "metadata": {
    "id": "6LO_48Owmx_o"
   },
   "source": [
    "### Decoder layer\n",
    "\n",
    "Each decoder layer consists of sublayers:\n",
    "\n",
    "1.   Masked multi-head attention (with look ahead mask and padding mask)\n",
    "2.   Multi-head attention (with padding mask). V (value) and K (key) receive the *encoder output* as inputs. Q (query) receives the *output from the masked multi-head attention sublayer.*\n",
    "3.   Point wise feed forward networks\n",
    "\n",
    "Each of these sublayers has a residual connection around it followed by a layer normalization. The output of each sublayer is `LayerNorm(x + Sublayer(x))`. The normalization is done on the `d_model` (last) axis.\n",
    "\n",
    "There are N decoder layers in the transformer.\n",
    "\n",
    "As Q receives the output from decoder's first attention block, and K receives the encoder output, the attention weights represent the importance given to the decoder's input based on the encoder's output. In other words, the decoder predicts the next word by looking at the encoder output and self-attending to its own output. See the demonstration above in the scaled dot product attention section."
   ]
  },
  {
   "cell_type": "code",
   "execution_count": 38,
   "metadata": {
    "execution": {
     "iopub.execute_input": "2021-02-04T02:22:19.352911Z",
     "iopub.status.busy": "2021-02-04T02:22:19.352110Z",
     "iopub.status.idle": "2021-02-04T02:22:19.354443Z",
     "shell.execute_reply": "2021-02-04T02:22:19.353902Z"
    },
    "id": "9SoX0-vd1hue"
   },
   "outputs": [],
   "source": [
    "class DecoderLayer(tf.keras.layers.Layer):\n",
    "  def __init__(self, d_model, num_heads, dff, rate=0.1):\n",
    "    super(DecoderLayer, self).__init__()\n",
    "\n",
    "    self.mha1 = MultiHeadAttention(d_model, num_heads)\n",
    "    self.mha2 = MultiHeadAttention(d_model, num_heads)\n",
    "\n",
    "    self.ffn = point_wise_feed_forward_network(d_model, dff)\n",
    " \n",
    "    self.layernorm1 = tf.keras.layers.LayerNormalization(epsilon=1e-6)\n",
    "    self.layernorm2 = tf.keras.layers.LayerNormalization(epsilon=1e-6)\n",
    "    self.layernorm3 = tf.keras.layers.LayerNormalization(epsilon=1e-6)\n",
    "    \n",
    "    self.dropout1 = tf.keras.layers.Dropout(rate)\n",
    "    self.dropout2 = tf.keras.layers.Dropout(rate)\n",
    "    self.dropout3 = tf.keras.layers.Dropout(rate)\n",
    "    \n",
    "    \n",
    "  def call(self, x, enc_output, training, \n",
    "           look_ahead_mask, padding_mask):\n",
    "    # enc_output.shape == (batch_size, input_seq_len, d_model)\n",
    "\n",
    "    attn1, attn_weights_block1 = self.mha1(x, x, x, look_ahead_mask)  # (batch_size, target_seq_len, d_model)\n",
    "    attn1 = self.dropout1(attn1, training=training)\n",
    "    out1 = self.layernorm1(attn1 + x)\n",
    "    \n",
    "    attn2, attn_weights_block2 = self.mha2(\n",
    "        enc_output, enc_output, out1, padding_mask)  # (batch_size, target_seq_len, d_model)\n",
    "    attn2 = self.dropout2(attn2, training=training)\n",
    "    out2 = self.layernorm2(attn2 + out1)  # (batch_size, target_seq_len, d_model)\n",
    "    \n",
    "    ffn_output = self.ffn(out2)  # (batch_size, target_seq_len, d_model)\n",
    "    ffn_output = self.dropout3(ffn_output, training=training)\n",
    "    out3 = self.layernorm3(ffn_output + out2)  # (batch_size, target_seq_len, d_model)\n",
    "    \n",
    "    return out3, attn_weights_block1, attn_weights_block2"
   ]
  },
  {
   "cell_type": "code",
   "execution_count": 39,
   "metadata": {
    "execution": {
     "iopub.execute_input": "2021-02-04T02:22:19.368532Z",
     "iopub.status.busy": "2021-02-04T02:22:19.367849Z",
     "iopub.status.idle": "2021-02-04T02:22:19.423592Z",
     "shell.execute_reply": "2021-02-04T02:22:19.423993Z"
    },
    "id": "Ne2Bqx8k71l0"
   },
   "outputs": [
    {
     "data": {
      "text/plain": [
       "TensorShape([64, 50, 512])"
      ]
     },
     "execution_count": 39,
     "metadata": {},
     "output_type": "execute_result"
    }
   ],
   "source": [
    "sample_decoder_layer = DecoderLayer(512, 8, 2048)\n",
    "\n",
    "sample_decoder_layer_output, _, _ = sample_decoder_layer(\n",
    "    tf.random.uniform((64, 50, 512)), sample_encoder_layer_output, \n",
    "    False, None, None)\n",
    "\n",
    "sample_decoder_layer_output.shape  # (batch_size, target_seq_len, d_model)"
   ]
  },
  {
   "cell_type": "markdown",
   "metadata": {
    "id": "SE1H51Ajm0q1"
   },
   "source": [
    "### Encoder\n",
    "\n",
    "The `Encoder` consists of:\n",
    "1.   Input Embedding\n",
    "2.   Positional Encoding\n",
    "3.   N encoder layers\n",
    "\n",
    "The input is put through an embedding which is summed with the positional encoding. The output of this summation is the input to the encoder layers. The output of the encoder is the input to the decoder."
   ]
  },
  {
   "cell_type": "code",
   "execution_count": 40,
   "metadata": {
    "execution": {
     "iopub.execute_input": "2021-02-04T02:22:19.433437Z",
     "iopub.status.busy": "2021-02-04T02:22:19.432699Z",
     "iopub.status.idle": "2021-02-04T02:22:19.435480Z",
     "shell.execute_reply": "2021-02-04T02:22:19.434814Z"
    },
    "id": "jpEox7gJ8FCI"
   },
   "outputs": [],
   "source": [
    "class Encoder(tf.keras.layers.Layer):\n",
    "  def __init__(self, num_layers, d_model, num_heads, dff, input_vocab_size,\n",
    "               maximum_position_encoding, rate=0.1):\n",
    "    super(Encoder, self).__init__()\n",
    "\n",
    "    self.d_model = d_model\n",
    "    self.num_layers = num_layers\n",
    "    \n",
    "    self.embedding = tf.keras.layers.Embedding(input_vocab_size, d_model)\n",
    "    self.pos_encoding = positional_encoding(maximum_position_encoding, \n",
    "                                            self.d_model)\n",
    "    \n",
    "    \n",
    "    self.enc_layers = [EncoderLayer(d_model, num_heads, dff, rate) \n",
    "                       for _ in range(num_layers)]\n",
    "  \n",
    "    self.dropout = tf.keras.layers.Dropout(rate)\n",
    "        \n",
    "  def call(self, x, training, mask):\n",
    "\n",
    "    seq_len = tf.shape(x)[1]\n",
    "    \n",
    "    # adding embedding and position encoding.\n",
    "    x = self.embedding(x)  # (batch_size, input_seq_len, d_model)\n",
    "    x *= tf.math.sqrt(tf.cast(self.d_model, tf.float32))\n",
    "    x += self.pos_encoding[:, :seq_len, :]\n",
    "\n",
    "    x = self.dropout(x, training=training)\n",
    "    \n",
    "    for i in range(self.num_layers):\n",
    "      x = self.enc_layers[i](x, training, mask)\n",
    "    \n",
    "    return x  # (batch_size, input_seq_len, d_model)"
   ]
  },
  {
   "cell_type": "code",
   "execution_count": 41,
   "metadata": {
    "execution": {
     "iopub.execute_input": "2021-02-04T02:22:19.448225Z",
     "iopub.status.busy": "2021-02-04T02:22:19.447426Z",
     "iopub.status.idle": "2021-02-04T02:22:19.763723Z",
     "shell.execute_reply": "2021-02-04T02:22:19.764192Z"
    },
    "id": "8QG9nueFQKXx"
   },
   "outputs": [
    {
     "name": "stdout",
     "output_type": "stream",
     "text": [
      "(64, 62, 512)\n"
     ]
    }
   ],
   "source": [
    "sample_encoder = Encoder(num_layers=2, d_model=512, num_heads=8, \n",
    "                         dff=2048, input_vocab_size=8500,\n",
    "                         maximum_position_encoding=10000)\n",
    "temp_input = tf.random.uniform((64, 62), dtype=tf.int64, minval=0, maxval=200)\n",
    "\n",
    "sample_encoder_output = sample_encoder(temp_input, training=False, mask=None)\n",
    "\n",
    "print (sample_encoder_output.shape)  # (batch_size, input_seq_len, d_model)"
   ]
  },
  {
   "cell_type": "markdown",
   "metadata": {
    "id": "p-uO6ls8m2O5"
   },
   "source": [
    "### Decoder"
   ]
  },
  {
   "cell_type": "markdown",
   "metadata": {
    "id": "ZtT7PKzrXkNr"
   },
   "source": [
    " The `Decoder` consists of:\n",
    "1.   Output Embedding\n",
    "2.   Positional Encoding\n",
    "3.   N decoder layers\n",
    "\n",
    "The target is put through an embedding which is summed with the positional encoding. The output of this summation is the input to the decoder layers. The output of the decoder is the input to the final linear layer."
   ]
  },
  {
   "cell_type": "code",
   "execution_count": 42,
   "metadata": {
    "execution": {
     "iopub.execute_input": "2021-02-04T02:22:19.775749Z",
     "iopub.status.busy": "2021-02-04T02:22:19.774605Z",
     "iopub.status.idle": "2021-02-04T02:22:19.777023Z",
     "shell.execute_reply": "2021-02-04T02:22:19.776457Z"
    },
    "id": "d5_d5-PLQXwY"
   },
   "outputs": [],
   "source": [
    "class Decoder(tf.keras.layers.Layer):\n",
    "  def __init__(self, num_layers, d_model, num_heads, dff, target_vocab_size,\n",
    "               maximum_position_encoding, rate=0.1):\n",
    "    super(Decoder, self).__init__()\n",
    "\n",
    "    self.d_model = d_model\n",
    "    self.num_layers = num_layers\n",
    "    \n",
    "    self.embedding = tf.keras.layers.Embedding(target_vocab_size, d_model)\n",
    "    self.pos_encoding = positional_encoding(maximum_position_encoding, d_model)\n",
    "    \n",
    "    self.dec_layers = [DecoderLayer(d_model, num_heads, dff, rate) \n",
    "                       for _ in range(num_layers)]\n",
    "    self.dropout = tf.keras.layers.Dropout(rate)\n",
    "    \n",
    "  def call(self, x, enc_output, training, \n",
    "           look_ahead_mask, padding_mask):\n",
    "\n",
    "    seq_len = tf.shape(x)[1]\n",
    "    attention_weights = {}\n",
    "    \n",
    "    x = self.embedding(x)  # (batch_size, target_seq_len, d_model)\n",
    "    x *= tf.math.sqrt(tf.cast(self.d_model, tf.float32))\n",
    "    x += self.pos_encoding[:, :seq_len, :]\n",
    "    \n",
    "    x = self.dropout(x, training=training)\n",
    "\n",
    "    for i in range(self.num_layers):\n",
    "      x, block1, block2 = self.dec_layers[i](x, enc_output, training,\n",
    "                                             look_ahead_mask, padding_mask)\n",
    "      \n",
    "      attention_weights['decoder_layer{}_block1'.format(i+1)] = block1\n",
    "      attention_weights['decoder_layer{}_block2'.format(i+1)] = block2\n",
    "    \n",
    "    # x.shape == (batch_size, target_seq_len, d_model)\n",
    "    return x, attention_weights"
   ]
  },
  {
   "cell_type": "code",
   "execution_count": 43,
   "metadata": {
    "execution": {
     "iopub.execute_input": "2021-02-04T02:22:19.784017Z",
     "iopub.status.busy": "2021-02-04T02:22:19.783324Z",
     "iopub.status.idle": "2021-02-04T02:22:20.026095Z",
     "shell.execute_reply": "2021-02-04T02:22:20.026543Z"
    },
    "id": "a1jXoAMRZyvu"
   },
   "outputs": [
    {
     "data": {
      "text/plain": [
       "(TensorShape([64, 26, 512]), TensorShape([64, 8, 26, 62]))"
      ]
     },
     "execution_count": 43,
     "metadata": {},
     "output_type": "execute_result"
    }
   ],
   "source": [
    "sample_decoder = Decoder(num_layers=2, d_model=512, num_heads=8, \n",
    "                         dff=2048, target_vocab_size=8000,\n",
    "                         maximum_position_encoding=5000)\n",
    "temp_input = tf.random.uniform((64, 26), dtype=tf.int64, minval=0, maxval=200)\n",
    "\n",
    "output, attn = sample_decoder(temp_input, \n",
    "                              enc_output=sample_encoder_output, \n",
    "                              training=False,\n",
    "                              look_ahead_mask=None, \n",
    "                              padding_mask=None)\n",
    "\n",
    "output.shape, attn['decoder_layer2_block2'].shape"
   ]
  },
  {
   "cell_type": "markdown",
   "metadata": {
    "id": "y54xnJnuYgJ7"
   },
   "source": [
    "## Create the Transformer"
   ]
  },
  {
   "cell_type": "markdown",
   "metadata": {
    "id": "uERO1y54cOKq"
   },
   "source": [
    "Transformer consists of the encoder, decoder and a final linear layer. The output of the decoder is the input to the linear layer and its output is returned."
   ]
  },
  {
   "cell_type": "code",
   "execution_count": 44,
   "metadata": {
    "execution": {
     "iopub.execute_input": "2021-02-04T02:22:20.034857Z",
     "iopub.status.busy": "2021-02-04T02:22:20.034176Z",
     "iopub.status.idle": "2021-02-04T02:22:20.035988Z",
     "shell.execute_reply": "2021-02-04T02:22:20.036396Z"
    },
    "id": "PED3bIpOYkBu"
   },
   "outputs": [],
   "source": [
    "class Transformer(tf.keras.Model):\n",
    "  def __init__(self, num_layers, d_model, num_heads, dff, input_vocab_size, \n",
    "               target_vocab_size, pe_input, pe_target, rate=0.1):\n",
    "    super(Transformer, self).__init__()\n",
    "\n",
    "    self.tokenizer = Encoder(num_layers, d_model, num_heads, dff, \n",
    "                           input_vocab_size, pe_input, rate)\n",
    "\n",
    "    self.decoder = Decoder(num_layers, d_model, num_heads, dff, \n",
    "                           target_vocab_size, pe_target, rate)\n",
    "\n",
    "    self.final_layer = tf.keras.layers.Dense(target_vocab_size)\n",
    "    \n",
    "  def call(self, inp, tar, training, enc_padding_mask, \n",
    "           look_ahead_mask, dec_padding_mask):\n",
    "\n",
    "    enc_output = self.tokenizer(inp, training, enc_padding_mask)  # (batch_size, inp_seq_len, d_model)\n",
    "    \n",
    "    # dec_output.shape == (batch_size, tar_seq_len, d_model)\n",
    "    dec_output, attention_weights = self.decoder(\n",
    "        tar, enc_output, training, look_ahead_mask, dec_padding_mask)\n",
    "    \n",
    "    final_output = self.final_layer(dec_output)  # (batch_size, tar_seq_len, target_vocab_size)\n",
    "    \n",
    "    return final_output, attention_weights"
   ]
  },
  {
   "cell_type": "code",
   "execution_count": 45,
   "metadata": {
    "execution": {
     "iopub.execute_input": "2021-02-04T02:22:20.044779Z",
     "iopub.status.busy": "2021-02-04T02:22:20.044011Z",
     "iopub.status.idle": "2021-02-04T02:22:20.611954Z",
     "shell.execute_reply": "2021-02-04T02:22:20.612383Z"
    },
    "id": "tJ4fbQcIkHW1"
   },
   "outputs": [
    {
     "data": {
      "text/plain": [
       "TensorShape([64, 36, 8000])"
      ]
     },
     "execution_count": 45,
     "metadata": {},
     "output_type": "execute_result"
    }
   ],
   "source": [
    "sample_transformer = Transformer(\n",
    "    num_layers=2, d_model=512, num_heads=8, dff=2048, \n",
    "    input_vocab_size=8500, target_vocab_size=8000, \n",
    "    pe_input=10000, pe_target=6000)\n",
    "\n",
    "temp_input = tf.random.uniform((64, 38), dtype=tf.int64, minval=0, maxval=200)\n",
    "temp_target = tf.random.uniform((64, 36), dtype=tf.int64, minval=0, maxval=200)\n",
    "\n",
    "fn_out, _ = sample_transformer(temp_input, temp_target, training=False, \n",
    "                               enc_padding_mask=None, \n",
    "                               look_ahead_mask=None,\n",
    "                               dec_padding_mask=None)\n",
    "\n",
    "fn_out.shape  # (batch_size, tar_seq_len, target_vocab_size)"
   ]
  },
  {
   "cell_type": "markdown",
   "metadata": {
    "id": "wsINyf1VEQLC"
   },
   "source": [
    "## Set hyperparameters"
   ]
  },
  {
   "cell_type": "markdown",
   "metadata": {
    "id": "zVjWCxFNcgbt"
   },
   "source": [
    "To keep this example small and relatively fast, the values for *num_layers, d_model, and dff* have been reduced. \n",
    "\n",
    "The values used in the base model of transformer were; *num_layers=6*, *d_model = 512*, *dff = 2048*. See the [paper](https://arxiv.org/abs/1706.03762) for all the other versions of the transformer.\n",
    "\n",
    "Note: By changing the values below, you can get the model that achieved state of the art on many tasks."
   ]
  },
  {
   "cell_type": "code",
   "execution_count": 46,
   "metadata": {
    "execution": {
     "iopub.execute_input": "2021-02-04T02:22:20.617097Z",
     "iopub.status.busy": "2021-02-04T02:22:20.616437Z",
     "iopub.status.idle": "2021-02-04T02:22:20.618816Z",
     "shell.execute_reply": "2021-02-04T02:22:20.618227Z"
    },
    "id": "lnJn5SLA2ahP"
   },
   "outputs": [],
   "source": [
    "num_layers = 4\n",
    "d_model = 128\n",
    "dff = 512\n",
    "num_heads = 8\n",
    "dropout_rate = 0.1"
   ]
  },
  {
   "cell_type": "markdown",
   "metadata": {
    "id": "xYEGhEOtzn5W"
   },
   "source": [
    "## Optimizer"
   ]
  },
  {
   "cell_type": "markdown",
   "metadata": {
    "id": "GOmWW--yP3zx"
   },
   "source": [
    "Use the Adam optimizer with a custom learning rate scheduler according to the formula in the [paper](https://arxiv.org/abs/1706.03762).\n",
    "\n",
    "$$\\Large{lrate = d_{model}^{-0.5} * min(step{\\_}num^{-0.5}, step{\\_}num * warmup{\\_}steps^{-1.5})}$$\n"
   ]
  },
  {
   "cell_type": "code",
   "execution_count": 47,
   "metadata": {
    "execution": {
     "iopub.execute_input": "2021-02-04T02:22:20.625189Z",
     "iopub.status.busy": "2021-02-04T02:22:20.624533Z",
     "iopub.status.idle": "2021-02-04T02:22:20.626877Z",
     "shell.execute_reply": "2021-02-04T02:22:20.626402Z"
    },
    "id": "iYQdOO1axwEI"
   },
   "outputs": [],
   "source": [
    "class CustomSchedule(tf.keras.optimizers.schedules.LearningRateSchedule):\n",
    "  def __init__(self, d_model, warmup_steps=4000):\n",
    "    super(CustomSchedule, self).__init__()\n",
    "    \n",
    "    self.d_model = d_model\n",
    "    self.d_model = tf.cast(self.d_model, tf.float32)\n",
    "\n",
    "    self.warmup_steps = warmup_steps\n",
    "    \n",
    "  def __call__(self, step):\n",
    "    arg1 = tf.math.rsqrt(step)\n",
    "    arg2 = step * (self.warmup_steps ** -1.5)\n",
    "    \n",
    "    return tf.math.rsqrt(self.d_model) * tf.math.minimum(arg1, arg2)"
   ]
  },
  {
   "cell_type": "code",
   "execution_count": 48,
   "metadata": {
    "execution": {
     "iopub.execute_input": "2021-02-04T02:22:20.631126Z",
     "iopub.status.busy": "2021-02-04T02:22:20.630404Z",
     "iopub.status.idle": "2021-02-04T02:22:20.632992Z",
     "shell.execute_reply": "2021-02-04T02:22:20.633417Z"
    },
    "id": "7r4scdulztRx"
   },
   "outputs": [],
   "source": [
    "learning_rate = CustomSchedule(d_model)\n",
    "\n",
    "optimizer = tf.keras.optimizers.Adam(learning_rate, beta_1=0.9, beta_2=0.98, \n",
    "                                     epsilon=1e-9)"
   ]
  },
  {
   "cell_type": "code",
   "execution_count": 49,
   "metadata": {
    "execution": {
     "iopub.execute_input": "2021-02-04T02:22:20.638792Z",
     "iopub.status.busy": "2021-02-04T02:22:20.638090Z",
     "iopub.status.idle": "2021-02-04T02:22:20.809074Z",
     "shell.execute_reply": "2021-02-04T02:22:20.808459Z"
    },
    "id": "f33ZCgvHpPdG"
   },
   "outputs": [
    {
     "data": {
      "text/plain": [
       "Text(0.5, 0, 'Train Step')"
      ]
     },
     "execution_count": 49,
     "metadata": {},
     "output_type": "execute_result"
    },
    {
     "data": {
      "image/png": "[encoded data removed]",
      "text/plain": [
       "<Figure size 432x288 with 1 Axes>"
      ]
     },
     "metadata": {
      "needs_background": "light"
     },
     "output_type": "display_data"
    }
   ],
   "source": [
    "temp_learning_rate_schedule = CustomSchedule(d_model)\n",
    "\n",
    "plt.plot(temp_learning_rate_schedule(tf.range(40000, dtype=tf.float32)))\n",
    "plt.ylabel(\"Learning Rate\")\n",
    "plt.xlabel(\"Train Step\")"
   ]
  },
  {
   "cell_type": "markdown",
   "metadata": {
    "id": "YgkDE7hzo8r5"
   },
   "source": [
    "## Loss and metrics"
   ]
  },
  {
   "cell_type": "markdown",
   "metadata": {
    "id": "oxGJtoDuYIHL"
   },
   "source": [
    "Since the target sequences are padded, it is important to apply a padding mask when calculating the loss."
   ]
  },
  {
   "cell_type": "code",
   "execution_count": 50,
   "metadata": {
    "execution": {
     "iopub.execute_input": "2021-02-04T02:22:20.814239Z",
     "iopub.status.busy": "2021-02-04T02:22:20.813568Z",
     "iopub.status.idle": "2021-02-04T02:22:20.815862Z",
     "shell.execute_reply": "2021-02-04T02:22:20.815258Z"
    },
    "id": "MlhsJMm0TW_B"
   },
   "outputs": [],
   "source": [
    "loss_object = tf.keras.losses.SparseCategoricalCrossentropy(\n",
    "    from_logits=True, reduction='none')"
   ]
  },
  {
   "cell_type": "code",
   "execution_count": 51,
   "metadata": {
    "execution": {
     "iopub.execute_input": "2021-02-04T02:22:20.822691Z",
     "iopub.status.busy": "2021-02-04T02:22:20.822040Z",
     "iopub.status.idle": "2021-02-04T02:22:20.823913Z",
     "shell.execute_reply": "2021-02-04T02:22:20.824316Z"
    },
    "id": "67oqVHiT0Eiu"
   },
   "outputs": [],
   "source": [
    "def loss_function(real, pred):\n",
    "  mask = tf.math.logical_not(tf.math.equal(real, 0))\n",
    "  loss_ = loss_object(real, pred)\n",
    "\n",
    "  mask = tf.cast(mask, dtype=loss_.dtype)\n",
    "  loss_ *= mask\n",
    "  \n",
    "  return tf.reduce_sum(loss_)/tf.reduce_sum(mask)\n",
    "\n",
    "\n",
    "def accuracy_function(real, pred):\n",
    "  accuracies = tf.equal(real, tf.argmax(pred, axis=2))\n",
    "  \n",
    "  mask = tf.math.logical_not(tf.math.equal(real, 0))\n",
    "  accuracies = tf.math.logical_and(mask, accuracies)\n",
    "\n",
    "  accuracies = tf.cast(accuracies, dtype=tf.float32)\n",
    "  mask = tf.cast(mask, dtype=tf.float32)\n",
    "  return tf.reduce_sum(accuracies)/tf.reduce_sum(mask)"
   ]
  },
  {
   "cell_type": "code",
   "execution_count": 52,
   "metadata": {
    "execution": {
     "iopub.execute_input": "2021-02-04T02:22:20.835541Z",
     "iopub.status.busy": "2021-02-04T02:22:20.834847Z",
     "iopub.status.idle": "2021-02-04T02:22:20.844012Z",
     "shell.execute_reply": "2021-02-04T02:22:20.843498Z"
    },
    "id": "phlyxMnm-Tpx"
   },
   "outputs": [],
   "source": [
    "train_loss = tf.keras.metrics.Mean(name='train_loss')\n",
    "train_accuracy = tf.keras.metrics.Mean(name='train_accuracy')"
   ]
  },
  {
   "cell_type": "markdown",
   "metadata": {
    "id": "aeHumfr7zmMa"
   },
   "source": [
    "## Training and checkpointing"
   ]
  },
  {
   "cell_type": "code",
   "execution_count": 53,
   "metadata": {
    "execution": {
     "iopub.execute_input": "2021-02-04T02:22:20.848653Z",
     "iopub.status.busy": "2021-02-04T02:22:20.848016Z",
     "iopub.status.idle": "2021-02-04T02:22:20.973356Z",
     "shell.execute_reply": "2021-02-04T02:22:20.973821Z"
    },
    "id": "UiysUa--4tOU"
   },
   "outputs": [],
   "source": [
    "transformer = Transformer(\n",
    "    num_layers=num_layers,\n",
    "    d_model=d_model,\n",
    "    num_heads=num_heads,\n",
    "    dff=dff,\n",
    "    input_vocab_size=tokenizers.pt.get_vocab_size(),\n",
    "    target_vocab_size=tokenizers.en.get_vocab_size(), \n",
    "    pe_input=1000, \n",
    "    pe_target=1000,\n",
    "    rate=dropout_rate)"
   ]
  },
  {
   "cell_type": "code",
   "execution_count": 54,
   "metadata": {
    "execution": {
     "iopub.execute_input": "2021-02-04T02:22:20.979269Z",
     "iopub.status.busy": "2021-02-04T02:22:20.978563Z",
     "iopub.status.idle": "2021-02-04T02:22:20.980510Z",
     "shell.execute_reply": "2021-02-04T02:22:20.980907Z"
    },
    "id": "ZOJUSB1T8GjM"
   },
   "outputs": [],
   "source": [
    "def create_masks(inp, tar):\n",
    "  # Encoder padding mask\n",
    "  enc_padding_mask = create_padding_mask(inp)\n",
    "  \n",
    "  # Used in the 2nd attention block in the decoder.\n",
    "  # This padding mask is used to mask the encoder outputs.\n",
    "  dec_padding_mask = create_padding_mask(inp)\n",
    "  \n",
    "  # Used in the 1st attention block in the decoder.\n",
    "  # It is used to pad and mask future tokens in the input received by \n",
    "  # the decoder.\n",
    "  look_ahead_mask = create_look_ahead_mask(tf.shape(tar)[1])\n",
    "  dec_target_padding_mask = create_padding_mask(tar)\n",
    "  combined_mask = tf.maximum(dec_target_padding_mask, look_ahead_mask)\n",
    "  \n",
    "  return enc_padding_mask, combined_mask, dec_padding_mask"
   ]
  },
  {
   "cell_type": "markdown",
   "metadata": {
    "id": "Fzuf06YZp66w"
   },
   "source": [
    "Create the checkpoint path and the checkpoint manager. This will be used to save checkpoints every `n` epochs."
   ]
  },
  {
   "cell_type": "code",
   "execution_count": 55,
   "metadata": {
    "execution": {
     "iopub.execute_input": "2021-02-04T02:22:20.986227Z",
     "iopub.status.busy": "2021-02-04T02:22:20.985579Z",
     "iopub.status.idle": "2021-02-04T02:22:20.987871Z",
     "shell.execute_reply": "2021-02-04T02:22:20.987371Z"
    },
    "id": "hNhuYfllndLZ"
   },
   "outputs": [
    {
     "name": "stdout",
     "output_type": "stream",
     "text": [
      "Latest checkpoint restored!!\n"
     ]
    }
   ],
   "source": [
    "checkpoint_path = \"./checkpoints/train\"\n",
    "\n",
    "ckpt = tf.train.Checkpoint(transformer=transformer,\n",
    "                           optimizer=optimizer)\n",
    "\n",
    "ckpt_manager = tf.train.CheckpointManager(ckpt, checkpoint_path, max_to_keep=5)\n",
    "\n",
    "# if a checkpoint exists, restore the latest checkpoint.\n",
    "if ckpt_manager.latest_checkpoint:\n",
    "  ckpt.restore(ckpt_manager.latest_checkpoint)\n",
    "  print ('Latest checkpoint restored!!')"
   ]
  },
  {
   "cell_type": "markdown",
   "metadata": {
    "id": "0Di_Yaa1gf9r"
   },
   "source": [
    "The target is divided into tar_inp and tar_real. tar_inp is passed as an input to the decoder. `tar_real` is that same input shifted by 1: At each location in `tar_input`, `tar_real` contains the  next token that should be predicted.\n",
    "\n",
    "For example, `sentence` = \"SOS A lion in the jungle is sleeping EOS\"\n",
    "\n",
    "`tar_inp` =  \"SOS A lion in the jungle is sleeping\"\n",
    "\n",
    "`tar_real` = \"A lion in the jungle is sleeping EOS\"\n",
    "\n",
    "The transformer is an auto-regressive model: it makes predictions one part at a time, and uses its output so far to decide what to do next. \n",
    "\n",
    "During training this example uses teacher-forcing (like in the [text generation tutorial](./text_generation.ipynb)). Teacher forcing is passing the true output to the next time step regardless of what the model predicts at the current time step.\n",
    "\n",
    "As the transformer predicts each word, *self-attention* allows it to look at the previous words in the input sequence to better predict the next word.\n",
    "\n",
    "To prevent the model from peeking at the expected output the model uses a look-ahead mask."
   ]
  },
  {
   "cell_type": "code",
   "execution_count": 56,
   "metadata": {
    "execution": {
     "iopub.execute_input": "2021-02-04T02:22:20.991763Z",
     "iopub.status.busy": "2021-02-04T02:22:20.991085Z",
     "iopub.status.idle": "2021-02-04T02:22:20.993341Z",
     "shell.execute_reply": "2021-02-04T02:22:20.992802Z"
    },
    "id": "LKpoA6q1sJFj"
   },
   "outputs": [],
   "source": [
    "EPOCHS = 20"
   ]
  },
  {
   "cell_type": "code",
   "execution_count": 57,
   "metadata": {
    "execution": {
     "iopub.execute_input": "2021-02-04T02:22:21.000627Z",
     "iopub.status.busy": "2021-02-04T02:22:20.999956Z",
     "iopub.status.idle": "2021-02-04T02:22:21.002295Z",
     "shell.execute_reply": "2021-02-04T02:22:21.001804Z"
    },
    "id": "iJwmp9OE29oj"
   },
   "outputs": [],
   "source": [
    "# The @tf.function trace-compiles train_step into a TF graph for faster\n",
    "# execution. The function specializes to the precise shape of the argument\n",
    "# tensors. To avoid re-tracing due to the variable sequence lengths or variable\n",
    "# batch sizes (the last batch is smaller), use input_signature to specify\n",
    "# more generic shapes.\n",
    "\n",
    "train_step_signature = [\n",
    "    tf.TensorSpec(shape=(None, None), dtype=tf.int64),\n",
    "    tf.TensorSpec(shape=(None, None), dtype=tf.int64),\n",
    "]\n",
    "\n",
    "@tf.function(input_signature=train_step_signature)\n",
    "def train_step(inp, tar):\n",
    "  tar_inp = tar[:, :-1]\n",
    "  tar_real = tar[:, 1:]\n",
    "  \n",
    "  enc_padding_mask, combined_mask, dec_padding_mask = create_masks(inp, tar_inp)\n",
    "  \n",
    "  with tf.GradientTape() as tape:\n",
    "    predictions, _ = transformer(inp, tar_inp, \n",
    "                                 True, \n",
    "                                 enc_padding_mask, \n",
    "                                 combined_mask, \n",
    "                                 dec_padding_mask)\n",
    "    loss = loss_function(tar_real, predictions)\n",
    "\n",
    "  gradients = tape.gradient(loss, transformer.trainable_variables)    \n",
    "  optimizer.apply_gradients(zip(gradients, transformer.trainable_variables))\n",
    "  \n",
    "  train_loss(loss)\n",
    "  train_accuracy(accuracy_function(tar_real, predictions))"
   ]
  },
  {
   "cell_type": "markdown",
   "metadata": {
    "id": "qM2PDWGDJ_8V"
   },
   "source": [
    "Portuguese is used as the input language and English is the target language."
   ]
  },
  {
   "cell_type": "code",
   "execution_count": 58,
   "metadata": {
    "execution": {
     "iopub.execute_input": "2021-02-04T02:22:21.008607Z",
     "iopub.status.busy": "2021-02-04T02:22:21.007905Z",
     "iopub.status.idle": "2021-02-04T02:39:34.296150Z",
     "shell.execute_reply": "2021-02-04T02:39:34.295520Z"
    },
    "id": "bbvmaKNiznHZ"
   },
   "outputs": [
    {
     "name": "stdout",
     "output_type": "stream",
     "text": [
      "Epoch 1 Batch 0 Loss 0.3398 Accuracy 0.9085\n",
      "Epoch 1 Batch 10 Loss 0.3136 Accuracy 0.9101\n",
      "Epoch 1 Batch 20 Loss 0.2986 Accuracy 0.9141\n",
      "Epoch 1 Batch 30 Loss 0.3088 Accuracy 0.9108\n",
      "Epoch 1 Loss 0.3156 Accuracy 0.9087\n",
      "Time taken for 1 epoch: 20.86 secs\n",
      "\n",
      "Epoch 2 Batch 0 Loss 0.2794 Accuracy 0.9188\n",
      "Epoch 2 Batch 10 Loss 0.3067 Accuracy 0.9103\n",
      "Epoch 2 Batch 20 Loss 0.3107 Accuracy 0.9097\n",
      "Epoch 2 Batch 30 Loss 0.3169 Accuracy 0.9076\n",
      "Epoch 2 Loss 0.3288 Accuracy 0.9034\n",
      "Time taken for 1 epoch: 9.01 secs\n",
      "\n",
      "Epoch 3 Batch 0 Loss 0.2837 Accuracy 0.9183\n",
      "Epoch 3 Batch 10 Loss 0.2979 Accuracy 0.9111\n",
      "Epoch 3 Batch 20 Loss 0.3052 Accuracy 0.9101\n",
      "Epoch 3 Batch 30 Loss 0.3133 Accuracy 0.9068\n",
      "Epoch 3 Loss 0.3197 Accuracy 0.9044\n",
      "Time taken for 1 epoch: 9.58 secs\n",
      "\n",
      "Epoch 4 Batch 0 Loss 0.2653 Accuracy 0.9281\n",
      "Epoch 4 Batch 10 Loss 0.2785 Accuracy 0.9175\n",
      "Epoch 4 Batch 20 Loss 0.2840 Accuracy 0.9159\n",
      "Epoch 4 Batch 30 Loss 0.2895 Accuracy 0.9142\n",
      "Epoch 4 Loss 0.3005 Accuracy 0.9106\n",
      "Time taken for 1 epoch: 9.13 secs\n",
      "\n",
      "Epoch 5 Batch 0 Loss 0.2665 Accuracy 0.9214\n",
      "Epoch 5 Batch 10 Loss 0.2664 Accuracy 0.9196\n",
      "Epoch 5 Batch 20 Loss 0.2836 Accuracy 0.9152\n",
      "Epoch 5 Batch 30 Loss 0.2846 Accuracy 0.9158\n",
      "Saving checkpoint for epoch 5 at ./checkpoints/train/ckpt-17\n",
      "Epoch 5 Loss 0.2860 Accuracy 0.9148\n",
      "Time taken for 1 epoch: 9.33 secs\n",
      "\n",
      "Epoch 6 Batch 0 Loss 0.2786 Accuracy 0.9163\n",
      "Epoch 6 Batch 10 Loss 0.2604 Accuracy 0.9228\n",
      "Epoch 6 Batch 20 Loss 0.2838 Accuracy 0.9149\n",
      "Epoch 6 Batch 30 Loss 0.2789 Accuracy 0.9160\n",
      "Epoch 6 Loss 0.2875 Accuracy 0.9135\n",
      "Time taken for 1 epoch: 8.86 secs\n",
      "\n",
      "Epoch 7 Batch 0 Loss 0.3013 Accuracy 0.9156\n",
      "Epoch 7 Batch 10 Loss 0.2557 Accuracy 0.9258\n",
      "Epoch 7 Batch 20 Loss 0.2692 Accuracy 0.9206\n",
      "Epoch 7 Batch 30 Loss 0.2755 Accuracy 0.9179\n",
      "Epoch 7 Loss 0.2722 Accuracy 0.9190\n",
      "Time taken for 1 epoch: 9.22 secs\n",
      "\n",
      "Epoch 8 Batch 0 Loss 0.2361 Accuracy 0.9362\n",
      "Epoch 8 Batch 10 Loss 0.2348 Accuracy 0.9335\n",
      "Epoch 8 Batch 20 Loss 0.2481 Accuracy 0.9279\n",
      "Epoch 8 Batch 30 Loss 0.2588 Accuracy 0.9246\n",
      "Epoch 8 Loss 0.2690 Accuracy 0.9208\n",
      "Time taken for 1 epoch: 9.01 secs\n",
      "\n",
      "Epoch 9 Batch 0 Loss 0.2151 Accuracy 0.9327\n",
      "Epoch 9 Batch 10 Loss 0.2599 Accuracy 0.9218\n",
      "Epoch 9 Batch 20 Loss 0.2623 Accuracy 0.9214\n",
      "Epoch 9 Batch 30 Loss 0.2581 Accuracy 0.9228\n",
      "Epoch 9 Loss 0.2635 Accuracy 0.9211\n",
      "Time taken for 1 epoch: 8.98 secs\n",
      "\n",
      "Epoch 10 Batch 0 Loss 0.2398 Accuracy 0.9259\n",
      "Epoch 10 Batch 10 Loss 0.2306 Accuracy 0.9325\n",
      "Epoch 10 Batch 20 Loss 0.2547 Accuracy 0.9255\n",
      "Epoch 10 Batch 30 Loss 0.2608 Accuracy 0.9236\n",
      "Saving checkpoint for epoch 10 at ./checkpoints/train/ckpt-18\n",
      "Epoch 10 Loss 0.2637 Accuracy 0.9220\n",
      "Time taken for 1 epoch: 9.36 secs\n",
      "\n",
      "Epoch 11 Batch 0 Loss 0.2376 Accuracy 0.9374\n",
      "Epoch 11 Batch 10 Loss 0.2525 Accuracy 0.9268\n",
      "Epoch 11 Batch 20 Loss 0.2584 Accuracy 0.9234\n",
      "Epoch 11 Batch 30 Loss 0.2550 Accuracy 0.9241\n",
      "Epoch 11 Loss 0.2549 Accuracy 0.9231\n",
      "Time taken for 1 epoch: 8.67 secs\n",
      "\n",
      "Epoch 12 Batch 0 Loss 0.2140 Accuracy 0.9387\n",
      "Epoch 12 Batch 10 Loss 0.2320 Accuracy 0.9322\n",
      "Epoch 12 Batch 20 Loss 0.2289 Accuracy 0.9319\n",
      "Epoch 12 Batch 30 Loss 0.2353 Accuracy 0.9299\n",
      "Epoch 12 Loss 0.2407 Accuracy 0.9278\n",
      "Time taken for 1 epoch: 9.11 secs\n",
      "\n",
      "Epoch 13 Batch 0 Loss 0.2254 Accuracy 0.9365\n",
      "Epoch 13 Batch 10 Loss 0.2331 Accuracy 0.9318\n",
      "Epoch 13 Batch 20 Loss 0.2338 Accuracy 0.9307\n",
      "Epoch 13 Batch 30 Loss 0.2403 Accuracy 0.9283\n",
      "Epoch 13 Loss 0.2457 Accuracy 0.9265\n",
      "Time taken for 1 epoch: 9.14 secs\n",
      "\n",
      "Epoch 14 Batch 0 Loss 0.1625 Accuracy 0.9511\n",
      "Epoch 14 Batch 10 Loss 0.2315 Accuracy 0.9342\n",
      "Epoch 14 Batch 20 Loss 0.2442 Accuracy 0.9299\n",
      "Epoch 14 Batch 30 Loss 0.2412 Accuracy 0.9298\n",
      "Epoch 14 Loss 0.2439 Accuracy 0.9283\n",
      "Time taken for 1 epoch: 9.19 secs\n",
      "\n",
      "Epoch 15 Batch 0 Loss 0.2179 Accuracy 0.9291\n",
      "Epoch 15 Batch 10 Loss 0.2155 Accuracy 0.9349\n",
      "Epoch 15 Batch 20 Loss 0.2290 Accuracy 0.9313\n",
      "Epoch 15 Batch 30 Loss 0.2392 Accuracy 0.9272\n",
      "Saving checkpoint for epoch 15 at ./checkpoints/train/ckpt-19\n",
      "Epoch 15 Loss 0.2430 Accuracy 0.9267\n",
      "Time taken for 1 epoch: 9.72 secs\n",
      "\n",
      "Epoch 16 Batch 0 Loss 0.2156 Accuracy 0.9408\n",
      "Epoch 16 Batch 10 Loss 0.2377 Accuracy 0.9264\n",
      "Epoch 16 Batch 20 Loss 0.2285 Accuracy 0.9306\n",
      "Epoch 16 Batch 30 Loss 0.2354 Accuracy 0.9289\n",
      "Epoch 16 Loss 0.2383 Accuracy 0.9273\n",
      "Time taken for 1 epoch: 9.20 secs\n",
      "\n",
      "Epoch 17 Batch 0 Loss 0.1797 Accuracy 0.9425\n",
      "Epoch 17 Batch 10 Loss 0.1946 Accuracy 0.9412\n",
      "Epoch 17 Batch 20 Loss 0.2141 Accuracy 0.9360\n",
      "Epoch 17 Batch 30 Loss 0.2169 Accuracy 0.9347\n",
      "Epoch 17 Loss 0.2205 Accuracy 0.9335\n",
      "Time taken for 1 epoch: 8.93 secs\n",
      "\n",
      "Epoch 18 Batch 0 Loss 0.1599 Accuracy 0.9589\n",
      "Epoch 18 Batch 10 Loss 0.2058 Accuracy 0.9387\n",
      "Epoch 18 Batch 20 Loss 0.2061 Accuracy 0.9378\n",
      "Epoch 18 Batch 30 Loss 0.2103 Accuracy 0.9358\n",
      "Epoch 18 Loss 0.2174 Accuracy 0.9334\n",
      "Time taken for 1 epoch: 8.90 secs\n",
      "\n",
      "Epoch 19 Batch 0 Loss 0.0618 Accuracy 0.9886\n",
      "Epoch 19 Batch 10 Loss 0.2117 Accuracy 0.9330\n",
      "Epoch 19 Batch 20 Loss 0.2209 Accuracy 0.9302\n",
      "Epoch 19 Batch 30 Loss 0.2209 Accuracy 0.9314\n",
      "Epoch 19 Loss 0.2231 Accuracy 0.9308\n",
      "Time taken for 1 epoch: 9.23 secs\n",
      "\n",
      "Epoch 20 Batch 0 Loss 0.1634 Accuracy 0.9396\n",
      "Epoch 20 Batch 10 Loss 0.2079 Accuracy 0.9346\n",
      "Epoch 20 Batch 20 Loss 0.2027 Accuracy 0.9364\n",
      "Epoch 20 Batch 30 Loss 0.2109 Accuracy 0.9351\n",
      "Saving checkpoint for epoch 20 at ./checkpoints/train/ckpt-20\n",
      "Epoch 20 Loss 0.2137 Accuracy 0.9338\n",
      "Time taken for 1 epoch: 9.82 secs\n",
      "\n"
     ]
    }
   ],
   "source": [
    "for epoch in range(EPOCHS):\n",
    "  start = time.time()\n",
    "  \n",
    "  train_loss.reset_states()\n",
    "  train_accuracy.reset_states()\n",
    "  \n",
    "  # inp -> portuguese, tar -> english\n",
    "  for (batch, (inp, tar)) in enumerate(train_batches):\n",
    "    train_step(inp, tar)\n",
    "    \n",
    "    if batch % 10 == 0:\n",
    "      print(f'Epoch {epoch + 1} Batch {batch} Loss {train_loss.result():.4f} Accuracy {train_accuracy.result():.4f}')\n",
    "      \n",
    "  if (epoch + 1) % 5 == 0:\n",
    "    ckpt_save_path = ckpt_manager.save()\n",
    "    print (f'Saving checkpoint for epoch {epoch+1} at {ckpt_save_path}')\n",
    "    \n",
    "  print(f'Epoch {epoch + 1} Loss {train_loss.result():.4f} Accuracy {train_accuracy.result():.4f}')\n",
    "\n",
    "  print(f'Time taken for 1 epoch: {time.time() - start:.2f} secs\\n')"
   ]
  },
  {
   "cell_type": "markdown",
   "metadata": {
    "id": "QfcsSWswSdGV"
   },
   "source": [
    "## Evaluate"
   ]
  },
  {
   "cell_type": "markdown",
   "metadata": {
    "id": "y6APsFrgImLW"
   },
   "source": [
    "The following steps are used for evaluation:\n",
    "\n",
    "* Encode the input sentence using the Portuguese tokenizer (`tokenizers.pt`). This is the encoder input.\n",
    "* The decoder input is initialized to the `[START]` token.\n",
    "* Calculate the padding masks and the look ahead masks.\n",
    "* The `decoder` then outputs the predictions by looking at the `encoder output` and its own output (self-attention).\n",
    "* The model makes predictions of the next word for each word in the output. Most of these are redundant. Use the predictrions from the last word.\n",
    "* Concatentate the predicted word to the decoder input and pass it to the decoder.\n",
    "* In this approach, the decoder predicts the next word based on the previous words it predicted.\n",
    "\n",
    "Note: The model used here has less capacity to keep the example relatively faster so the predictions maybe less right. To reproduce the results in the paper, use the entire dataset and base transformer model or transformer XL, by changing the hyperparameters above."
   ]
  },
  {
   "cell_type": "code",
   "execution_count": 59,
   "metadata": {
    "execution": {
     "iopub.execute_input": "2021-02-04T02:39:34.305106Z",
     "iopub.status.busy": "2021-02-04T02:39:34.304418Z",
     "iopub.status.idle": "2021-02-04T02:39:34.306541Z",
     "shell.execute_reply": "2021-02-04T02:39:34.306078Z"
    },
    "id": "5buvMlnvyrFm"
   },
   "outputs": [],
   "source": [
    "def evaluate(sentence, max_length=40):\n",
    "  # inp sentence is portuguese, hence adding the start and end token\n",
    "  sentence = tf.convert_to_tensor([sentence])\n",
    "  sentence = tokenizers.en.tokenize(sentence).to_tensor()\n",
    "\n",
    "  encoder_input = sentence\n",
    "  \n",
    "  # as the target is english, the first word to the transformer should be the\n",
    "  # english start token.\n",
    "  # start, end = tokenizers.en.tokenize([''])[0]\n",
    "  start = vectorize(tf.convert_to_tensor(start_token))\n",
    "  end = vectorize(tf.convert_to_tensor(end_token)) - 1\n",
    "  output = tf.convert_to_tensor([start])\n",
    "  output = tf.expand_dims(output, 0)\n",
    "    \n",
    "  for i in range(max_length):\n",
    "    enc_padding_mask, combined_mask, dec_padding_mask = create_masks(\n",
    "        encoder_input, output)\n",
    "  \n",
    "    # predictions.shape == (batch_size, seq_len, vocab_size)\n",
    "    predictions, attention_weights = transformer(encoder_input, \n",
    "                                                 output,\n",
    "                                                 False,\n",
    "                                                 enc_padding_mask,\n",
    "                                                 combined_mask,\n",
    "                                                 dec_padding_mask)\n",
    "    \n",
    "    # select the last word from the seq_len dimension\n",
    "    predictions = predictions[: ,-1:, :]  # (batch_size, 1, vocab_size)\n",
    "\n",
    "    predicted_id = tf.argmax(predictions, axis=-1)\n",
    "\n",
    "    # concatentate the predicted_id to the output which is given to the decoder\n",
    "    # as its input.\n",
    "    output = tf.concat([output, predicted_id], axis=-1)\n",
    "    \n",
    "    # return the result if the predicted_id is equal to the end token\n",
    "    if predicted_id == end:\n",
    "      break\n",
    "\n",
    "  # output.shape (1, tokens)\n",
    "  # text = tokenizers.en.detokenize(output)[0] # shape: ()\n",
    "  tokens = inverse_vectorize(output - 1)[0]\n",
    "  text = tf.strings.join(tokens, separator=' ').numpy()\n",
    "\n",
    "  # tokens = tokenizers.en.lookup(output)[0]\n",
    "  \n",
    "  return text, tokens, attention_weights"
   ]
  },
  {
   "cell_type": "code",
   "execution_count": 60,
   "metadata": {},
   "outputs": [
    {
     "data": {
      "text/plain": [
       "<tf.Tensor: shape=(), dtype=string, numpy=b'[END]'>"
      ]
     },
     "execution_count": 60,
     "metadata": {},
     "output_type": "execute_result"
    }
   ],
   "source": [
    "inverse_vectorize(vectorize(end_token) - 1)"
   ]
  },
  {
   "cell_type": "code",
   "execution_count": 61,
   "metadata": {
    "execution": {
     "iopub.execute_input": "2021-02-04T02:39:34.310804Z",
     "iopub.status.busy": "2021-02-04T02:39:34.310172Z",
     "iopub.status.idle": "2021-02-04T02:39:34.312477Z",
     "shell.execute_reply": "2021-02-04T02:39:34.312070Z"
    },
    "id": "lU2_yG_vBGza"
   },
   "outputs": [],
   "source": [
    "def print_translation(sentence, tokens, ground_truth):\n",
    "  print(f'{\"Input:\":15s}: {sentence}')\n",
    "  print(f'{\"Prediction\":15s}: {tokens}')\n",
    "  print(f'{\"Ground truth\":15s}: {ground_truth}')\n",
    "  "
   ]
  },
  {
   "cell_type": "code",
   "execution_count": 62,
   "metadata": {
    "execution": {
     "iopub.execute_input": "2021-02-04T02:39:34.317525Z",
     "iopub.status.busy": "2021-02-04T02:39:34.316406Z",
     "iopub.status.idle": "2021-02-04T02:39:35.976121Z",
     "shell.execute_reply": "2021-02-04T02:39:35.975584Z"
    },
    "id": "YsxrAlvFG8SZ"
   },
   "outputs": [
    {
     "name": "stdout",
     "output_type": "stream",
     "text": [
      "Input:         : send a signal `signal.SIGUSR1` to the current process\n",
      "Prediction     : b\"[START] utf-8 p = subprocess . Popen ( [ 'grep' , 'f' ] , stdout = subprocess . PIPE , stderr = subprocess . STDOUT ) \\n p . from_string ( p . from_string ( '.' ) ) . wait (\"\n",
      "Ground truth   : os.kill(os.getpid(), signal.SIGUSR1)\n"
     ]
    }
   ],
   "source": [
    "sentence = \"send a signal `signal.SIGUSR1` to the current process\"\n",
    "ground_truth = \"os.kill(os.getpid(), signal.SIGUSR1)\"\n",
    "\n",
    "translated_text, translated_tokens, attention_weights = evaluate(sentence)\n",
    "print_translation(sentence, translated_text, ground_truth)"
   ]
  },
  {
   "cell_type": "code",
   "execution_count": 63,
   "metadata": {
    "execution": {
     "iopub.execute_input": "2021-02-04T02:39:35.980908Z",
     "iopub.status.busy": "2021-02-04T02:39:35.979974Z",
     "iopub.status.idle": "2021-02-04T02:39:36.841973Z",
     "shell.execute_reply": "2021-02-04T02:39:36.841460Z"
    },
    "id": "7EH5y_aqI4t1"
   },
   "outputs": [
    {
     "name": "stdout",
     "output_type": "stream",
     "text": [
      "Input:         : decode a hex string '4a4b4c' to UTF-8.\n",
      "Prediction     : b\"[START] utf-8 print ( '\\\\xc5\\\\xc4\\\\xd6' . encode ( 'ascii' ( 'ascii' ) ) . encode ( 'ascii' ( 'utf-8' ) ) ) . decode ( 'utf-8' ) ) . decode ( 'utf-8' ) ) . encode ( 'hex' ) . encode\"\n",
      "Ground truth   : bytes.fromhex('4a4b4c').decode('utf-8')\n"
     ]
    }
   ],
   "source": [
    "sentence = \"decode a hex string '4a4b4c' to UTF-8.\"\n",
    "ground_truth = \"bytes.fromhex('4a4b4c').decode('utf-8')\"\n",
    "\n",
    "translated_text, translated_tokens, attention_weights = evaluate(sentence)\n",
    "print_translation(sentence, translated_text, ground_truth)"
   ]
  },
  {
   "cell_type": "code",
   "execution_count": 64,
   "metadata": {
    "execution": {
     "iopub.execute_input": "2021-02-04T02:39:36.847205Z",
     "iopub.status.busy": "2021-02-04T02:39:36.846309Z",
     "iopub.status.idle": "2021-02-04T02:39:38.882353Z",
     "shell.execute_reply": "2021-02-04T02:39:38.881840Z"
    },
    "id": "J-hVCTSUMlkb"
   },
   "outputs": [
    {
     "name": "stdout",
     "output_type": "stream",
     "text": [
      "Input:         : Format a datetime string `when` to extract date only\n",
      "Prediction     : b\"[START] utf-8 [ ( datetime . datetime . now ( ) for datetime in datetime . now ( ) ] ) . strftime ( '%a' ) ] ) ] ) ] for t [END] in s . isoformat ( ) ]\"\n",
      "Ground truth   : then = datetime.datetime.strptime(when, '%Y-%m-%d').date()\n"
     ]
    }
   ],
   "source": [
    "sentence = \"Format a datetime string `when` to extract date only\"\n",
    "ground_truth = \"then = datetime.datetime.strptime(when, '%Y-%m-%d').date()\"\n",
    "\n",
    "translated_text, translated_tokens, attention_weights = evaluate(sentence)\n",
    "print_translation(sentence, translated_text, ground_truth)"
   ]
  },
  {
   "cell_type": "markdown",
   "metadata": {
    "id": "_1MxkSZvz0jX"
   },
   "source": [
    "You can pass different layers and attention blocks of the decoder to the `plot` parameter."
   ]
  },
  {
   "cell_type": "markdown",
   "metadata": {
    "id": "S3EQiFUC--Ds"
   },
   "source": [
    "## Attention plots"
   ]
  },
  {
   "cell_type": "markdown",
   "metadata": {
    "id": "hHV2pdXHGz-0"
   },
   "source": [
    "The `evaluate` function also returns a dictionary of attention maps you can use to visualize the internal working of the model:"
   ]
  },
  {
   "cell_type": "code",
   "execution_count": 65,
   "metadata": {
    "execution": {
     "iopub.execute_input": "2021-02-04T02:39:38.887671Z",
     "iopub.status.busy": "2021-02-04T02:39:38.886693Z",
     "iopub.status.idle": "2021-02-04T02:39:39.832813Z",
     "shell.execute_reply": "2021-02-04T02:39:39.832327Z"
    },
    "id": "t-kFyiOLH0xg"
   },
   "outputs": [
    {
     "name": "stdout",
     "output_type": "stream",
     "text": [
      "Input:         : Calculate sum over all rows of 2D numpy array\n",
      "Prediction     : b'[START] utf-8 np . where ( np . arange ( len ( x ) ) ) . all ( ) ) , np . sum ( ) ) [ : 2 ] ) ) ) ) . all ( axis ='\n",
      "Ground truth   : a.sum(axis=1)\n"
     ]
    }
   ],
   "source": [
    "sentence = \"Calculate sum over all rows of 2D numpy array\"\n",
    "ground_truth = \"a.sum(axis=1)\"\n",
    "\n",
    "translated_text, translated_tokens, attention_weights = evaluate(sentence)\n",
    "print_translation(sentence, translated_text, ground_truth)"
   ]
  },
  {
   "cell_type": "code",
   "execution_count": 66,
   "metadata": {
    "execution": {
     "iopub.execute_input": "2021-02-04T02:39:39.838254Z",
     "iopub.status.busy": "2021-02-04T02:39:39.837661Z",
     "iopub.status.idle": "2021-02-04T02:39:39.839958Z",
     "shell.execute_reply": "2021-02-04T02:39:39.839502Z"
    },
    "id": "CcI4DxAK5EHY"
   },
   "outputs": [],
   "source": [
    "def plot_attention_head(in_tokens, translated_tokens, attention):\n",
    "  # The plot is of the attention when a token was generated.\n",
    "  # The model didn't generate `<START>` in the output. Skip it. \n",
    "  translated_tokens = translated_tokens[1:]\n",
    "\n",
    "  ax = plt.gca()\n",
    "  ax.matshow(attention)\n",
    "  ax.set_xticks(range(len(in_tokens)))\n",
    "  ax.set_yticks(range(len(translated_tokens)))\n",
    "\n",
    "  \n",
    "  labels = [label.decode('utf-8') for label in in_tokens.numpy()]\n",
    "  ax.set_xticklabels(\n",
    "      labels, rotation=90)\n",
    "  \n",
    "  labels = [label.decode('utf-8') for label in translated_tokens.numpy()]\n",
    "  ax.set_yticklabels(labels)"
   ]
  },
  {
   "cell_type": "code",
   "execution_count": 67,
   "metadata": {
    "execution": {
     "iopub.execute_input": "2021-02-04T02:39:39.843896Z",
     "iopub.status.busy": "2021-02-04T02:39:39.843277Z",
     "iopub.status.idle": "2021-02-04T02:39:39.846540Z",
     "shell.execute_reply": "2021-02-04T02:39:39.846948Z"
    },
    "id": "_KY4c2cryuxY"
   },
   "outputs": [
    {
     "data": {
      "text/plain": [
       "TensorShape([40, 15])"
      ]
     },
     "execution_count": 67,
     "metadata": {},
     "output_type": "execute_result"
    }
   ],
   "source": [
    "head = 0\n",
    "# shape: (batch=1, num_heads, seq_len_q, seq_len_k)\n",
    "attention_heads = tf.squeeze(\n",
    "  attention_weights['decoder_layer4_block2'], 0)\n",
    "attention = attention_heads[head]\n",
    "attention.shape  "
   ]
  },
  {
   "cell_type": "code",
   "execution_count": 68,
   "metadata": {
    "execution": {
     "iopub.execute_input": "2021-02-04T02:39:39.851785Z",
     "iopub.status.busy": "2021-02-04T02:39:39.850800Z",
     "iopub.status.idle": "2021-02-04T02:39:39.870136Z",
     "shell.execute_reply": "2021-02-04T02:39:39.869618Z"
    },
    "id": "XdxmakWE6Om3"
   },
   "outputs": [
    {
     "data": {
      "text/plain": [
       "<tf.Tensor: shape=(24,), dtype=string, numpy=\n",
       "array([b'[START]', b'ca', b'##l', b'##cula', b'##te', b's', b'##um', b'o',\n",
       "       b'##ver', b'al', b'##l', b'r', b'##o', b'##ws', b'of', b'2',\n",
       "       b'##d', b'num', b'##p', b'##y', b'ar', b'##ra', b'##y', b'[END]'],\n",
       "      dtype=object)>"
      ]
     },
     "execution_count": 68,
     "metadata": {},
     "output_type": "execute_result"
    }
   ],
   "source": [
    "in_tokens = tf.convert_to_tensor([sentence])\n",
    "in_tokens = tokenizers.pt.tokenize(in_tokens).to_tensor()\n",
    "in_tokens = tokenizers.pt.lookup(in_tokens)[0]\n",
    "in_tokens"
   ]
  },
  {
   "cell_type": "code",
   "execution_count": 69,
   "metadata": {
    "execution": {
     "iopub.execute_input": "2021-02-04T02:39:39.874725Z",
     "iopub.status.busy": "2021-02-04T02:39:39.873972Z",
     "iopub.status.idle": "2021-02-04T02:39:39.876879Z",
     "shell.execute_reply": "2021-02-04T02:39:39.877309Z"
    },
    "id": "hVdPSfecmrpj"
   },
   "outputs": [
    {
     "data": {
      "text/plain": [
       "<tf.Tensor: shape=(41,), dtype=string, numpy=\n",
       "array([b'[START]', b'utf-8', b'np', b'.', b'where', b'(', b'np', b'.',\n",
       "       b'arange', b'(', b'len', b'(', b'x', b')', b')', b')', b'.',\n",
       "       b'all', b'(', b')', b')', b',', b'np', b'.', b'sum', b'(', b')',\n",
       "       b')', b'[', b':', b'2', b']', b')', b')', b')', b')', b'.', b'all',\n",
       "       b'(', b'axis', b'='], dtype=object)>"
      ]
     },
     "execution_count": 69,
     "metadata": {},
     "output_type": "execute_result"
    }
   ],
   "source": [
    "translated_tokens"
   ]
  },
  {
   "cell_type": "code",
   "execution_count": 70,
   "metadata": {
    "execution": {
     "iopub.execute_input": "2021-02-04T02:39:39.881622Z",
     "iopub.status.busy": "2021-02-04T02:39:39.880666Z",
     "iopub.status.idle": "2021-02-04T02:39:40.115448Z",
     "shell.execute_reply": "2021-02-04T02:39:40.114807Z"
    },
    "id": "XtzyKCFamm4N"
   },
   "outputs": [
    {
     "data": {
      "image/png": "[encoded data removed]",
      "text/plain": [
       "<Figure size 432x288 with 1 Axes>"
      ]
     },
     "metadata": {
      "needs_background": "light"
     },
     "output_type": "display_data"
    }
   ],
   "source": [
    "plot_attention_head(in_tokens, translated_tokens, attention)"
   ]
  },
  {
   "cell_type": "code",
   "execution_count": 71,
   "metadata": {
    "execution": {
     "iopub.execute_input": "2021-02-04T02:39:40.121798Z",
     "iopub.status.busy": "2021-02-04T02:39:40.121127Z",
     "iopub.status.idle": "2021-02-04T02:39:40.123676Z",
     "shell.execute_reply": "2021-02-04T02:39:40.123200Z"
    },
    "id": "MBliB-PCzNK3"
   },
   "outputs": [],
   "source": [
    "def plot_attention_weights(sentence, translated_tokens, attention_heads):\n",
    "  in_tokens = tf.convert_to_tensor([sentence])\n",
    "  in_tokens = tokenizers.pt.tokenize(in_tokens).to_tensor()\n",
    "  in_tokens = tokenizers.pt.lookup(in_tokens)[0]\n",
    "  in_tokens\n",
    "  \n",
    "  fig = plt.figure(figsize=(16, 8))\n",
    "  \n",
    "  for h, head in enumerate(attention_heads):\n",
    "    ax = fig.add_subplot(2, 4, h+1)\n",
    "    \n",
    "    plot_attention_head(in_tokens, translated_tokens, head)\n",
    "    \n",
    "    ax.set_xlabel('Head {}'.format(h+1))\n",
    "  \n",
    "  plt.tight_layout()\n",
    "  plt.show()"
   ]
  },
  {
   "cell_type": "code",
   "execution_count": 72,
   "metadata": {
    "execution": {
     "iopub.execute_input": "2021-02-04T02:39:40.128618Z",
     "iopub.status.busy": "2021-02-04T02:39:40.127738Z",
     "iopub.status.idle": "2021-02-04T02:39:41.444542Z",
     "shell.execute_reply": "2021-02-04T02:39:41.444963Z"
    },
    "id": "pyRQi7944wru"
   },
   "outputs": [
    {
     "data": {
      "image/png": "[encoded data removed]",
      "text/plain": [
       "<Figure size 1152x576 with 8 Axes>"
      ]
     },
     "metadata": {
      "needs_background": "light"
     },
     "output_type": "display_data"
    }
   ],
   "source": [
    "plot_attention_weights(sentence, translated_tokens,\n",
    "                       attention_weights['decoder_layer4_block2'][0])"
   ]
  },
  {
   "cell_type": "markdown",
   "metadata": {
    "id": "MZJirKUtikTt"
   },
   "source": [
    "The model does okay on unfamiliar words. Neither \"triceratops\" or \"encyclopedia\" are in the input dataset and the model almost learns to transliterare them, even withoput a shared vocabulary:"
   ]
  },
  {
   "cell_type": "code",
   "execution_count": 73,
   "metadata": {
    "execution": {
     "iopub.execute_input": "2021-02-04T02:39:41.450413Z",
     "iopub.status.busy": "2021-02-04T02:39:41.449440Z",
     "iopub.status.idle": "2021-02-04T02:39:45.089463Z",
     "shell.execute_reply": "2021-02-04T02:39:45.089973Z"
    },
    "id": "9cxysY7uh3jg"
   },
   "outputs": [
    {
     "name": "stdout",
     "output_type": "stream",
     "text": [
      "Input:         : concatenate items of list `l` with a space ' '\n",
      "Prediction     : b\"[START] utf-8 [ ( int ( x ) for x in data ( ) ] ) . split ( ',' ) ] ( int ( '.' ) ] ) ] ) ] ) ] ) ] ( data . split (\"\n",
      "Ground truth   : print(' '.join(map(str, l)))\n"
     ]
    },
    {
     "data": {
      "image/png": "[encoded data removed]",
      "text/plain": [
       "<Figure size 1152x576 with 8 Axes>"
      ]
     },
     "metadata": {
      "needs_background": "light"
     },
     "output_type": "display_data"
    }
   ],
   "source": [
    "sentence = \"concatenate items of list `l` with a space ' '\"\n",
    "ground_truth = \"print(' '.join(map(str, l)))\"\n",
    "\n",
    "translated_text, translated_tokens, attention_weights = evaluate(sentence)\n",
    "print_translation(sentence, translated_text, ground_truth)\n",
    "\n",
    "plot_attention_weights(sentence, translated_tokens,\n",
    "                       attention_weights['decoder_layer4_block2'][0])"
   ]
  },
  {
   "cell_type": "markdown",
   "metadata": {
    "id": "RqQ1fIsLwkGE"
   },
   "source": [
    "## Summary\n",
    "\n",
    "In this tutorial, you learned about positional encoding, multi-head attention, the importance of masking and how to create a transformer.\n",
    "\n",
    "Try using a different dataset to train the transformer. You can also create the base transformer or transformer XL by changing the hyperparameters above. You can also use the layers defined here to create [BERT](https://arxiv.org/abs/1810.04805) and train state of the art models. Furthermore, you can implement beam search to get better predictions."
   ]
  }
 ],
 "metadata": {
  "accelerator": "GPU",
  "colab": {
   "collapsed_sections": [],
   "name": "transformer.ipynb",
   "toc_visible": true
  },
  "kernelspec": {
   "display_name": "Python 3",
   "language": "python",
   "name": "python3"
  },
  "language_info": {
   "codemirror_mode": {
    "name": "ipython",
    "version": 3
   },
   "file_extension": ".py",
   "mimetype": "text/x-python",
   "name": "python",
   "nbconvert_exporter": "python",
   "pygments_lexer": "ipython3",
   "version": "3.8.3"
  }
 },
 "nbformat": 4,
 "nbformat_minor": 1
}
